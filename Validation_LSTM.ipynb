{
 "cells": [
  {
   "cell_type": "code",
   "execution_count": 92,
   "metadata": {},
   "outputs": [],
   "source": [
    "import numpy as np\n",
    "import pandas as pd\n",
    "from sklearn.model_selection import train_test_split\n",
    "from sklearn.preprocessing import MinMaxScaler\n",
    "import keras\n",
    "import joblib\n",
    "import utm\n",
    "import tensorflow as tf\n",
    "import matplotlib.pyplot as plt\n",
    "physical_devices = tf.config.list_physical_devices('GPU')\n",
    "tf.config.experimental.set_memory_growth(physical_devices[0], enable=True)"
   ]
  },
  {
   "cell_type": "code",
   "execution_count": 93,
   "metadata": {},
   "outputs": [],
   "source": [
    "### Enter Sequence Length below that should be used for Validation check"
   ]
  },
  {
   "cell_type": "code",
   "execution_count": 94,
   "metadata": {},
   "outputs": [],
   "source": [
    "total_seq_len = 100"
   ]
  },
  {
   "cell_type": "code",
   "execution_count": 95,
   "metadata": {},
   "outputs": [
    {
     "data": {
      "text/html": [
       "<div>\n",
       "<style scoped>\n",
       "    .dataframe tbody tr th:only-of-type {\n",
       "        vertical-align: middle;\n",
       "    }\n",
       "\n",
       "    .dataframe tbody tr th {\n",
       "        vertical-align: top;\n",
       "    }\n",
       "\n",
       "    .dataframe thead th {\n",
       "        text-align: right;\n",
       "    }\n",
       "</style>\n",
       "<table border=\"1\" class=\"dataframe\">\n",
       "  <thead>\n",
       "    <tr style=\"text-align: right;\">\n",
       "      <th></th>\n",
       "      <th>Unnamed: 0</th>\n",
       "      <th>Vehicle_ID</th>\n",
       "      <th>X</th>\n",
       "      <th>Y</th>\n",
       "      <th>X_REL</th>\n",
       "      <th>Y_REL</th>\n",
       "    </tr>\n",
       "  </thead>\n",
       "  <tbody>\n",
       "    <tr>\n",
       "      <th>count</th>\n",
       "      <td>300000.000000</td>\n",
       "      <td>300000.000000</td>\n",
       "      <td>300000.000000</td>\n",
       "      <td>300000.000000</td>\n",
       "      <td>3.000000e+05</td>\n",
       "      <td>3.000000e+05</td>\n",
       "    </tr>\n",
       "    <tr>\n",
       "      <th>mean</th>\n",
       "      <td>149999.500000</td>\n",
       "      <td>149975.000000</td>\n",
       "      <td>151.188246</td>\n",
       "      <td>-33.894559</td>\n",
       "      <td>-5.550338e-07</td>\n",
       "      <td>-4.796188e-07</td>\n",
       "    </tr>\n",
       "    <tr>\n",
       "      <th>std</th>\n",
       "      <td>86602.684716</td>\n",
       "      <td>86602.683514</td>\n",
       "      <td>0.002013</td>\n",
       "      <td>0.001323</td>\n",
       "      <td>1.358794e-05</td>\n",
       "      <td>8.747005e-06</td>\n",
       "    </tr>\n",
       "    <tr>\n",
       "      <th>min</th>\n",
       "      <td>0.000000</td>\n",
       "      <td>0.000000</td>\n",
       "      <td>151.184856</td>\n",
       "      <td>-33.896419</td>\n",
       "      <td>-5.215619e-05</td>\n",
       "      <td>-3.939190e-05</td>\n",
       "    </tr>\n",
       "    <tr>\n",
       "      <th>25%</th>\n",
       "      <td>74999.750000</td>\n",
       "      <td>74987.500000</td>\n",
       "      <td>151.187367</td>\n",
       "      <td>-33.895328</td>\n",
       "      <td>-5.693877e-06</td>\n",
       "      <td>-4.843689e-06</td>\n",
       "    </tr>\n",
       "    <tr>\n",
       "      <th>50%</th>\n",
       "      <td>149999.500000</td>\n",
       "      <td>149975.000000</td>\n",
       "      <td>151.187602</td>\n",
       "      <td>-33.894768</td>\n",
       "      <td>0.000000e+00</td>\n",
       "      <td>0.000000e+00</td>\n",
       "    </tr>\n",
       "    <tr>\n",
       "      <th>75%</th>\n",
       "      <td>224999.250000</td>\n",
       "      <td>224962.500000</td>\n",
       "      <td>151.188670</td>\n",
       "      <td>-33.894289</td>\n",
       "      <td>4.760093e-06</td>\n",
       "      <td>3.766334e-06</td>\n",
       "    </tr>\n",
       "    <tr>\n",
       "      <th>max</th>\n",
       "      <td>299999.000000</td>\n",
       "      <td>299950.000000</td>\n",
       "      <td>151.194422</td>\n",
       "      <td>-33.889777</td>\n",
       "      <td>5.269389e-05</td>\n",
       "      <td>4.025902e-05</td>\n",
       "    </tr>\n",
       "  </tbody>\n",
       "</table>\n",
       "</div>"
      ],
      "text/plain": [
       "          Unnamed: 0     Vehicle_ID              X              Y  \\\n",
       "count  300000.000000  300000.000000  300000.000000  300000.000000   \n",
       "mean   149999.500000  149975.000000     151.188246     -33.894559   \n",
       "std     86602.684716   86602.683514       0.002013       0.001323   \n",
       "min         0.000000       0.000000     151.184856     -33.896419   \n",
       "25%     74999.750000   74987.500000     151.187367     -33.895328   \n",
       "50%    149999.500000  149975.000000     151.187602     -33.894768   \n",
       "75%    224999.250000  224962.500000     151.188670     -33.894289   \n",
       "max    299999.000000  299950.000000     151.194422     -33.889777   \n",
       "\n",
       "              X_REL         Y_REL  \n",
       "count  3.000000e+05  3.000000e+05  \n",
       "mean  -5.550338e-07 -4.796188e-07  \n",
       "std    1.358794e-05  8.747005e-06  \n",
       "min   -5.215619e-05 -3.939190e-05  \n",
       "25%   -5.693877e-06 -4.843689e-06  \n",
       "50%    0.000000e+00  0.000000e+00  \n",
       "75%    4.760093e-06  3.766334e-06  \n",
       "max    5.269389e-05  4.025902e-05  "
      ]
     },
     "execution_count": 95,
     "metadata": {},
     "output_type": "execute_result"
    }
   ],
   "source": [
    "#unseen validation data\n",
    "\n",
    "data = pd.read_csv(\"traj_data_v2_validation.csv\")\n",
    "#data = pd.read_csv(\"traj_data_v2_100_seq.csv\")\n",
    "\n",
    "data.describe()"
   ]
  },
  {
   "cell_type": "code",
   "execution_count": 98,
   "metadata": {},
   "outputs": [
    {
     "name": "stderr",
     "output_type": "stream",
     "text": [
      "c:\\users\\dnybe\\anaconda3\\envs\\tf_gpu\\lib\\site-packages\\sklearn\\base.py:334: UserWarning: Trying to unpickle estimator MinMaxScaler from version 0.22.2.post1 when using version 0.23.2. This might lead to breaking code or invalid results. Use at your own risk.\n",
      "  UserWarning)\n"
     ]
    }
   ],
   "source": [
    "global scaler\n",
    "scaler = joblib.load(\"scaler.save\")"
   ]
  },
  {
   "cell_type": "code",
   "execution_count": 99,
   "metadata": {},
   "outputs": [],
   "source": [
    "\"\"\"\n",
    "Preprocess data, removed torch tensors return type, now np arrays\n",
    "\"\"\"\n",
    "def preprocess_dataset(data, max = 10, max_len = 40, input_len = 30):\n",
    "    scaler = MinMaxScaler(feature_range=(0, max))\n",
    "    data[['X_REL', 'Y_REL']] = scaler.fit_transform(data[['X_REL', 'Y_REL']])\n",
    "    #data[['X_REL', 'Y_REL']] = scaler.transform(data[['X_REL', 'Y_REL']])\n",
    "    unique_peds = data['Vehicle_ID'].unique()\n",
    "    unique_peds = sorted(unique_peds)\n",
    "    inputs = []\n",
    "    outputs = []\n",
    "    indexes = []\n",
    "    for ped in unique_peds:\n",
    "        if (len(data[data['Vehicle_ID'] == ped]) >= max_len):\n",
    "          seq_inner = []\n",
    "          indexes_inner = []\n",
    "          i = 0\n",
    "          for indx, row in data[data['Vehicle_ID'] == ped].iterrows():\n",
    "            x = round(row['X_REL'])\n",
    "            y = round(row['Y_REL'])\n",
    "            ## Cantor pairing function:\n",
    "            bin = y * max + x\n",
    "            i += 1\n",
    "            if i == max_len:\n",
    "              break\n",
    "            seq_inner.append(int(bin))\n",
    "            indexes_inner.append(ped)\n",
    "          inputs.append([seq_inner[0:input_len]])\n",
    "          outputs.append([seq_inner[input_len + 1:]])\n",
    "          indexes.append([indexes_inner])\n",
    "        \n",
    "    train_inputs, test_inputs, train_targets, test_targets, train_indx, test_indx = train_test_split(inputs, outputs, indexes, train_size=0.7, random_state=0)\n",
    "    return np.array(train_inputs), np.array(test_inputs), np.array(train_targets), np.array(test_targets), train_indx, test_indx"
   ]
  },
  {
   "cell_type": "code",
   "execution_count": 100,
   "metadata": {},
   "outputs": [
    {
     "ename": "ValueError",
     "evalue": "With n_samples=0, test_size=None and train_size=0.7, the resulting train set will be empty. Adjust any of the aforementioned parameters.",
     "output_type": "error",
     "traceback": [
      "\u001b[1;31m---------------------------------------------------------------------------\u001b[0m",
      "\u001b[1;31mValueError\u001b[0m                                Traceback (most recent call last)",
      "\u001b[1;32m<ipython-input-100-c26c1ab34004>\u001b[0m in \u001b[0;36m<module>\u001b[1;34m\u001b[0m\n\u001b[1;32m----> 1\u001b[1;33m \u001b[0mtrain_data_inputs\u001b[0m\u001b[1;33m,\u001b[0m \u001b[0mtest_data_inputs\u001b[0m\u001b[1;33m,\u001b[0m \u001b[0mtrain_data_targets\u001b[0m\u001b[1;33m,\u001b[0m \u001b[0mtest_data_targets\u001b[0m\u001b[1;33m,\u001b[0m \u001b[0mtrain_indx\u001b[0m\u001b[1;33m,\u001b[0m \u001b[0mtest_indx\u001b[0m \u001b[1;33m=\u001b[0m \u001b[0mpreprocess_dataset\u001b[0m\u001b[1;33m(\u001b[0m\u001b[0mdata\u001b[0m\u001b[1;33m,\u001b[0m \u001b[0mmax\u001b[0m \u001b[1;33m=\u001b[0m \u001b[1;36m100\u001b[0m\u001b[1;33m,\u001b[0m \u001b[0mmax_len\u001b[0m \u001b[1;33m=\u001b[0m \u001b[0mtotal_seq_len\u001b[0m\u001b[1;33m,\u001b[0m \u001b[0minput_len\u001b[0m \u001b[1;33m=\u001b[0m \u001b[1;36m20\u001b[0m\u001b[1;33m)\u001b[0m\u001b[1;33m\u001b[0m\u001b[1;33m\u001b[0m\u001b[0m\n\u001b[0m",
      "\u001b[1;32m<ipython-input-99-bd20da7cedda>\u001b[0m in \u001b[0;36mpreprocess_dataset\u001b[1;34m(data, max, max_len, input_len)\u001b[0m\n\u001b[0;32m     30\u001b[0m           \u001b[0mindexes\u001b[0m\u001b[1;33m.\u001b[0m\u001b[0mappend\u001b[0m\u001b[1;33m(\u001b[0m\u001b[1;33m[\u001b[0m\u001b[0mindexes_inner\u001b[0m\u001b[1;33m]\u001b[0m\u001b[1;33m)\u001b[0m\u001b[1;33m\u001b[0m\u001b[1;33m\u001b[0m\u001b[0m\n\u001b[0;32m     31\u001b[0m \u001b[1;33m\u001b[0m\u001b[0m\n\u001b[1;32m---> 32\u001b[1;33m     \u001b[0mtrain_inputs\u001b[0m\u001b[1;33m,\u001b[0m \u001b[0mtest_inputs\u001b[0m\u001b[1;33m,\u001b[0m \u001b[0mtrain_targets\u001b[0m\u001b[1;33m,\u001b[0m \u001b[0mtest_targets\u001b[0m\u001b[1;33m,\u001b[0m \u001b[0mtrain_indx\u001b[0m\u001b[1;33m,\u001b[0m \u001b[0mtest_indx\u001b[0m \u001b[1;33m=\u001b[0m \u001b[0mtrain_test_split\u001b[0m\u001b[1;33m(\u001b[0m\u001b[0minputs\u001b[0m\u001b[1;33m,\u001b[0m \u001b[0moutputs\u001b[0m\u001b[1;33m,\u001b[0m \u001b[0mindexes\u001b[0m\u001b[1;33m,\u001b[0m \u001b[0mtrain_size\u001b[0m\u001b[1;33m=\u001b[0m\u001b[1;36m0.7\u001b[0m\u001b[1;33m,\u001b[0m \u001b[0mrandom_state\u001b[0m\u001b[1;33m=\u001b[0m\u001b[1;36m0\u001b[0m\u001b[1;33m)\u001b[0m\u001b[1;33m\u001b[0m\u001b[1;33m\u001b[0m\u001b[0m\n\u001b[0m\u001b[0;32m     33\u001b[0m     \u001b[1;32mreturn\u001b[0m \u001b[0mnp\u001b[0m\u001b[1;33m.\u001b[0m\u001b[0marray\u001b[0m\u001b[1;33m(\u001b[0m\u001b[0mtrain_inputs\u001b[0m\u001b[1;33m)\u001b[0m\u001b[1;33m,\u001b[0m \u001b[0mnp\u001b[0m\u001b[1;33m.\u001b[0m\u001b[0marray\u001b[0m\u001b[1;33m(\u001b[0m\u001b[0mtest_inputs\u001b[0m\u001b[1;33m)\u001b[0m\u001b[1;33m,\u001b[0m \u001b[0mnp\u001b[0m\u001b[1;33m.\u001b[0m\u001b[0marray\u001b[0m\u001b[1;33m(\u001b[0m\u001b[0mtrain_targets\u001b[0m\u001b[1;33m)\u001b[0m\u001b[1;33m,\u001b[0m \u001b[0mnp\u001b[0m\u001b[1;33m.\u001b[0m\u001b[0marray\u001b[0m\u001b[1;33m(\u001b[0m\u001b[0mtest_targets\u001b[0m\u001b[1;33m)\u001b[0m\u001b[1;33m,\u001b[0m \u001b[0mtrain_indx\u001b[0m\u001b[1;33m,\u001b[0m \u001b[0mtest_indx\u001b[0m\u001b[1;33m\u001b[0m\u001b[1;33m\u001b[0m\u001b[0m\n",
      "\u001b[1;32mc:\\users\\dnybe\\anaconda3\\envs\\tf_gpu\\lib\\site-packages\\sklearn\\model_selection\\_split.py\u001b[0m in \u001b[0;36mtrain_test_split\u001b[1;34m(*arrays, **options)\u001b[0m\n\u001b[0;32m   2129\u001b[0m     \u001b[0mn_samples\u001b[0m \u001b[1;33m=\u001b[0m \u001b[0m_num_samples\u001b[0m\u001b[1;33m(\u001b[0m\u001b[0marrays\u001b[0m\u001b[1;33m[\u001b[0m\u001b[1;36m0\u001b[0m\u001b[1;33m]\u001b[0m\u001b[1;33m)\u001b[0m\u001b[1;33m\u001b[0m\u001b[1;33m\u001b[0m\u001b[0m\n\u001b[0;32m   2130\u001b[0m     n_train, n_test = _validate_shuffle_split(n_samples, test_size, train_size,\n\u001b[1;32m-> 2131\u001b[1;33m                                               default_test_size=0.25)\n\u001b[0m\u001b[0;32m   2132\u001b[0m \u001b[1;33m\u001b[0m\u001b[0m\n\u001b[0;32m   2133\u001b[0m     \u001b[1;32mif\u001b[0m \u001b[0mshuffle\u001b[0m \u001b[1;32mis\u001b[0m \u001b[1;32mFalse\u001b[0m\u001b[1;33m:\u001b[0m\u001b[1;33m\u001b[0m\u001b[1;33m\u001b[0m\u001b[0m\n",
      "\u001b[1;32mc:\\users\\dnybe\\anaconda3\\envs\\tf_gpu\\lib\\site-packages\\sklearn\\model_selection\\_split.py\u001b[0m in \u001b[0;36m_validate_shuffle_split\u001b[1;34m(n_samples, test_size, train_size, default_test_size)\u001b[0m\n\u001b[0;32m   1812\u001b[0m             \u001b[1;34m'resulting train set will be empty. Adjust any of the '\u001b[0m\u001b[1;33m\u001b[0m\u001b[1;33m\u001b[0m\u001b[0m\n\u001b[0;32m   1813\u001b[0m             'aforementioned parameters.'.format(n_samples, test_size,\n\u001b[1;32m-> 1814\u001b[1;33m                                                 train_size)\n\u001b[0m\u001b[0;32m   1815\u001b[0m         )\n\u001b[0;32m   1816\u001b[0m \u001b[1;33m\u001b[0m\u001b[0m\n",
      "\u001b[1;31mValueError\u001b[0m: With n_samples=0, test_size=None and train_size=0.7, the resulting train set will be empty. Adjust any of the aforementioned parameters."
     ]
    }
   ],
   "source": [
    "train_data_inputs, test_data_inputs, train_data_targets, test_data_targets, train_indx, test_indx = preprocess_dataset(data, max = 100, max_len = total_seq_len, input_len = 20)"
   ]
  },
  {
   "cell_type": "code",
   "execution_count": null,
   "metadata": {},
   "outputs": [],
   "source": [
    "\"\"\"Reshaping data for input into LSTM\"\"\"\n",
    "train_data_inputs = train_data_inputs.reshape(train_data_inputs.shape[0], train_data_inputs.shape[2], 1)\n",
    "train_data_targets = train_data_targets.reshape(train_data_targets.shape[0], train_data_targets.shape[2], 1)\n",
    "\n",
    "test_data_inputs = test_data_inputs.reshape(test_data_inputs.shape[0], test_data_inputs.shape[2], 1)\n",
    "test_data_targets = test_data_targets.reshape(test_data_targets.shape[0], test_data_targets.shape[2], 1)"
   ]
  },
  {
   "cell_type": "code",
   "execution_count": null,
   "metadata": {},
   "outputs": [],
   "source": [
    "\"\"\"Load Pretrained LSTM Model for correct sequence length\"\"\"\n",
    "model = keras.models.load_model('LSTM_100seq.h5')\n",
    "#model = keras.models.load_model('newencoder_decoder.h5')"
   ]
  },
  {
   "cell_type": "code",
   "execution_count": null,
   "metadata": {},
   "outputs": [],
   "source": [
    "input_len = 20\n",
    "target_len = 78\n",
    "def get_predictions(model, data_source_inputs, data_source_targets):\n",
    "\n",
    "    predictions = []\n",
    "    ground_truths = []\n",
    "    inputs = []\n",
    "    for i in range(0, data_source_inputs.shape[0], 1):\n",
    "        data = data_source_inputs[i,:,:]\n",
    "        res = model.predict(data_source_inputs[i:i+1])\n",
    "        ground_truths.append(data_source_targets[i].squeeze().tolist())\n",
    "        predictions.append((tf.argmax(res[0,:,:], axis=1)).numpy().tolist())\n",
    "        inputs.append(data.squeeze().tolist())\n",
    "            \n",
    "    return inputs, ground_truths, predictions"
   ]
  },
  {
   "cell_type": "code",
   "execution_count": 101,
   "metadata": {},
   "outputs": [],
   "source": [
    "inputs_list, target_list, preds_list = get_predictions(model, test_data_inputs, test_data_targets)"
   ]
  },
  {
   "cell_type": "code",
   "execution_count": 241,
   "metadata": {},
   "outputs": [],
   "source": [
    "def get_real_coords(target_list, preds_list, inputs_list, test_indx):\n",
    "    \"\"\"\n",
    "    Get the real word coordinates of trajectories starting from bins\n",
    "    All input parameteres must be lists of lists and be of the same length\n",
    "    Returns a dataframe with vehicle ID and all of its real word coordinates in Lat/Long\n",
    "    \"\"\"\n",
    "    x_cords_real = []\n",
    "    y_cords_real = []\n",
    "    x_cords_pred = []\n",
    "    y_cords_pred = []\n",
    "    vehicle_ids = []\n",
    "\n",
    "    for ind in range(len(test_indx)):\n",
    "\n",
    "      for inp in test_indx[ind]:\n",
    "        for inp_nr in inp[:-1]:\n",
    "          vehicle_ids.append(inp_nr)\n",
    "\n",
    "      for inp in inputs_list[ind]:\n",
    "        x = inp % 100\n",
    "        y = inp / 100 \n",
    "        x_cords_real.append(x)\n",
    "        y_cords_real.append(y)\n",
    "\n",
    "        x_cords_pred.append(x)\n",
    "        y_cords_pred.append(y)\n",
    "        \n",
    "      for inp in target_list[ind]:\n",
    "        x = inp % 100\n",
    "        y = inp / 100 \n",
    "        x_cords_real.append(x)\n",
    "        y_cords_real.append(y)\n",
    "\n",
    "      for inp in preds_list[ind]:\n",
    "        x = inp % 100\n",
    "        y = inp / 100 \n",
    "        x_cords_pred.append(x)\n",
    "        y_cords_pred.append(y)\n",
    "\n",
    "    dict_pd = {'Vehicle_ID': vehicle_ids, 'X_REAL': x_cords_real, 'Y_REAL': y_cords_real, 'X_PRED': x_cords_pred, 'Y_PRED': y_cords_pred} \n",
    "    output_df = pd.DataFrame(dict_pd)\n",
    "    output_df[['X_REAL', 'Y_REAL']] = scaler.inverse_transform(output_df[['X_REAL', 'Y_REAL']])\n",
    "    output_df[['X_PRED', 'Y_PRED']] = scaler.inverse_transform(output_df[['X_PRED', 'Y_PRED']])\n",
    "    \n",
    "    unique_vehicle_ids = output_df['Vehicle_ID'].unique()\n",
    "    for id in unique_vehicle_ids:\n",
    "      subset = data.loc[data['Vehicle_ID'] == id, ['X', 'Y']].head(1)\n",
    "      x_origin, y_origin = subset.X.item(), subset.Y.item()\n",
    "      output_df.loc[output_df['Vehicle_ID'] == id, ['X_REAL', 'X_PRED']] = output_df.loc[output_df['Vehicle_ID'] == id, ['X_REAL', 'X_PRED']] + x_origin\n",
    "      output_df.loc[output_df['Vehicle_ID'] == id, ['Y_REAL', 'Y_PRED']] = output_df.loc[output_df['Vehicle_ID'] == id, ['Y_REAL', 'Y_PRED']] + y_origin\n",
    "    return output_df\n",
    "\n",
    "def calc_meter_dist(xt, yt, xp, yp):\n",
    "    \"\"\"\n",
    "    Converts real_world Latitude Longitude coordinates into UTM coordinates\n",
    "    to get a difference in meters between prediction and target values\n",
    "    \"\"\"\n",
    "    tar_utm = utm.from_latlon(yt, xt)\n",
    "    pred_utm = utm.from_latlon(yp, xp)\n",
    "\n",
    "    dist_x = tar_utm[0] - pred_utm[0]\n",
    "    dist_y = tar_utm[1] - pred_utm[1]\n",
    "    \n",
    "    return np.sqrt((dist_x ** 2) + (dist_y ** 2))\n",
    "\n",
    "def calculate_performance_metrics(df):\n",
    "    \"\"\"\n",
    "    Calculates Average Displacement Error (ADE) and Final Displacement Error (FDE)\n",
    "    for a given data frame containing the features:\n",
    "        X_REAL, Y_REAL, X_PRED, Y_PRED\n",
    "    \"\"\"\n",
    "    unique_vehicle_ids = df['Vehicle_ID'].unique()\n",
    "    res = []\n",
    "    for id in unique_vehicle_ids:\n",
    "        res.append(df[df['Vehicle_ID'] == id][20:])\n",
    "    res_df = pd.concat(res)\n",
    "        \n",
    "    res_df['DIST'] = res_df.apply(lambda row: calc_meter_dist(row['X_REAL'],row['Y_REAL'],row['X_PRED'],row['Y_PRED']),axis=1) \n",
    "    ADE = res_df['DIST'].mean()\n",
    "    \n",
    "    FDE = 0\n",
    "    counter = 1\n",
    "    for id in unique_vehicle_ids:\n",
    "        x = res_df[res_df['Vehicle_ID'] == id]\n",
    "        FDE += x.tail(1).DIST.values\n",
    "        counter += 1\n",
    "    FDE = float(FDE/counter)\n",
    "        \n",
    "    print(\"Average Displacement Error (meters): \", ADE)\n",
    "    print(\"Average Final Displacement Error: (meters)\", FDE)\n",
    "    return df"
   ]
  },
  {
   "cell_type": "code",
   "execution_count": 242,
   "metadata": {},
   "outputs": [
    {
     "name": "stdout",
     "output_type": "stream",
     "text": [
      "Average Displacement Error (meters):  0.13239741767167557\n",
      "Average Final Displacement Error: (meters) 0.2870543125390788\n"
     ]
    }
   ],
   "source": [
    "coords = get_real_coords(target_list, preds_list, inputs_list, test_indx)\n",
    "d = calculate_performance_metrics(coords)"
   ]
  },
  {
   "cell_type": "code",
   "execution_count": 208,
   "metadata": {},
   "outputs": [],
   "source": [
    "unique_vehicle_ids = d['Vehicle_ID'].unique()\n",
    "res = []\n",
    "for id in unique_vehicle_ids:\n",
    "    res.append(d[d['Vehicle_ID'] == id][20:])\n",
    "res_df = pd.concat(res)"
   ]
  },
  {
   "cell_type": "code",
   "execution_count": 104,
   "metadata": {},
   "outputs": [],
   "source": [
    "def vis_trajectory_scatter(input_list, target_list, preds_list, lag_time = 1.0):\n",
    "\n",
    "  for i in range(1, 25, 1):\n",
    "    print(i)\n",
    "    plt.figure(figsize=(6,6))\n",
    "    inputs = input_list[i]\n",
    "    targets = target_list[i]\n",
    "    preds = preds_list[i]\n",
    "\n",
    "    xy_inputs = []\n",
    "    xy_preds = []\n",
    "    xy_target = []\n",
    "\n",
    "    for inp in inputs:\n",
    "      x = inp % 100\n",
    "      y = inp / 100 \n",
    "      xy_inputs.append([x, y])\n",
    "    \n",
    "    for inp in preds:\n",
    "      x = inp % 100\n",
    "      y = inp / 100 \n",
    "      xy_preds.append([x, y])\n",
    "\n",
    "    for inp in targets:\n",
    "      x = inp % 100\n",
    "      y = inp / 100 \n",
    "      xy_target.append([x, y])\n",
    "\n",
    "    x_inp, y_inp = zip(*xy_inputs)\n",
    "    x_tar, y_tar = zip(*xy_target)\n",
    "    x_pred, y_pred = zip(*xy_preds)\n",
    "\n",
    "    plt.scatter(x_inp,y_inp)\n",
    "    plt.scatter(x_tar,y_tar, color='black')\n",
    "    plt.scatter(x_pred,y_pred, color='r')\n",
    "\n",
    "    plt.xlim(0, 100)\n",
    "    plt.ylim(0, 100)\n",
    "\n",
    "    plt.show()"
   ]
  },
  {
   "cell_type": "code",
   "execution_count": 105,
   "metadata": {},
   "outputs": [
    {
     "name": "stdout",
     "output_type": "stream",
     "text": [
      "1\n"
     ]
    },
    {
     "data": {
      "image/png": "[encoded data removed]",
      "text/plain": [
       "<Figure size 432x432 with 1 Axes>"
      ]
     },
     "metadata": {
      "needs_background": "light"
     },
     "output_type": "display_data"
    },
    {
     "name": "stdout",
     "output_type": "stream",
     "text": [
      "2\n"
     ]
    },
    {
     "data": {
      "image/png": "[encoded data removed]",
      "text/plain": [
       "<Figure size 432x432 with 1 Axes>"
      ]
     },
     "metadata": {
      "needs_background": "light"
     },
     "output_type": "display_data"
    },
    {
     "name": "stdout",
     "output_type": "stream",
     "text": [
      "3\n"
     ]
    },
    {
     "data": {
      "image/png": "[encoded data removed]",
      "text/plain": [
       "<Figure size 432x432 with 1 Axes>"
      ]
     },
     "metadata": {
      "needs_background": "light"
     },
     "output_type": "display_data"
    },
    {
     "name": "stdout",
     "output_type": "stream",
     "text": [
      "4\n"
     ]
    },
    {
     "data": {
      "image/png": "[encoded data removed]",
      "text/plain": [
       "<Figure size 432x432 with 1 Axes>"
      ]
     },
     "metadata": {
      "needs_background": "light"
     },
     "output_type": "display_data"
    },
    {
     "name": "stdout",
     "output_type": "stream",
     "text": [
      "5\n"
     ]
    },
    {
     "data": {
      "image/png": "[encoded data removed]",
      "text/plain": [
       "<Figure size 432x432 with 1 Axes>"
      ]
     },
     "metadata": {
      "needs_background": "light"
     },
     "output_type": "display_data"
    },
    {
     "name": "stdout",
     "output_type": "stream",
     "text": [
      "6\n"
     ]
    },
    {
     "data": {
      "image/png": "[encoded data removed]",
      "text/plain": [
       "<Figure size 432x432 with 1 Axes>"
      ]
     },
     "metadata": {
      "needs_background": "light"
     },
     "output_type": "display_data"
    },
    {
     "name": "stdout",
     "output_type": "stream",
     "text": [
      "7\n"
     ]
    },
    {
     "data": {
      "image/png": "[encoded data removed]",
      "text/plain": [
       "<Figure size 432x432 with 1 Axes>"
      ]
     },
     "metadata": {
      "needs_background": "light"
     },
     "output_type": "display_data"
    },
    {
     "name": "stdout",
     "output_type": "stream",
     "text": [
      "8\n"
     ]
    },
    {
     "data": {
      "image/png": "[encoded data removed]",
      "text/plain": [
       "<Figure size 432x432 with 1 Axes>"
      ]
     },
     "metadata": {
      "needs_background": "light"
     },
     "output_type": "display_data"
    },
    {
     "name": "stdout",
     "output_type": "stream",
     "text": [
      "9\n"
     ]
    },
    {
     "data": {
      "image/png": "[encoded data removed]",
      "text/plain": [
       "<Figure size 432x432 with 1 Axes>"
      ]
     },
     "metadata": {
      "needs_background": "light"
     },
     "output_type": "display_data"
    },
    {
     "name": "stdout",
     "output_type": "stream",
     "text": [
      "10\n"
     ]
    },
    {
     "data": {
      "image/png": "[encoded data removed]",
      "text/plain": [
       "<Figure size 432x432 with 1 Axes>"
      ]
     },
     "metadata": {
      "needs_background": "light"
     },
     "output_type": "display_data"
    },
    {
     "name": "stdout",
     "output_type": "stream",
     "text": [
      "11\n"
     ]
    },
    {
     "data": {
      "image/png": "[encoded data removed]",
      "text/plain": [
       "<Figure size 432x432 with 1 Axes>"
      ]
     },
     "metadata": {
      "needs_background": "light"
     },
     "output_type": "display_data"
    },
    {
     "name": "stdout",
     "output_type": "stream",
     "text": [
      "12\n"
     ]
    },
    {
     "data": {
      "image/png": "[encoded data removed]",
      "text/plain": [
       "<Figure size 432x432 with 1 Axes>"
      ]
     },
     "metadata": {
      "needs_background": "light"
     },
     "output_type": "display_data"
    },
    {
     "name": "stdout",
     "output_type": "stream",
     "text": [
      "13\n"
     ]
    },
    {
     "data": {
      "image/png": "[encoded data removed]",
      "text/plain": [
       "<Figure size 432x432 with 1 Axes>"
      ]
     },
     "metadata": {
      "needs_background": "light"
     },
     "output_type": "display_data"
    },
    {
     "name": "stdout",
     "output_type": "stream",
     "text": [
      "14\n"
     ]
    },
    {
     "data": {
      "image/png": "[encoded data removed]",
      "text/plain": [
       "<Figure size 432x432 with 1 Axes>"
      ]
     },
     "metadata": {
      "needs_background": "light"
     },
     "output_type": "display_data"
    },
    {
     "name": "stdout",
     "output_type": "stream",
     "text": [
      "15\n"
     ]
    },
    {
     "data": {
      "image/png": "[encoded data removed]",
      "text/plain": [
       "<Figure size 432x432 with 1 Axes>"
      ]
     },
     "metadata": {
      "needs_background": "light"
     },
     "output_type": "display_data"
    },
    {
     "name": "stdout",
     "output_type": "stream",
     "text": [
      "16\n"
     ]
    },
    {
     "data": {
      "image/png": "[encoded data removed]",
      "text/plain": [
       "<Figure size 432x432 with 1 Axes>"
      ]
     },
     "metadata": {
      "needs_background": "light"
     },
     "output_type": "display_data"
    },
    {
     "name": "stdout",
     "output_type": "stream",
     "text": [
      "17\n"
     ]
    },
    {
     "data": {
      "image/png": "[encoded data removed]",
      "text/plain": [
       "<Figure size 432x432 with 1 Axes>"
      ]
     },
     "metadata": {
      "needs_background": "light"
     },
     "output_type": "display_data"
    },
    {
     "name": "stdout",
     "output_type": "stream",
     "text": [
      "18\n"
     ]
    },
    {
     "data": {
      "image/png": "[encoded data removed]",
      "text/plain": [
       "<Figure size 432x432 with 1 Axes>"
      ]
     },
     "metadata": {
      "needs_background": "light"
     },
     "output_type": "display_data"
    },
    {
     "name": "stdout",
     "output_type": "stream",
     "text": [
      "19\n"
     ]
    },
    {
     "data": {
      "image/png": "[encoded data removed]",
      "text/plain": [
       "<Figure size 432x432 with 1 Axes>"
      ]
     },
     "metadata": {
      "needs_background": "light"
     },
     "output_type": "display_data"
    },
    {
     "name": "stdout",
     "output_type": "stream",
     "text": [
      "20\n"
     ]
    },
    {
     "data": {
      "image/png": "[encoded data removed]",
      "text/plain": [
       "<Figure size 432x432 with 1 Axes>"
      ]
     },
     "metadata": {
      "needs_background": "light"
     },
     "output_type": "display_data"
    },
    {
     "name": "stdout",
     "output_type": "stream",
     "text": [
      "21\n"
     ]
    },
    {
     "data": {
      "image/png": "[encoded data removed]",
      "text/plain": [
       "<Figure size 432x432 with 1 Axes>"
      ]
     },
     "metadata": {
      "needs_background": "light"
     },
     "output_type": "display_data"
    },
    {
     "name": "stdout",
     "output_type": "stream",
     "text": [
      "22\n"
     ]
    },
    {
     "data": {
      "image/png": "[encoded data removed]",
      "text/plain": [
       "<Figure size 432x432 with 1 Axes>"
      ]
     },
     "metadata": {
      "needs_background": "light"
     },
     "output_type": "display_data"
    },
    {
     "name": "stdout",
     "output_type": "stream",
     "text": [
      "23\n"
     ]
    },
    {
     "data": {
      "image/png": "[encoded data removed]",
      "text/plain": [
       "<Figure size 432x432 with 1 Axes>"
      ]
     },
     "metadata": {
      "needs_background": "light"
     },
     "output_type": "display_data"
    },
    {
     "name": "stdout",
     "output_type": "stream",
     "text": [
      "24\n"
     ]
    },
    {
     "data": {
      "image/png": "[encoded data removed]",
      "text/plain": [
       "<Figure size 432x432 with 1 Axes>"
      ]
     },
     "metadata": {
      "needs_background": "light"
     },
     "output_type": "display_data"
    }
   ],
   "source": [
    "vis_trajectory_scatter(inputs_list, target_list, preds_list)"
   ]
  },
  {
   "cell_type": "code",
   "execution_count": null,
   "metadata": {},
   "outputs": [],
   "source": [
    "#interesting? 18, 34, 106, 110, 264, 848, 998"
   ]
  }
 ],
 "metadata": {
  "kernelspec": {
   "display_name": "Python 3",
   "language": "python",
   "name": "python3"
  },
  "language_info": {
   "codemirror_mode": {
    "name": "ipython",
    "version": 3
   },
   "file_extension": ".py",
   "mimetype": "text/x-python",
   "name": "python",
   "nbconvert_exporter": "python",
   "pygments_lexer": "ipython3",
   "version": "3.7.9"
  }
 },
 "nbformat": 4,
 "nbformat_minor": 4
}
