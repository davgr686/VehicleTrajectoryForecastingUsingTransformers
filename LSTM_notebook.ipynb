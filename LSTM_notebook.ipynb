{
 "cells": [
  {
   "cell_type": "code",
   "execution_count": 3,
   "metadata": {
    "id": "_fywMUUtgwRr"
   },
   "outputs": [],
   "source": [
    "import numpy as np\n",
    "from tensorflow.keras.models import Sequential\n",
    "from tensorflow.keras.layers import Dense, LSTM, RepeatVector\n",
    "import tensorflow as tf\n",
    "import os\n",
    "from keras.layers import TimeDistributed\n",
    "import matplotlib.pyplot as plt\n",
    "import urllib.request\n",
    "import pandas as pd\n",
    "from sklearn.model_selection import train_test_split\n",
    "from sklearn.preprocessing import MinMaxScaler\n",
    "import keras\n",
    "from matplotlib import pyplot as plt\n",
    "from keras.models import Sequential\n",
    "from keras.layers import Dense\n",
    "from keras.layers import LSTM\n",
    "from keras.layers import Embedding"
   ]
  },
  {
   "cell_type": "code",
   "execution_count": 4,
   "metadata": {},
   "outputs": [
    {
     "name": "stdout",
     "output_type": "stream",
     "text": [
      "Num GPUs Available:  1\n"
     ]
    }
   ],
   "source": [
    "import tensorflow as tf\n",
    "print(\"Num GPUs Available: \", len(tf.config.experimental.list_physical_devices('GPU')))"
   ]
  },
  {
   "cell_type": "code",
   "execution_count": 5,
   "metadata": {
    "colab": {
     "base_uri": "https://localhost:8080/",
     "height": 297
    },
    "id": "c481ZU6qiFfc",
    "outputId": "db1b5727-f004-40cc-bfb7-09f767601ef0"
   },
   "outputs": [
    {
     "data": {
      "text/html": [
       "<div>\n",
       "<style scoped>\n",
       "    .dataframe tbody tr th:only-of-type {\n",
       "        vertical-align: middle;\n",
       "    }\n",
       "\n",
       "    .dataframe tbody tr th {\n",
       "        vertical-align: top;\n",
       "    }\n",
       "\n",
       "    .dataframe thead th {\n",
       "        text-align: right;\n",
       "    }\n",
       "</style>\n",
       "<table border=\"1\" class=\"dataframe\">\n",
       "  <thead>\n",
       "    <tr style=\"text-align: right;\">\n",
       "      <th></th>\n",
       "      <th>Unnamed: 0</th>\n",
       "      <th>Vehicle_ID</th>\n",
       "      <th>X</th>\n",
       "      <th>Y</th>\n",
       "      <th>X_REL</th>\n",
       "      <th>Y_REL</th>\n",
       "    </tr>\n",
       "  </thead>\n",
       "  <tbody>\n",
       "    <tr>\n",
       "      <th>count</th>\n",
       "      <td>307834.00000</td>\n",
       "      <td>307834.000000</td>\n",
       "      <td>307834.000000</td>\n",
       "      <td>307834.000000</td>\n",
       "      <td>3.078340e+05</td>\n",
       "      <td>3.078340e+05</td>\n",
       "    </tr>\n",
       "    <tr>\n",
       "      <th>mean</th>\n",
       "      <td>153916.50000</td>\n",
       "      <td>153892.000884</td>\n",
       "      <td>151.187971</td>\n",
       "      <td>-33.894347</td>\n",
       "      <td>4.361413e-07</td>\n",
       "      <td>4.547582e-07</td>\n",
       "    </tr>\n",
       "    <tr>\n",
       "      <th>std</th>\n",
       "      <td>88864.16572</td>\n",
       "      <td>88864.166079</td>\n",
       "      <td>0.002386</td>\n",
       "      <td>0.001482</td>\n",
       "      <td>2.208221e-05</td>\n",
       "      <td>1.067770e-05</td>\n",
       "    </tr>\n",
       "    <tr>\n",
       "      <th>min</th>\n",
       "      <td>0.00000</td>\n",
       "      <td>0.000000</td>\n",
       "      <td>151.184833</td>\n",
       "      <td>-33.895620</td>\n",
       "      <td>-6.331820e-05</td>\n",
       "      <td>-4.471060e-05</td>\n",
       "    </tr>\n",
       "    <tr>\n",
       "      <th>25%</th>\n",
       "      <td>76958.25000</td>\n",
       "      <td>76950.000000</td>\n",
       "      <td>151.186520</td>\n",
       "      <td>-33.895157</td>\n",
       "      <td>-1.109110e-05</td>\n",
       "      <td>-5.980100e-06</td>\n",
       "    </tr>\n",
       "    <tr>\n",
       "      <th>50%</th>\n",
       "      <td>153916.50000</td>\n",
       "      <td>153900.000000</td>\n",
       "      <td>151.187506</td>\n",
       "      <td>-33.894778</td>\n",
       "      <td>0.000000e+00</td>\n",
       "      <td>0.000000e+00</td>\n",
       "    </tr>\n",
       "    <tr>\n",
       "      <th>75%</th>\n",
       "      <td>230874.75000</td>\n",
       "      <td>230850.000000</td>\n",
       "      <td>151.188627</td>\n",
       "      <td>-33.894293</td>\n",
       "      <td>1.225900e-05</td>\n",
       "      <td>7.062200e-06</td>\n",
       "    </tr>\n",
       "    <tr>\n",
       "      <th>max</th>\n",
       "      <td>307833.00000</td>\n",
       "      <td>307800.000000</td>\n",
       "      <td>151.194606</td>\n",
       "      <td>-33.888825</td>\n",
       "      <td>6.605090e-05</td>\n",
       "      <td>4.435870e-05</td>\n",
       "    </tr>\n",
       "  </tbody>\n",
       "</table>\n",
       "</div>"
      ],
      "text/plain": [
       "         Unnamed: 0     Vehicle_ID              X              Y  \\\n",
       "count  307834.00000  307834.000000  307834.000000  307834.000000   \n",
       "mean   153916.50000  153892.000884     151.187971     -33.894347   \n",
       "std     88864.16572   88864.166079       0.002386       0.001482   \n",
       "min         0.00000       0.000000     151.184833     -33.895620   \n",
       "25%     76958.25000   76950.000000     151.186520     -33.895157   \n",
       "50%    153916.50000  153900.000000     151.187506     -33.894778   \n",
       "75%    230874.75000  230850.000000     151.188627     -33.894293   \n",
       "max    307833.00000  307800.000000     151.194606     -33.888825   \n",
       "\n",
       "              X_REL         Y_REL  \n",
       "count  3.078340e+05  3.078340e+05  \n",
       "mean   4.361413e-07  4.547582e-07  \n",
       "std    2.208221e-05  1.067770e-05  \n",
       "min   -6.331820e-05 -4.471060e-05  \n",
       "25%   -1.109110e-05 -5.980100e-06  \n",
       "50%    0.000000e+00  0.000000e+00  \n",
       "75%    1.225900e-05  7.062200e-06  \n",
       "max    6.605090e-05  4.435870e-05  "
      ]
     },
     "execution_count": 5,
     "metadata": {},
     "output_type": "execute_result"
    }
   ],
   "source": [
    "\"\"\"\n",
    "New Data\n",
    "\"\"\"\n",
    "#data = pd.read_csv(\"curvy_data.csv\")\n",
    "data = pd.read_csv(\"traj_data_v2.csv\")\n",
    "data.describe()"
   ]
  },
  {
   "cell_type": "code",
   "execution_count": 6,
   "metadata": {
    "colab": {
     "base_uri": "https://localhost:8080/"
    },
    "id": "PcHGvBEieI9x",
    "outputId": "ff01f6e2-95d8-4835-c87e-f32173f5bb02"
   },
   "outputs": [
    {
     "data": {
      "text/plain": [
       "6157"
      ]
     },
     "execution_count": 6,
     "metadata": {},
     "output_type": "execute_result"
    }
   ],
   "source": [
    "len(data['Vehicle_ID'].unique())"
   ]
  },
  {
   "cell_type": "code",
   "execution_count": 7,
   "metadata": {
    "id": "nZF9fgKtiYR3"
   },
   "outputs": [],
   "source": [
    "\"\"\"\n",
    "Preprocess data, removed torch tensors return type, now np arrays\n",
    "\"\"\"\n",
    "def preprocess_dataset(data, max = 10, max_len = 40, input_len = 30):\n",
    "    scaler = MinMaxScaler(feature_range=(0, max))\n",
    "    data[['X_REL', 'Y_REL']] = scaler.fit_transform(data[['X_REL', 'Y_REL']])\n",
    "    global map_dict\n",
    "    map_dict = {}\n",
    "    unique_peds = data['Vehicle_ID'].unique()\n",
    "    unique_peds = sorted(unique_peds)\n",
    "    inputs = []\n",
    "    indexes = []\n",
    "    outputs = []\n",
    "    seq = []\n",
    "    for ped in unique_peds:\n",
    "        if (len(data[data['Vehicle_ID'] == ped]) >= max_len):\n",
    "          indexes.append(ped)\n",
    "          seq_inner = []\n",
    "          target_inner = 0\n",
    "          i = 0\n",
    "          for indx, row in data[data['Vehicle_ID'] == ped].iterrows():\n",
    "            x = round(row['X_REL'])\n",
    "            y = round(row['Y_REL'])\n",
    "            ## Cantor pairing function:\n",
    "            bin = y * max + x\n",
    "            #print(\"X: \", x, \" Y: \", y, \" Bin: \", bin)\n",
    "            map_dict[int(bin)] = [int(x), int(y)]\n",
    "            i += 1\n",
    "            if i == max_len:\n",
    "              break\n",
    "            seq_inner.append(int(bin))\n",
    "          inputs.append([seq_inner[0:input_len]])\n",
    "          outputs.append([seq_inner[input_len + 1:]])\n",
    "    train_inputs, test_inputs = train_test_split(inputs, train_size=0.7)\n",
    "    train_inputs, test_inputs, train_targets, test_targets = train_test_split(inputs, outputs, train_size=0.8)\n",
    "    \n",
    "    return np.array(train_inputs), np.array(test_inputs), np.array(train_targets), np.array(test_targets)"
   ]
  },
  {
   "cell_type": "code",
   "execution_count": 8,
   "metadata": {
    "id": "ZyuTi2XPe4qn"
   },
   "outputs": [],
   "source": [
    "train_data_inputs, test_data_inputs, train_data_targets, test_data_targets = preprocess_dataset(data, max = 100, max_len = 50, input_len = 20)"
   ]
  },
  {
   "cell_type": "code",
   "execution_count": 9,
   "metadata": {
    "colab": {
     "base_uri": "https://localhost:8080/"
    },
    "id": "28uqOxTlkDTE",
    "outputId": "685884e0-d0b3-4031-8bb5-c04e55b6a63e"
   },
   "outputs": [
    {
     "name": "stdout",
     "output_type": "stream",
     "text": [
      "(4924, 1, 20)\n",
      "(4924, 1, 28)\n",
      "(4924, 20, 1)\n",
      "(4924, 28, 1)\n"
     ]
    }
   ],
   "source": [
    "print(train_data_inputs.shape)\n",
    "print(train_data_targets.shape)\n",
    "train_data_inputs = train_data_inputs.reshape(train_data_inputs.shape[0], train_data_inputs.shape[2], 1)\n",
    "train_data_targets = train_data_targets.reshape(train_data_targets.shape[0], train_data_targets.shape[2], 1)\n",
    "print(train_data_inputs.shape)\n",
    "print(train_data_targets.shape)"
   ]
  },
  {
   "cell_type": "code",
   "execution_count": 10,
   "metadata": {
    "colab": {
     "base_uri": "https://localhost:8080/"
    },
    "id": "8AbipVV-bAXN",
    "outputId": "b8564f82-8c44-4602-b826-db628fde5002"
   },
   "outputs": [
    {
     "name": "stdout",
     "output_type": "stream",
     "text": [
      "(1232, 1, 20)\n",
      "(1232, 1, 28)\n",
      "(1232, 20, 1)\n",
      "(1232, 28, 1)\n"
     ]
    }
   ],
   "source": [
    "print(test_data_inputs.shape)\n",
    "print(test_data_targets.shape)\n",
    "test_data_inputs = test_data_inputs.reshape(test_data_inputs.shape[0], test_data_inputs.shape[2], 1)\n",
    "test_data_targets = test_data_targets.reshape(test_data_targets.shape[0], test_data_targets.shape[2], 1)\n",
    "print(test_data_inputs.shape)\n",
    "print(test_data_targets.shape)"
   ]
  },
  {
   "cell_type": "code",
   "execution_count": 11,
   "metadata": {
    "id": "XfDNnOF4eboY"
   },
   "outputs": [
    {
     "data": {
      "text/plain": [
       "\"\\ndef plot_prediction(test_index = 0, scaled = False):\\n  m = my_max\\n  i = inputs_scaled\\n  o = outputs_scaled\\n  if scaled == False:\\n    m = 1\\n    i = inputs\\n    o = outputs\\n  print(m)\\n  test_ind = test_index\\n  t = i[test_ind]\\n  t = t.reshape(1, 12, 2)\\n  b = model.predict(t)\\n  b = np.squeeze(b)\\n  xx = b[:,0] * m\\n  yy = b[:,1] * m\\n  check_tar = o[test_ind] * m\\n  check_input = i[test_ind] * m\\n  plt.plot(xx, yy, 'ro')\\n  plt.plot(check_tar[:,0], check_tar[:,1], 'bo')\\n  plt.plot(check_input[:,0], check_input[:,1])\\n\""
      ]
     },
     "execution_count": 11,
     "metadata": {},
     "output_type": "execute_result"
    }
   ],
   "source": [
    "\"\"\"\n",
    "def plot_prediction(test_index = 0, scaled = False):\n",
    "  m = my_max\n",
    "  i = inputs_scaled\n",
    "  o = outputs_scaled\n",
    "  if scaled == False:\n",
    "    m = 1\n",
    "    i = inputs\n",
    "    o = outputs\n",
    "  print(m)\n",
    "  test_ind = test_index\n",
    "  t = i[test_ind]\n",
    "  t = t.reshape(1, 12, 2)\n",
    "  b = model.predict(t)\n",
    "  b = np.squeeze(b)\n",
    "  xx = b[:,0] * m\n",
    "  yy = b[:,1] * m\n",
    "  check_tar = o[test_ind] * m\n",
    "  check_input = i[test_ind] * m\n",
    "  plt.plot(xx, yy, 'ro')\n",
    "  plt.plot(check_tar[:,0], check_tar[:,1], 'bo')\n",
    "  plt.plot(check_input[:,0], check_input[:,1])\n",
    "\"\"\""
   ]
  },
  {
   "cell_type": "code",
   "execution_count": 12,
   "metadata": {
    "id": "FVnuGXZm26LA"
   },
   "outputs": [],
   "source": [
    "def make_one_hot(inp):\n",
    "  result = []\n",
    "  for i in inp:\n",
    "    inner = []\n",
    "    for bin in i:\n",
    "      one_hot_vector = np.zeros(((100*100) + 50), dtype= np.uint16)\n",
    "      one_hot_vector[bin] = 1\n",
    "      inner.append(one_hot_vector)\n",
    "    result.append(inner)\n",
    "  return np.array(result)"
   ]
  },
  {
   "cell_type": "code",
   "execution_count": 13,
   "metadata": {
    "id": "qQlcAjwCy26B"
   },
   "outputs": [],
   "source": [
    "ti = make_one_hot(train_data_inputs)\n",
    "tt = make_one_hot(train_data_targets)\n",
    "val_in = make_one_hot(test_data_inputs) \n",
    "val_tar = make_one_hot(test_data_targets)"
   ]
  },
  {
   "cell_type": "code",
   "execution_count": 14,
   "metadata": {},
   "outputs": [
    {
     "name": "stdout",
     "output_type": "stream",
     "text": [
      "1979448000\n",
      "2771227200\n",
      "495264000\n",
      "693369600\n"
     ]
    }
   ],
   "source": [
    "print(ti.nbytes)\n",
    "print(tt.nbytes)\n",
    "print(val_in.nbytes)\n",
    "print(val_tar.nbytes)"
   ]
  },
  {
   "cell_type": "code",
   "execution_count": 15,
   "metadata": {
    "colab": {
     "base_uri": "https://localhost:8080/"
    },
    "id": "HZXybc-z0sAM",
    "outputId": "1401857c-2623-45dd-c7ab-6129ecd60a2a"
   },
   "outputs": [
    {
     "name": "stdout",
     "output_type": "stream",
     "text": [
      "(4924, 20, 10050)\n",
      "(4924, 28, 10050)\n",
      "1\n",
      "2\n",
      "4\n",
      "1231\n",
      "2462\n"
     ]
    }
   ],
   "source": [
    "print(ti.shape)\n",
    "print(tt.shape)\n",
    "n = 1\n",
    "while(n < 4924):\n",
    "  if(4924 % n == 0):\n",
    "    print(n)\n",
    "  n += 1"
   ]
  },
  {
   "cell_type": "code",
   "execution_count": 16,
   "metadata": {
    "colab": {
     "base_uri": "https://localhost:8080/"
    },
    "id": "XdOTYW_J7mMh",
    "outputId": "a8590257-2233-4c4a-bcd4-e14c1bed9f46"
   },
   "outputs": [
    {
     "name": "stdout",
     "output_type": "stream",
     "text": [
      "(1232, 20, 10050) (1232, 28, 10050)\n"
     ]
    }
   ],
   "source": [
    "print(val_in.shape, val_tar.shape)"
   ]
  },
  {
   "cell_type": "code",
   "execution_count": 17,
   "metadata": {
    "id": "tLTmi_3nychJ"
   },
   "outputs": [],
   "source": [
    "vocab_size = (100 * 100) + 50\n",
    "input_len = 20\n",
    "target_len = 28\n",
    "train_inputs = ti\n",
    "train_targets =tt\n",
    "test_inputs = val_in\n",
    "test_targets = val_tar"
   ]
  },
  {
   "cell_type": "code",
   "execution_count": 23,
   "metadata": {
    "colab": {
     "base_uri": "https://localhost:8080/",
     "height": 52
    },
    "id": "5mfpRQ4ByGQ7",
    "outputId": "4aabdb37-64b6-4b3a-cdb4-eba20f7b465d"
   },
   "outputs": [
    {
     "data": {
      "text/plain": [
       "\"\\nmodel = Sequential()\\nmodel.add(LSTM(50, batch_input_shape=(1, input_len, vocab_size), return_sequences=True, stateful=True))\\nmodel.add(LSTM(50, batch_input_shape=(1, target_len, vocab_size), return_sequences=True, stateful=True))\\nmodel.add(TimeDistributed(Dense(vocab_size, activation='softmax')))\\nmodel.compile(loss='categorical_crossentropy', optimizer='adam', metrics=['accuracy'])\\n\""
      ]
     },
     "execution_count": 23,
     "metadata": {},
     "output_type": "execute_result"
    }
   ],
   "source": [
    "#here both inp and tar must be same length\n",
    "\"\"\"\n",
    "model = Sequential()\n",
    "model.add(LSTM(50, batch_input_shape=(1, input_len, vocab_size), return_sequences=True, stateful=True))\n",
    "model.add(LSTM(50, batch_input_shape=(1, target_len, vocab_size), return_sequences=True, stateful=True))\n",
    "model.add(TimeDistributed(Dense(vocab_size, activation='softmax')))\n",
    "model.compile(loss='categorical_crossentropy', optimizer='adam', metrics=['accuracy'])\n",
    "\"\"\""
   ]
  },
  {
   "cell_type": "code",
   "execution_count": 18,
   "metadata": {
    "id": "9qzKjxoKGrf9",
    "scrolled": true
   },
   "outputs": [],
   "source": [
    "#this model used\n",
    "#https://machinelearningmastery.com/how-to-use-an-encoder-decoder-lstm-to-echo-sequences-of-random-integers/\n",
    "model = Sequential()\n",
    "model.add(LSTM(250, batch_input_shape=(4, input_len, vocab_size), activation='tanh', stateful=True, dropout=0.1))\n",
    "model.add(RepeatVector(target_len))\n",
    "model.add(LSTM(250, return_sequences=True, activation='tanh', stateful=True, dropout=0.1))\n",
    "model.add(TimeDistributed(Dense(vocab_size, activation='softmax')))\n",
    "model.compile(loss='categorical_crossentropy', optimizer='adam', metrics=['accuracy'])"
   ]
  },
  {
   "cell_type": "code",
   "execution_count": 19,
   "metadata": {
    "colab": {
     "base_uri": "https://localhost:8080/"
    },
    "id": "yJLOnG9fLVhC",
    "outputId": "374f50a3-17e0-4eb6-a15c-270734ac0d9b"
   },
   "outputs": [
    {
     "name": "stdout",
     "output_type": "stream",
     "text": [
      "Model: \"sequential\"\n",
      "_________________________________________________________________\n",
      "Layer (type)                 Output Shape              Param #   \n",
      "=================================================================\n",
      "lstm (LSTM)                  (4, 250)                  10301000  \n",
      "_________________________________________________________________\n",
      "repeat_vector (RepeatVector) (4, 28, 250)              0         \n",
      "_________________________________________________________________\n",
      "lstm_1 (LSTM)                (4, 28, 250)              501000    \n",
      "_________________________________________________________________\n",
      "time_distributed (TimeDistri (4, 28, 10050)            2522550   \n",
      "=================================================================\n",
      "Total params: 13,324,550\n",
      "Trainable params: 13,324,550\n",
      "Non-trainable params: 0\n",
      "_________________________________________________________________\n"
     ]
    }
   ],
   "source": [
    "model.summary()"
   ]
  },
  {
   "cell_type": "code",
   "execution_count": 20,
   "metadata": {
    "colab": {
     "base_uri": "https://localhost:8080/"
    },
    "id": "uzzlzwnw5T2N",
    "outputId": "fa053d69-c0f1-48a6-84b0-40006a2bf7fa"
   },
   "outputs": [
    {
     "name": "stdout",
     "output_type": "stream",
     "text": [
      "Epoch 1/20\n",
      "1231/1231 [==============================] - ETA: 0s - loss: 6.3199 - accuracy: 0.0760WARNING:tensorflow:Callbacks method `on_test_batch_end` is slow compared to the batch time (batch time: 0.0030s vs `on_test_batch_end` time: 0.0053s). Check your callbacks.\n",
      "1231/1231 [==============================] - 25s 20ms/step - loss: 6.3199 - accuracy: 0.0760 - val_loss: 5.4726 - val_accuracy: 0.0975\n",
      "Epoch 2/20\n",
      "1231/1231 [==============================] - 24s 19ms/step - loss: 5.0116 - accuracy: 0.1042 - val_loss: 4.6888 - val_accuracy: 0.1323\n",
      "Epoch 3/20\n",
      "1231/1231 [==============================] - 25s 20ms/step - loss: 4.3929 - accuracy: 0.1338 - val_loss: 4.0740 - val_accuracy: 0.1582\n",
      "Epoch 4/20\n",
      "1231/1231 [==============================] - 25s 20ms/step - loss: 3.9238 - accuracy: 0.1608 - val_loss: 3.6082 - val_accuracy: 0.1989\n",
      "Epoch 5/20\n",
      "1231/1231 [==============================] - 25s 20ms/step - loss: 3.4659 - accuracy: 0.1946 - val_loss: 3.1730 - val_accuracy: 0.2439\n",
      "Epoch 6/20\n",
      "1231/1231 [==============================] - 25s 20ms/step - loss: 3.1395 - accuracy: 0.2266 - val_loss: 2.8919 - val_accuracy: 0.2662\n",
      "Epoch 7/20\n",
      "1231/1231 [==============================] - 24s 19ms/step - loss: 2.8601 - accuracy: 0.2552 - val_loss: 2.6774 - val_accuracy: 0.2904\n",
      "Epoch 8/20\n",
      "1231/1231 [==============================] - 24s 19ms/step - loss: 2.6390 - accuracy: 0.2850 - val_loss: 2.6826 - val_accuracy: 0.2878\n",
      "Epoch 9/20\n",
      "1231/1231 [==============================] - 24s 19ms/step - loss: 2.4895 - accuracy: 0.3015 - val_loss: 2.4256 - val_accuracy: 0.3307\n",
      "Epoch 10/20\n",
      "1231/1231 [==============================] - 24s 19ms/step - loss: 2.3655 - accuracy: 0.3195 - val_loss: 2.4643 - val_accuracy: 0.3064\n",
      "Epoch 11/20\n",
      "1231/1231 [==============================] - 24s 19ms/step - loss: 2.2361 - accuracy: 0.3405 - val_loss: 2.3170 - val_accuracy: 0.3514\n",
      "Epoch 12/20\n",
      "  52/1231 [>.............................] - ETA: 20s - loss: 2.2057 - accuracy: 0.3357"
     ]
    },
    {
     "ename": "KeyboardInterrupt",
     "evalue": "",
     "output_type": "error",
     "traceback": [
      "\u001b[1;31m---------------------------------------------------------------------------\u001b[0m",
      "\u001b[1;31mKeyboardInterrupt\u001b[0m                         Traceback (most recent call last)",
      "\u001b[1;32m<ipython-input-20-9656b05e12f3>\u001b[0m in \u001b[0;36m<module>\u001b[1;34m\u001b[0m\n\u001b[0;32m      4\u001b[0m     \u001b[0mbatch_size\u001b[0m\u001b[1;33m=\u001b[0m\u001b[1;36m4\u001b[0m\u001b[1;33m,\u001b[0m\u001b[1;33m\u001b[0m\u001b[1;33m\u001b[0m\u001b[0m\n\u001b[0;32m      5\u001b[0m     \u001b[0mepochs\u001b[0m\u001b[1;33m=\u001b[0m\u001b[1;36m20\u001b[0m\u001b[1;33m,\u001b[0m\u001b[1;33m\u001b[0m\u001b[1;33m\u001b[0m\u001b[0m\n\u001b[1;32m----> 6\u001b[1;33m     \u001b[0mvalidation_data\u001b[0m\u001b[1;33m=\u001b[0m\u001b[1;33m(\u001b[0m\u001b[0mtest_inputs\u001b[0m\u001b[1;33m,\u001b[0m \u001b[0mtest_targets\u001b[0m\u001b[1;33m)\u001b[0m\u001b[1;33m\u001b[0m\u001b[1;33m\u001b[0m\u001b[0m\n\u001b[0m\u001b[0;32m      7\u001b[0m )\n",
      "\u001b[1;32mc:\\users\\dnybe\\anaconda3\\envs\\tf_gpu\\lib\\site-packages\\tensorflow\\python\\keras\\engine\\training.py\u001b[0m in \u001b[0;36m_method_wrapper\u001b[1;34m(self, *args, **kwargs)\u001b[0m\n\u001b[0;32m    106\u001b[0m   \u001b[1;32mdef\u001b[0m \u001b[0m_method_wrapper\u001b[0m\u001b[1;33m(\u001b[0m\u001b[0mself\u001b[0m\u001b[1;33m,\u001b[0m \u001b[1;33m*\u001b[0m\u001b[0margs\u001b[0m\u001b[1;33m,\u001b[0m \u001b[1;33m**\u001b[0m\u001b[0mkwargs\u001b[0m\u001b[1;33m)\u001b[0m\u001b[1;33m:\u001b[0m\u001b[1;33m\u001b[0m\u001b[1;33m\u001b[0m\u001b[0m\n\u001b[0;32m    107\u001b[0m     \u001b[1;32mif\u001b[0m \u001b[1;32mnot\u001b[0m \u001b[0mself\u001b[0m\u001b[1;33m.\u001b[0m\u001b[0m_in_multi_worker_mode\u001b[0m\u001b[1;33m(\u001b[0m\u001b[1;33m)\u001b[0m\u001b[1;33m:\u001b[0m  \u001b[1;31m# pylint: disable=protected-access\u001b[0m\u001b[1;33m\u001b[0m\u001b[1;33m\u001b[0m\u001b[0m\n\u001b[1;32m--> 108\u001b[1;33m       \u001b[1;32mreturn\u001b[0m \u001b[0mmethod\u001b[0m\u001b[1;33m(\u001b[0m\u001b[0mself\u001b[0m\u001b[1;33m,\u001b[0m \u001b[1;33m*\u001b[0m\u001b[0margs\u001b[0m\u001b[1;33m,\u001b[0m \u001b[1;33m**\u001b[0m\u001b[0mkwargs\u001b[0m\u001b[1;33m)\u001b[0m\u001b[1;33m\u001b[0m\u001b[1;33m\u001b[0m\u001b[0m\n\u001b[0m\u001b[0;32m    109\u001b[0m \u001b[1;33m\u001b[0m\u001b[0m\n\u001b[0;32m    110\u001b[0m     \u001b[1;31m# Running inside `run_distribute_coordinator` already.\u001b[0m\u001b[1;33m\u001b[0m\u001b[1;33m\u001b[0m\u001b[1;33m\u001b[0m\u001b[0m\n",
      "\u001b[1;32mc:\\users\\dnybe\\anaconda3\\envs\\tf_gpu\\lib\\site-packages\\tensorflow\\python\\keras\\engine\\training.py\u001b[0m in \u001b[0;36mfit\u001b[1;34m(self, x, y, batch_size, epochs, verbose, callbacks, validation_split, validation_data, shuffle, class_weight, sample_weight, initial_epoch, steps_per_epoch, validation_steps, validation_batch_size, validation_freq, max_queue_size, workers, use_multiprocessing)\u001b[0m\n\u001b[0;32m   1096\u001b[0m                 batch_size=batch_size):\n\u001b[0;32m   1097\u001b[0m               \u001b[0mcallbacks\u001b[0m\u001b[1;33m.\u001b[0m\u001b[0mon_train_batch_begin\u001b[0m\u001b[1;33m(\u001b[0m\u001b[0mstep\u001b[0m\u001b[1;33m)\u001b[0m\u001b[1;33m\u001b[0m\u001b[1;33m\u001b[0m\u001b[0m\n\u001b[1;32m-> 1098\u001b[1;33m               \u001b[0mtmp_logs\u001b[0m \u001b[1;33m=\u001b[0m \u001b[0mtrain_function\u001b[0m\u001b[1;33m(\u001b[0m\u001b[0miterator\u001b[0m\u001b[1;33m)\u001b[0m\u001b[1;33m\u001b[0m\u001b[1;33m\u001b[0m\u001b[0m\n\u001b[0m\u001b[0;32m   1099\u001b[0m               \u001b[1;32mif\u001b[0m \u001b[0mdata_handler\u001b[0m\u001b[1;33m.\u001b[0m\u001b[0mshould_sync\u001b[0m\u001b[1;33m:\u001b[0m\u001b[1;33m\u001b[0m\u001b[1;33m\u001b[0m\u001b[0m\n\u001b[0;32m   1100\u001b[0m                 \u001b[0mcontext\u001b[0m\u001b[1;33m.\u001b[0m\u001b[0masync_wait\u001b[0m\u001b[1;33m(\u001b[0m\u001b[1;33m)\u001b[0m\u001b[1;33m\u001b[0m\u001b[1;33m\u001b[0m\u001b[0m\n",
      "\u001b[1;32mc:\\users\\dnybe\\anaconda3\\envs\\tf_gpu\\lib\\site-packages\\tensorflow\\python\\eager\\def_function.py\u001b[0m in \u001b[0;36m__call__\u001b[1;34m(self, *args, **kwds)\u001b[0m\n\u001b[0;32m    778\u001b[0m       \u001b[1;32melse\u001b[0m\u001b[1;33m:\u001b[0m\u001b[1;33m\u001b[0m\u001b[1;33m\u001b[0m\u001b[0m\n\u001b[0;32m    779\u001b[0m         \u001b[0mcompiler\u001b[0m \u001b[1;33m=\u001b[0m \u001b[1;34m\"nonXla\"\u001b[0m\u001b[1;33m\u001b[0m\u001b[1;33m\u001b[0m\u001b[0m\n\u001b[1;32m--> 780\u001b[1;33m         \u001b[0mresult\u001b[0m \u001b[1;33m=\u001b[0m \u001b[0mself\u001b[0m\u001b[1;33m.\u001b[0m\u001b[0m_call\u001b[0m\u001b[1;33m(\u001b[0m\u001b[1;33m*\u001b[0m\u001b[0margs\u001b[0m\u001b[1;33m,\u001b[0m \u001b[1;33m**\u001b[0m\u001b[0mkwds\u001b[0m\u001b[1;33m)\u001b[0m\u001b[1;33m\u001b[0m\u001b[1;33m\u001b[0m\u001b[0m\n\u001b[0m\u001b[0;32m    781\u001b[0m \u001b[1;33m\u001b[0m\u001b[0m\n\u001b[0;32m    782\u001b[0m       \u001b[0mnew_tracing_count\u001b[0m \u001b[1;33m=\u001b[0m \u001b[0mself\u001b[0m\u001b[1;33m.\u001b[0m\u001b[0m_get_tracing_count\u001b[0m\u001b[1;33m(\u001b[0m\u001b[1;33m)\u001b[0m\u001b[1;33m\u001b[0m\u001b[1;33m\u001b[0m\u001b[0m\n",
      "\u001b[1;32mc:\\users\\dnybe\\anaconda3\\envs\\tf_gpu\\lib\\site-packages\\tensorflow\\python\\eager\\def_function.py\u001b[0m in \u001b[0;36m_call\u001b[1;34m(self, *args, **kwds)\u001b[0m\n\u001b[0;32m    805\u001b[0m       \u001b[1;31m# In this case we have created variables on the first call, so we run the\u001b[0m\u001b[1;33m\u001b[0m\u001b[1;33m\u001b[0m\u001b[1;33m\u001b[0m\u001b[0m\n\u001b[0;32m    806\u001b[0m       \u001b[1;31m# defunned version which is guaranteed to never create variables.\u001b[0m\u001b[1;33m\u001b[0m\u001b[1;33m\u001b[0m\u001b[1;33m\u001b[0m\u001b[0m\n\u001b[1;32m--> 807\u001b[1;33m       \u001b[1;32mreturn\u001b[0m \u001b[0mself\u001b[0m\u001b[1;33m.\u001b[0m\u001b[0m_stateless_fn\u001b[0m\u001b[1;33m(\u001b[0m\u001b[1;33m*\u001b[0m\u001b[0margs\u001b[0m\u001b[1;33m,\u001b[0m \u001b[1;33m**\u001b[0m\u001b[0mkwds\u001b[0m\u001b[1;33m)\u001b[0m  \u001b[1;31m# pylint: disable=not-callable\u001b[0m\u001b[1;33m\u001b[0m\u001b[1;33m\u001b[0m\u001b[0m\n\u001b[0m\u001b[0;32m    808\u001b[0m     \u001b[1;32melif\u001b[0m \u001b[0mself\u001b[0m\u001b[1;33m.\u001b[0m\u001b[0m_stateful_fn\u001b[0m \u001b[1;32mis\u001b[0m \u001b[1;32mnot\u001b[0m \u001b[1;32mNone\u001b[0m\u001b[1;33m:\u001b[0m\u001b[1;33m\u001b[0m\u001b[1;33m\u001b[0m\u001b[0m\n\u001b[0;32m    809\u001b[0m       \u001b[1;31m# Release the lock early so that multiple threads can perform the call\u001b[0m\u001b[1;33m\u001b[0m\u001b[1;33m\u001b[0m\u001b[1;33m\u001b[0m\u001b[0m\n",
      "\u001b[1;32mc:\\users\\dnybe\\anaconda3\\envs\\tf_gpu\\lib\\site-packages\\tensorflow\\python\\eager\\function.py\u001b[0m in \u001b[0;36m__call__\u001b[1;34m(self, *args, **kwargs)\u001b[0m\n\u001b[0;32m   2827\u001b[0m     \u001b[1;32mwith\u001b[0m \u001b[0mself\u001b[0m\u001b[1;33m.\u001b[0m\u001b[0m_lock\u001b[0m\u001b[1;33m:\u001b[0m\u001b[1;33m\u001b[0m\u001b[1;33m\u001b[0m\u001b[0m\n\u001b[0;32m   2828\u001b[0m       \u001b[0mgraph_function\u001b[0m\u001b[1;33m,\u001b[0m \u001b[0margs\u001b[0m\u001b[1;33m,\u001b[0m \u001b[0mkwargs\u001b[0m \u001b[1;33m=\u001b[0m \u001b[0mself\u001b[0m\u001b[1;33m.\u001b[0m\u001b[0m_maybe_define_function\u001b[0m\u001b[1;33m(\u001b[0m\u001b[0margs\u001b[0m\u001b[1;33m,\u001b[0m \u001b[0mkwargs\u001b[0m\u001b[1;33m)\u001b[0m\u001b[1;33m\u001b[0m\u001b[1;33m\u001b[0m\u001b[0m\n\u001b[1;32m-> 2829\u001b[1;33m     \u001b[1;32mreturn\u001b[0m \u001b[0mgraph_function\u001b[0m\u001b[1;33m.\u001b[0m\u001b[0m_filtered_call\u001b[0m\u001b[1;33m(\u001b[0m\u001b[0margs\u001b[0m\u001b[1;33m,\u001b[0m \u001b[0mkwargs\u001b[0m\u001b[1;33m)\u001b[0m  \u001b[1;31m# pylint: disable=protected-access\u001b[0m\u001b[1;33m\u001b[0m\u001b[1;33m\u001b[0m\u001b[0m\n\u001b[0m\u001b[0;32m   2830\u001b[0m \u001b[1;33m\u001b[0m\u001b[0m\n\u001b[0;32m   2831\u001b[0m   \u001b[1;33m@\u001b[0m\u001b[0mproperty\u001b[0m\u001b[1;33m\u001b[0m\u001b[1;33m\u001b[0m\u001b[0m\n",
      "\u001b[1;32mc:\\users\\dnybe\\anaconda3\\envs\\tf_gpu\\lib\\site-packages\\tensorflow\\python\\eager\\function.py\u001b[0m in \u001b[0;36m_filtered_call\u001b[1;34m(self, args, kwargs, cancellation_manager)\u001b[0m\n\u001b[0;32m   1846\u001b[0m                            resource_variable_ops.BaseResourceVariable))],\n\u001b[0;32m   1847\u001b[0m         \u001b[0mcaptured_inputs\u001b[0m\u001b[1;33m=\u001b[0m\u001b[0mself\u001b[0m\u001b[1;33m.\u001b[0m\u001b[0mcaptured_inputs\u001b[0m\u001b[1;33m,\u001b[0m\u001b[1;33m\u001b[0m\u001b[1;33m\u001b[0m\u001b[0m\n\u001b[1;32m-> 1848\u001b[1;33m         cancellation_manager=cancellation_manager)\n\u001b[0m\u001b[0;32m   1849\u001b[0m \u001b[1;33m\u001b[0m\u001b[0m\n\u001b[0;32m   1850\u001b[0m   \u001b[1;32mdef\u001b[0m \u001b[0m_call_flat\u001b[0m\u001b[1;33m(\u001b[0m\u001b[0mself\u001b[0m\u001b[1;33m,\u001b[0m \u001b[0margs\u001b[0m\u001b[1;33m,\u001b[0m \u001b[0mcaptured_inputs\u001b[0m\u001b[1;33m,\u001b[0m \u001b[0mcancellation_manager\u001b[0m\u001b[1;33m=\u001b[0m\u001b[1;32mNone\u001b[0m\u001b[1;33m)\u001b[0m\u001b[1;33m:\u001b[0m\u001b[1;33m\u001b[0m\u001b[1;33m\u001b[0m\u001b[0m\n",
      "\u001b[1;32mc:\\users\\dnybe\\anaconda3\\envs\\tf_gpu\\lib\\site-packages\\tensorflow\\python\\eager\\function.py\u001b[0m in \u001b[0;36m_call_flat\u001b[1;34m(self, args, captured_inputs, cancellation_manager)\u001b[0m\n\u001b[0;32m   1922\u001b[0m       \u001b[1;31m# No tape is watching; skip to running the function.\u001b[0m\u001b[1;33m\u001b[0m\u001b[1;33m\u001b[0m\u001b[1;33m\u001b[0m\u001b[0m\n\u001b[0;32m   1923\u001b[0m       return self._build_call_outputs(self._inference_function.call(\n\u001b[1;32m-> 1924\u001b[1;33m           ctx, args, cancellation_manager=cancellation_manager))\n\u001b[0m\u001b[0;32m   1925\u001b[0m     forward_backward = self._select_forward_and_backward_functions(\n\u001b[0;32m   1926\u001b[0m         \u001b[0margs\u001b[0m\u001b[1;33m,\u001b[0m\u001b[1;33m\u001b[0m\u001b[1;33m\u001b[0m\u001b[0m\n",
      "\u001b[1;32mc:\\users\\dnybe\\anaconda3\\envs\\tf_gpu\\lib\\site-packages\\tensorflow\\python\\eager\\function.py\u001b[0m in \u001b[0;36mcall\u001b[1;34m(self, ctx, args, cancellation_manager)\u001b[0m\n\u001b[0;32m    548\u001b[0m               \u001b[0minputs\u001b[0m\u001b[1;33m=\u001b[0m\u001b[0margs\u001b[0m\u001b[1;33m,\u001b[0m\u001b[1;33m\u001b[0m\u001b[1;33m\u001b[0m\u001b[0m\n\u001b[0;32m    549\u001b[0m               \u001b[0mattrs\u001b[0m\u001b[1;33m=\u001b[0m\u001b[0mattrs\u001b[0m\u001b[1;33m,\u001b[0m\u001b[1;33m\u001b[0m\u001b[1;33m\u001b[0m\u001b[0m\n\u001b[1;32m--> 550\u001b[1;33m               ctx=ctx)\n\u001b[0m\u001b[0;32m    551\u001b[0m         \u001b[1;32melse\u001b[0m\u001b[1;33m:\u001b[0m\u001b[1;33m\u001b[0m\u001b[1;33m\u001b[0m\u001b[0m\n\u001b[0;32m    552\u001b[0m           outputs = execute.execute_with_cancellation(\n",
      "\u001b[1;32mc:\\users\\dnybe\\anaconda3\\envs\\tf_gpu\\lib\\site-packages\\tensorflow\\python\\eager\\execute.py\u001b[0m in \u001b[0;36mquick_execute\u001b[1;34m(op_name, num_outputs, inputs, attrs, ctx, name)\u001b[0m\n\u001b[0;32m     58\u001b[0m     \u001b[0mctx\u001b[0m\u001b[1;33m.\u001b[0m\u001b[0mensure_initialized\u001b[0m\u001b[1;33m(\u001b[0m\u001b[1;33m)\u001b[0m\u001b[1;33m\u001b[0m\u001b[1;33m\u001b[0m\u001b[0m\n\u001b[0;32m     59\u001b[0m     tensors = pywrap_tfe.TFE_Py_Execute(ctx._handle, device_name, op_name,\n\u001b[1;32m---> 60\u001b[1;33m                                         inputs, attrs, num_outputs)\n\u001b[0m\u001b[0;32m     61\u001b[0m   \u001b[1;32mexcept\u001b[0m \u001b[0mcore\u001b[0m\u001b[1;33m.\u001b[0m\u001b[0m_NotOkStatusException\u001b[0m \u001b[1;32mas\u001b[0m \u001b[0me\u001b[0m\u001b[1;33m:\u001b[0m\u001b[1;33m\u001b[0m\u001b[1;33m\u001b[0m\u001b[0m\n\u001b[0;32m     62\u001b[0m     \u001b[1;32mif\u001b[0m \u001b[0mname\u001b[0m \u001b[1;32mis\u001b[0m \u001b[1;32mnot\u001b[0m \u001b[1;32mNone\u001b[0m\u001b[1;33m:\u001b[0m\u001b[1;33m\u001b[0m\u001b[1;33m\u001b[0m\u001b[0m\n",
      "\u001b[1;31mKeyboardInterrupt\u001b[0m: "
     ]
    }
   ],
   "source": [
    "history = model.fit(\n",
    "    train_inputs,\n",
    "    train_targets,\n",
    "    batch_size=4,\n",
    "    epochs=20,\n",
    "    validation_data=(test_inputs, test_targets)\n",
    ")"
   ]
  },
  {
   "cell_type": "code",
   "execution_count": 29,
   "metadata": {},
   "outputs": [],
   "source": [
    "model.save('new.h5')"
   ]
  },
  {
   "cell_type": "code",
   "execution_count": 30,
   "metadata": {},
   "outputs": [],
   "source": [
    "restored_model = keras.models.load_model('new.h5')\n",
    "restored_model.compile(loss='categorical_crossentropy', optimizer='adam', metrics=['accuracy'])"
   ]
  },
  {
   "cell_type": "code",
   "execution_count": 25,
   "metadata": {},
   "outputs": [
    {
     "name": "stdout",
     "output_type": "stream",
     "text": [
      "Epoch 1/10\n",
      "1231/1231 [==============================] - 24s 19ms/step - loss: 1.0981 - accuracy: 0.5923 - val_loss: 1.4364 - val_accuracy: 0.5448\n",
      "Epoch 2/10\n",
      "1231/1231 [==============================] - 24s 20ms/step - loss: 1.1236 - accuracy: 0.5887 - val_loss: 1.4567 - val_accuracy: 0.5425\n",
      "Epoch 3/10\n",
      "1231/1231 [==============================] - 24s 19ms/step - loss: 1.1168 - accuracy: 0.5904 - val_loss: 1.4379 - val_accuracy: 0.5475\n",
      "Epoch 4/10\n",
      "1231/1231 [==============================] - 24s 20ms/step - loss: 1.1096 - accuracy: 0.5933 - val_loss: 1.4781 - val_accuracy: 0.5471\n",
      "Epoch 5/10\n",
      "1231/1231 [==============================] - 24s 20ms/step - loss: 1.1027 - accuracy: 0.5950 - val_loss: 1.4382 - val_accuracy: 0.5518\n",
      "Epoch 6/10\n",
      "1231/1231 [==============================] - 24s 19ms/step - loss: 1.0897 - accuracy: 0.5994 - val_loss: 1.3934 - val_accuracy: 0.5632\n",
      "Epoch 7/10\n",
      "1231/1231 [==============================] - 24s 19ms/step - loss: 1.0824 - accuracy: 0.6015 - val_loss: 1.4250 - val_accuracy: 0.5531\n",
      "Epoch 8/10\n",
      "1231/1231 [==============================] - 24s 19ms/step - loss: 1.1174 - accuracy: 0.5965 - val_loss: 1.4546 - val_accuracy: 0.5475\n",
      "Epoch 9/10\n",
      "1231/1231 [==============================] - 24s 19ms/step - loss: 1.0747 - accuracy: 0.6039 - val_loss: 1.4646 - val_accuracy: 0.5397\n",
      "Epoch 10/10\n",
      "1231/1231 [==============================] - 24s 19ms/step - loss: 1.0835 - accuracy: 0.6038 - val_loss: 1.5552 - val_accuracy: 0.5403\n"
     ]
    }
   ],
   "source": [
    "history = new_model.fit(\n",
    "    train_inputs,\n",
    "    train_targets,\n",
    "    batch_size=4,\n",
    "    epochs=10,\n",
    "    validation_data=(test_inputs, test_targets)\n",
    ")"
   ]
  },
  {
   "cell_type": "code",
   "execution_count": 27,
   "metadata": {
    "colab": {
     "base_uri": "https://localhost:8080/",
     "height": 480
    },
    "id": "Rj7IS3DbKq4Z",
    "outputId": "4f6b2791-d30e-444f-bce3-2a513f81a8bb"
   },
   "outputs": [
    {
     "data": {
      "image/png": "[encoded data removed]",
      "text/plain": [
       "<Figure size 432x288 with 1 Axes>"
      ]
     },
     "metadata": {
      "needs_background": "light"
     },
     "output_type": "display_data"
    }
   ],
   "source": [
    "#plotting losses, https://stackoverflow.com/questions/41908379/keras-plot-training-validation-and-test-set-accuracy\n",
    "plt.plot(history.history['loss'])\n",
    "plt.plot(history.history['val_loss'])\n",
    "plt.title('model loss')\n",
    "plt.ylabel('loss')\n",
    "plt.xlabel('epoch')\n",
    "plt.legend(['train', 'val'], loc='upper left')\n",
    "plt.show()"
   ]
  },
  {
   "cell_type": "code",
   "execution_count": 26,
   "metadata": {},
   "outputs": [],
   "source": [
    "new_model.save('LSTM_60acc_best.h5')\n",
    "new_model.save_weights('./best_model_w')\n",
    "\n"
   ]
  },
  {
   "cell_type": "code",
   "execution_count": 49,
   "metadata": {},
   "outputs": [],
   "source": [
    "model = tf.keras.models.load_model('LSTM_60acc_best.h5')\n",
    "model.compile(loss='categorical_crossentropy', optimizer='adam', metrics=['accuracy'])"
   ]
  },
  {
   "cell_type": "code",
   "execution_count": null,
   "metadata": {},
   "outputs": [],
   "source": [
    "model = Sequential()\n",
    "model.add(LSTM(100, batch_input_shape=(4, input_len, vocab_size), stateful=True))\n",
    "model.add(RepeatVector(target_len))\n",
    "model.add(LSTM(100, return_sequences=True, stateful=True))\n",
    "model.add(LSTM(100, return_sequences=True, stateful=True))\n",
    "model.add(TimeDistributed(Dense(vocab_size, activation='softmax')))\n",
    "model.compile(loss='categorical_crossentropy', optimizer='adam', metrics=['accuracy'])"
   ]
  },
  {
   "cell_type": "code",
   "execution_count": 250,
   "metadata": {},
   "outputs": [],
   "source": [
    "input_len = 20\n",
    "target_len = 28\n",
    "train_inputs = ti\n",
    "train_targets =tt\n",
    "test_inputs = val_in\n",
    "test_targets = val_tar"
   ]
  },
  {
   "cell_type": "code",
   "execution_count": 267,
   "metadata": {},
   "outputs": [],
   "source": [
    "def get_predictions(model, data_source_inputs, data_source_targets):\n",
    "\n",
    "    predictions = []\n",
    "    ground_truths = []\n",
    "    inputs = [] #this is input seq alrdy\n",
    "\n",
    "    #batch size 4 means we must predict in batches of 4 (keras/tf limitation)\n",
    "    for i in range(0, data_source_inputs.shape[0], 4):\n",
    "        res = model.predict(data_source_inputs[i:i+4])\n",
    "        #print(\"Predicted next four\", i, i+4)\n",
    "        for z in range(4):\n",
    "            for j in range(target_len):\n",
    "                ground_truths.append(np.argmax(data_source_targets[z][j]))\n",
    "                #res is (4,28,10050)\n",
    "                predictions.append(np.argmax(res[z][j]))\n",
    "\n",
    "            for k in range(input_len):\n",
    "                inputs.append(np.argmax(data_source_inputs[z][k]))\n",
    "            \n",
    "    return inputs, ground_truths, predictions"
   ]
  },
  {
   "cell_type": "code",
   "execution_count": 268,
   "metadata": {},
   "outputs": [],
   "source": [
    "inputs_list, target_list, preds_list = get_predictions(model, train_inputs, train_targets)"
   ]
  },
  {
   "cell_type": "code",
   "execution_count": 283,
   "metadata": {},
   "outputs": [
    {
     "data": {
      "text/plain": [
       "50.5"
      ]
     },
     "execution_count": 283,
     "metadata": {},
     "output_type": "execute_result"
    }
   ],
   "source": [
    "inputs_list[1] / 100"
   ]
  },
  {
   "cell_type": "code",
   "execution_count": 304,
   "metadata": {},
   "outputs": [],
   "source": [
    "import numpy as np\n",
    "import matplotlib.pyplot as plt\n",
    "import time\n",
    "\n",
    "def vis_trajectory_scatter(best_model, lag_time = 2.0):\n",
    "  #input_list, target_list, preds_list = get_predictions(best_model, data_src_inputs, data_src_targets)\n",
    "\n",
    "    min_val, max_val = 0, 100\n",
    "\n",
    "    # fig, ax = plt.subplots()\n",
    "    plt.figure(figsize=(3,3))\n",
    "\n",
    "    xy_inputs = []\n",
    "    xy_preds = []\n",
    "    xy_target = []\n",
    "\n",
    "    for inp in inputs_list:\n",
    "      x = inp % 100\n",
    "      y = inp / 100 \n",
    "\n",
    "      xy_inputs.append([x, y])\n",
    "\n",
    "    for inp in preds_list:\n",
    "      x = inp % 100\n",
    "      y = inp / 100 \n",
    "      xy_preds.append([x, y])\n",
    "\n",
    "    for inp in target_list:\n",
    "      x = inp % 100\n",
    "      y = inp / 100 \n",
    "      xy_target.append([x, y])\n",
    "\n",
    "    x_inp, y_inp = zip(*xy_inputs)\n",
    "    x_tar, y_tar = zip(*xy_target)\n",
    "    x_pred, y_pred = zip(*xy_preds)\n",
    "\n",
    "    plot_x_inp, plot_y_inp, plot_x_pred, plot_y_pred, plot_x_gt, plot_y_gt = [], [], [], [], [], []\n",
    "\n",
    "    for i in range(20):\n",
    "        plot_x_inp.append(x_inp[i])\n",
    "        plot_y_inp.append(y_inp[i])\n",
    "    for i in range(28):\n",
    "        plot_x_pred.append(x_pred[i])\n",
    "        plot_y_pred.append(y_pred[i])\n",
    "        plot_x_gt.append(x_tar[i])\n",
    "        plot_y_gt.append(y_tar[i])\n",
    "\n",
    "    plt.scatter(plot_x_inp,plot_y_inp)\n",
    "    plt.scatter(plot_x_gt,plot_y_gt, color='r')\n",
    "    plt.scatter(plot_x_pred,plot_y_pred)\n",
    "\n",
    "    plt.xlim(0, 100)\n",
    "    plt.ylim(0, 100)\n",
    "\n",
    "    plt.show()\n",
    "    \"\"\"\n",
    "    print(\"Input: \", xy_inputs)\n",
    "    print(\"Preds: \", xy_preds)\n",
    "    print(\"Truth: \", xy_target)\n",
    "    \"\"\"\n",
    "    time.sleep(lag_time)"
   ]
  },
  {
   "cell_type": "code",
   "execution_count": 305,
   "metadata": {},
   "outputs": [
    {
     "data": {
      "image/png": "[encoded data removed]",
      "text/plain": [
       "<Figure size 216x216 with 1 Axes>"
      ]
     },
     "metadata": {
      "needs_background": "light"
     },
     "output_type": "display_data"
    }
   ],
   "source": [
    "vis_trajectory_scatter(model)"
   ]
  },
  {
   "cell_type": "code",
   "execution_count": null,
   "metadata": {},
   "outputs": [],
   "source": []
  },
  {
   "cell_type": "code",
   "execution_count": null,
   "metadata": {},
   "outputs": [],
   "source": []
  }
 ],
 "metadata": {
  "colab": {
   "collapsed_sections": [],
   "name": "new_data_lstm_bins.ipynb",
   "provenance": []
  },
  "kernelspec": {
   "display_name": "Python 3",
   "language": "python",
   "name": "python3"
  },
  "language_info": {
   "codemirror_mode": {
    "name": "ipython",
    "version": 3
   },
   "file_extension": ".py",
   "mimetype": "text/x-python",
   "name": "python",
   "nbconvert_exporter": "python",
   "pygments_lexer": "ipython3",
   "version": "3.7.9"
  }
 },
 "nbformat": 4,
 "nbformat_minor": 1
}
