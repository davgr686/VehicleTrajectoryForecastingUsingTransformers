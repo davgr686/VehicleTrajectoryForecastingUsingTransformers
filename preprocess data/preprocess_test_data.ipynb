{
 "cells": [
  {
   "cell_type": "code",
   "execution_count": 1,
   "metadata": {},
   "outputs": [],
   "source": [
    "import pandas as pd\n",
    "import numpy as np\n",
    "import glob\n",
    "import random"
   ]
  },
  {
   "cell_type": "code",
   "execution_count": 2,
   "metadata": {},
   "outputs": [],
   "source": [
    "data = pd.read_csv(\"traj_test_set.csv\")"
   ]
  },
  {
   "cell_type": "code",
   "execution_count": 6,
   "metadata": {},
   "outputs": [
    {
     "data": {
      "text/plain": [
       "30956"
      ]
     },
     "execution_count": 6,
     "metadata": {},
     "output_type": "execute_result"
    }
   ],
   "source": [
    "data['timestamp'].count()\n",
    "sequence_length = 200                      ## set sequence length of one trajectory\n",
    "total_timesteps = data['timestamp'].count()"
   ]
  },
  {
   "cell_type": "code",
   "execution_count": 4,
   "metadata": {},
   "outputs": [
    {
     "name": "stderr",
     "output_type": "stream",
     "text": [
      "C:\\Users\\daavi\\Anaconda3\\lib\\site-packages\\ipykernel_launcher.py:14: FutureWarning: `item` has been deprecated and will be removed in a future version\n",
      "  \n",
      "C:\\Users\\daavi\\Anaconda3\\lib\\site-packages\\ipykernel_launcher.py:17: FutureWarning: `item` has been deprecated and will be removed in a future version\n"
     ]
    }
   ],
   "source": [
    "df_list = []\n",
    "\n",
    "x_seq_o = [] \n",
    "y_seq_o = [] \n",
    "\n",
    "x_rel_seq_o = []\n",
    "y_rel_seq_o = []\n",
    "track_seq_o = []\n",
    "\n",
    "for indx in range(0, 30000, sequence_length):\n",
    "#     print(\"THE INDEX: \", indx)\n",
    "    traj = data.loc[indx:indx+sequence_length-1]\n",
    "    traj = traj.sort_values(\"timestamp\", ascending=True)\n",
    "    start_x = traj.head(1)['longitude'].item()\n",
    "    start_y = traj.head(1)['latitude'].item()\n",
    "\n",
    "    x_seq = [] \n",
    "    y_seq = [] \n",
    "\n",
    "    x_rel_seq = []\n",
    "    y_rel_seq = []\n",
    "    track_seq = []\n",
    "\n",
    "    x_seq = [i for i in traj['longitude']]\n",
    "    y_seq = [i for i in traj['latitude']]\n",
    "    \n",
    "    for i, row in traj.iterrows():\n",
    "        x_rel_seq.append(row['longitude'] - start_x)\n",
    "        y_rel_seq.append(row['latitude'] - start_y)\n",
    "        track_seq.append(int(indx))\n",
    "\n",
    "    if (y_rel_seq[-1] != 0 and x_rel_seq[-1] != 0):\n",
    "        x_seq_o = x_seq_o + x_seq\n",
    "        y_seq_o = y_seq_o + y_seq\n",
    "\n",
    "        x_rel_seq_o = x_rel_seq_o + x_rel_seq\n",
    "        y_rel_seq_o = y_rel_seq_o + y_rel_seq\n",
    "        track_seq_o = track_seq_o + track_seq\n",
    "dict_pd = {'Vehicle_ID': track_seq_o, 'X': x_seq_o, 'Y': y_seq_o, 'X_REL': x_rel_seq_o, 'Y_REL': y_rel_seq_o} \n",
    "df = pd.DataFrame(dict_pd)\n",
    "df_list.append(df)\n"
   ]
  },
  {
   "cell_type": "code",
   "execution_count": 5,
   "metadata": {},
   "outputs": [],
   "source": [
    "data_combined = pd.concat(df_list, axis=0, ignore_index=True)"
   ]
  },
  {
   "cell_type": "code",
   "execution_count": 6,
   "metadata": {},
   "outputs": [],
   "source": [
    "data_combined.to_csv(\"traj_test.csv\")"
   ]
  }
 ],
 "metadata": {
  "kernelspec": {
   "display_name": "Python 3",
   "language": "python",
   "name": "python3"
  },
  "language_info": {
   "codemirror_mode": {
    "name": "ipython",
    "version": 3
   },
   "file_extension": ".py",
   "mimetype": "text/x-python",
   "name": "python",
   "nbconvert_exporter": "python",
   "pygments_lexer": "ipython3",
   "version": "3.7.4"
  }
 },
 "nbformat": 4,
 "nbformat_minor": 2
}
