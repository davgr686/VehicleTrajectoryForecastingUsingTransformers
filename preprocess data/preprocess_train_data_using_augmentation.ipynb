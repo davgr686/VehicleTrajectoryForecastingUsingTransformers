{
 "cells": [
  {
   "cell_type": "code",
   "execution_count": 1,
   "metadata": {},
   "outputs": [],
   "source": [
    "import pandas as pd\n",
    "import numpy as np\n",
    "import glob\n",
    "import random\n",
    "import math\n",
    "\n",
    "from math import sin, cos, radians\n",
    "\n",
    "def rotate_point(point, angle, center_point=(0, 0)):\n",
    "    \"\"\"Rotates a point around center_point(origin by default)\n",
    "    Angle is in degrees.\n",
    "    Rotation is counter-clockwise\n",
    "    \"\"\"\n",
    "    angle_rad = radians(angle % 360)\n",
    "    # Shift the point so that center_point becomes the origin\n",
    "    new_point = (point[0] - center_point[0], point[1] - center_point[1])\n",
    "    new_point = (new_point[0] * cos(angle_rad) - new_point[1] * sin(angle_rad),\n",
    "                 new_point[0] * sin(angle_rad) + new_point[1] * cos(angle_rad))\n",
    "    # Reverse the shifting we have done\n",
    "    new_point = (new_point[0] + center_point[0], new_point[1] + center_point[1])\n",
    "    return new_point"
   ]
  },
  {
   "cell_type": "code",
   "execution_count": 2,
   "metadata": {},
   "outputs": [],
   "source": [
    "data = pd.read_csv(\"traj_train_set.csv\")\n",
    "sequence_length = 200                      ## set sequence length of one trajectory\n",
    "total_timesteps = data['timestamp'].count()\n"
   ]
  },
  {
   "cell_type": "code",
   "execution_count": 5,
   "metadata": {},
   "outputs": [
    {
     "name": "stderr",
     "output_type": "stream",
     "text": [
      "C:\\Users\\daavi\\Anaconda3\\lib\\site-packages\\ipykernel_launcher.py:14: FutureWarning: `item` has been deprecated and will be removed in a future version\n",
      "  \n",
      "C:\\Users\\daavi\\Anaconda3\\lib\\site-packages\\ipykernel_launcher.py:17: FutureWarning: `item` has been deprecated and will be removed in a future version\n"
     ]
    }
   ],
   "source": [
    "df_list = []\n",
    "\n",
    "x_seq_o = [] \n",
    "y_seq_o = [] \n",
    "\n",
    "x_rel_seq_o = []\n",
    "y_rel_seq_o = []\n",
    "track_seq_o = []\n",
    "\n",
    "for indx in range(0, total_timesteps, sequence_length):\n",
    "#     print(\"THE INDEX: \", indx)\n",
    "    traj = data.loc[indx:indx+sequence_length-1]\n",
    "    traj = traj.sort_values(\"timestamp\", ascending=True)\n",
    "    start_x = traj.head(1)['longitude'].item()\n",
    "    start_y = traj.head(1)['latitude'].item()\n",
    "\n",
    "    x_seq = [] \n",
    "    y_seq = [] \n",
    "\n",
    "    x_rel_seq = []\n",
    "    y_rel_seq = []\n",
    "    track_seq = []\n",
    "\n",
    "    x_seq = [i for i in traj['longitude']]\n",
    "    y_seq = [i for i in traj['latitude']]\n",
    "    \n",
    "    for i, row in traj.iterrows():\n",
    "        x_rel_seq.append(row['longitude'] - start_x)\n",
    "        y_rel_seq.append(row['latitude'] - start_y)\n",
    "        track_seq.append(int(indx))\n",
    "\n",
    "    if (y_rel_seq[-1] != 0 and x_rel_seq[-1] != 0):\n",
    "        x_seq_o = x_seq_o + x_seq\n",
    "        y_seq_o = y_seq_o + y_seq\n",
    "\n",
    "        x_rel_seq_o = x_rel_seq_o + x_rel_seq\n",
    "        y_rel_seq_o = y_rel_seq_o + y_rel_seq\n",
    "        track_seq_o = track_seq_o + track_seq\n",
    "dict_pd = {'Vehicle_ID': track_seq_o, 'X': x_seq_o, 'Y': y_seq_o, 'X_REL': x_rel_seq_o, 'Y_REL': y_rel_seq_o} \n",
    "df = pd.DataFrame(dict_pd)\n",
    "df_list.append(df)\n"
   ]
  },
  {
   "cell_type": "code",
   "execution_count": 6,
   "metadata": {},
   "outputs": [],
   "source": [
    "data_combined = pd.concat(df_list, axis=0, ignore_index=True)"
   ]
  },
  {
   "cell_type": "code",
   "execution_count": 7,
   "metadata": {},
   "outputs": [
    {
     "name": "stderr",
     "output_type": "stream",
     "text": [
      "C:\\Users\\daavi\\Anaconda3\\lib\\site-packages\\ipykernel_launcher.py:7: FutureWarning: `item` has been deprecated and will be removed in a future version\n",
      "  import sys\n",
      "C:\\Users\\daavi\\Anaconda3\\lib\\site-packages\\ipykernel_launcher.py:8: FutureWarning: `item` has been deprecated and will be removed in a future version\n",
      "  \n",
      "C:\\Users\\daavi\\Anaconda3\\lib\\site-packages\\ipykernel_launcher.py:11: SettingWithCopyWarning: \n",
      "A value is trying to be set on a copy of a slice from a DataFrame\n",
      "\n",
      "See the caveats in the documentation: http://pandas.pydata.org/pandas-docs/stable/user_guide/indexing.html#returning-a-view-versus-a-copy\n",
      "  # This is added back by InteractiveShellApp.init_path()\n",
      "C:\\Users\\daavi\\Anaconda3\\lib\\site-packages\\ipykernel_launcher.py:12: SettingWithCopyWarning: \n",
      "A value is trying to be set on a copy of a slice from a DataFrame\n",
      "\n",
      "See the caveats in the documentation: http://pandas.pydata.org/pandas-docs/stable/user_guide/indexing.html#returning-a-view-versus-a-copy\n",
      "  if sys.path[0] == '':\n",
      "C:\\Users\\daavi\\Anaconda3\\lib\\site-packages\\ipykernel_launcher.py:13: FutureWarning: `item` has been deprecated and will be removed in a future version\n",
      "  del sys.path[0]\n",
      "C:\\Users\\daavi\\Anaconda3\\lib\\site-packages\\ipykernel_launcher.py:14: FutureWarning: `item` has been deprecated and will be removed in a future version\n",
      "  \n",
      "C:\\Users\\daavi\\Anaconda3\\lib\\site-packages\\ipykernel_launcher.py:15: SettingWithCopyWarning: \n",
      "A value is trying to be set on a copy of a slice from a DataFrame\n",
      "\n",
      "See the caveats in the documentation: http://pandas.pydata.org/pandas-docs/stable/user_guide/indexing.html#returning-a-view-versus-a-copy\n",
      "  from ipykernel import kernelapp as app\n",
      "C:\\Users\\daavi\\Anaconda3\\lib\\site-packages\\ipykernel_launcher.py:16: SettingWithCopyWarning: \n",
      "A value is trying to be set on a copy of a slice from a DataFrame\n",
      "\n",
      "See the caveats in the documentation: http://pandas.pydata.org/pandas-docs/stable/user_guide/indexing.html#returning-a-view-versus-a-copy\n",
      "  app.launch_new_instance()\n"
     ]
    }
   ],
   "source": [
    "unique_vehicle = data_combined['Vehicle_ID'].unique()\n",
    "countr = 0\n",
    "for vehicle in unique_vehicle:\n",
    "    countr += 1\n",
    "    if (countr % 2 == 0):\n",
    "        rad = random.randrange(360)\n",
    "        start_x = data_combined['X'][data_combined['Vehicle_ID'] == vehicle].head(1).item()\n",
    "        start_y = data_combined['Y'][data_combined['Vehicle_ID'] == vehicle].head(1).item()\n",
    "        rotated = data_combined[['X', 'Y']][data_combined['Vehicle_ID'] == vehicle].apply(lambda row: rotate_point([row['X'],row['Y']], rad, [start_x, start_y]),axis=1, result_type=\"expand\") \n",
    "        data_combined['X'][data_combined['Vehicle_ID'] == vehicle] = rotated[0]\n",
    "        data_combined['Y'][data_combined['Vehicle_ID'] == vehicle] = rotated[1]\n",
    "        start_x = data_combined['X'][data_combined['Vehicle_ID'] == vehicle].head(1).item()\n",
    "        start_y = data_combined['Y'][data_combined['Vehicle_ID'] == vehicle].head(1).item()\n",
    "        data_combined['X_REL'][data_combined['Vehicle_ID'] == vehicle] = data_combined['X'][data_combined['Vehicle_ID'] == vehicle] - start_x\n",
    "        data_combined['Y_REL'][data_combined['Vehicle_ID'] == vehicle] = data_combined['Y'][data_combined['Vehicle_ID'] == vehicle] - start_y"
   ]
  },
  {
   "cell_type": "code",
   "execution_count": 8,
   "metadata": {},
   "outputs": [],
   "source": [
    "data_combined.to_csv(\"traj_train.csv\")"
   ]
  }
 ],
 "metadata": {
  "kernelspec": {
   "display_name": "Python 3",
   "language": "python",
   "name": "python3"
  },
  "language_info": {
   "codemirror_mode": {
    "name": "ipython",
    "version": 3
   },
   "file_extension": ".py",
   "mimetype": "text/x-python",
   "name": "python",
   "nbconvert_exporter": "python",
   "pygments_lexer": "ipython3",
   "version": "3.7.4"
  }
 },
 "nbformat": 4,
 "nbformat_minor": 2
}
