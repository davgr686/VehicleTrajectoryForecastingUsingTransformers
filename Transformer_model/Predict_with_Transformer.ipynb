{
 "cells": [
  {
   "cell_type": "code",
   "execution_count": 1,
   "metadata": {
    "id": "utSjrT6RsX7n"
   },
   "outputs": [],
   "source": [
    "import torch\n",
    "import torch.nn as nn\n",
    "import os\n",
    "import pandas as pd\n",
    "import utm\n",
    "import random\n",
    "import Transformer as tr\n",
    "import preprocess as pr\n",
    "import simpleTrajVisualizer as vis\n",
    "from sklearn.model_selection import train_test_split"
   ]
  },
  {
   "cell_type": "code",
   "execution_count": null,
   "metadata": {},
   "outputs": [],
   "source": [
    "trajectory_data_file_path = \"\"  ## path to trajectory dataset\n",
    "trained_model_file_path = \"\"    ## path to trained model \n",
    "scalar_file_path = \"\"           ## path to fitted scalar (leave empty if none)\n",
    "use_existing_scalar = True      ## if you have an existing fitted scalar\n"
   ]
  },
  {
   "cell_type": "code",
   "execution_count": 2,
   "metadata": {
    "id": "CDLhAOXDdoU3"
   },
   "outputs": [],
   "source": [
    "traj_data = pd.read_csv(trajectory_data_file_path)"
   ]
  },
  {
   "cell_type": "code",
   "execution_count": 3,
   "metadata": {
    "id": "iW2pPb1o5-hJ"
   },
   "outputs": [],
   "source": [
    "train_data_inputs, test_data_inputs, train_data_targets, test_data_targets, train_indx, test_indx = pr.preprocess_dataset(traj_data, max = 100, max_len = 50, input_len = 20, use_existing_scalar, scalar_file_path)"
   ]
  },
  {
   "cell_type": "code",
   "execution_count": 6,
   "metadata": {
    "id": "rjKmqw9F5lND"
   },
   "outputs": [],
   "source": [
    "from Transformer import *\n",
    "if __name__ == \"__main__\":\n",
    "  device = torch.device(\"cuda\" if torch.cuda.is_available() else \"cpu\")\n",
    "  best_model = torch.load(trained_model_file_path)\n"
   ]
  },
  {
   "cell_type": "code",
   "execution_count": 7,
   "metadata": {
    "id": "YL0Uoilr5HId"
   },
   "outputs": [],
   "source": [
    "criterion = nn.CrossEntropyLoss()\n",
    "import time\n",
    "import math\n",
    "\n",
    "def evaluate(eval_model, data_source_inputs, data_source_targets):\n",
    "    eval_model.eval() # Turn on the evaluation mode\n",
    "    total_loss = 0.\n",
    "\n",
    "    with torch.no_grad():\n",
    "        for i in range(0, data_source_inputs.size(0), 1):\n",
    "            # data, targets = get_batch(data_source, i)\n",
    "            data = data_source_inputs[i,:,:]\n",
    "            targets = data_source_targets[i,:,:]\n",
    "            output = eval_model(data, targets[:, :])\n",
    "            output_flat = output\n",
    "            total_loss += 1 * criterion(output[0,:,:], targets[0,:]).item()\n",
    "\n",
    "\n",
    "    print(\"loss: \", total_loss / (data_source_inputs.size(0)))\n",
    "    return total_loss / (data_source_inputs.size(0))\n",
    "\n",
    "\n",
    "def get_predictions(eval_model, data_source_inputs, data_source_targets):\n",
    "    eval_model.eval() # Turn on the evaluation mode\n",
    "    preds_list = []\n",
    "    target_list = []\n",
    "    inputs_list = []\n",
    "    with torch.no_grad():\n",
    "        for i in range(0, data_source_inputs.size(0), 1):\n",
    "            # data, targets = get_batch(data_source, i)\n",
    "            data = data_source_inputs[i,:,:]\n",
    "            targets = data_source_targets[i,:,:]\n",
    "            output = eval_model(data, targets[:, :])\n",
    "            preds_list.append(torch.argmax(output[0,:,:], dim=1).tolist())\n",
    "            target_list.append(targets[0,:].tolist())\n",
    "            inputs_list.append(data[0,:].tolist())\n",
    "\n",
    "    return inputs_list, target_list, preds_list\n",
    "\n",
    "def calculate_bin_acc(target_list, preds_list):\n",
    "  acc = 0.\n",
    "  nr_of_perfect_preds = 0\n",
    "  for ind in range(len(target_list)):\n",
    "    tmp_acc = sum(1 for x,y in zip(target_list[ind],preds_list[ind]) if x == y) / len(preds_list[0])\n",
    "    acc += tmp_acc\n",
    "    if (tmp_acc == 1):\n",
    "      nr_of_perfect_preds += 1\n",
    "  print(\"Accuracy: \", acc / len(target_list))\n",
    "  print(\"% of perfect predictions: \", nr_of_perfect_preds / len(target_list))\n",
    "\n",
    "def get_real_coords(target_list, preds_list, inputs_list, test_indx):\n",
    "    \"\"\"\n",
    "    Get the real word coordinates of trajectories starting from bins\n",
    "    All input parameteres must be lists of lists and be of the same length\n",
    "    Returns a dataframe with vehicle ID and all of its real word coordinates in Lat/Long\n",
    "    \"\"\"\n",
    "    x_cords_real = []\n",
    "    y_cords_real = []\n",
    "    x_cords_pred = []\n",
    "    y_cords_pred = []\n",
    "    vehicle_ids = []\n",
    "\n",
    "    for ind in range(len(test_indx)):\n",
    "\n",
    "      for inp in test_indx[ind]:\n",
    "        for inp_nr in inp[:-1]:\n",
    "          vehicle_ids.append(inp_nr)\n",
    "\n",
    "      for inp in inputs_list[ind]:\n",
    "        x = inp % 30\n",
    "        y = inp / 30\n",
    "        x_cords_real.append(x)\n",
    "        y_cords_real.append(y)\n",
    "\n",
    "        x_cords_pred.append(x)\n",
    "        y_cords_pred.append(y)\n",
    "        \n",
    "      for inp in target_list[ind]:\n",
    "        x = inp % 30\n",
    "        y = inp / 30\n",
    "        x_cords_real.append(x)\n",
    "        y_cords_real.append(y)\n",
    "\n",
    "      for inp in preds_list[ind]:\n",
    "        x = inp % 30\n",
    "        y = inp / 30\n",
    "        x_cords_pred.append(x)\n",
    "        y_cords_pred.append(y)\n",
    "\n",
    "    dict_pd = {'Vehicle_ID': vehicle_ids, 'X_REAL': x_cords_real, 'Y_REAL': y_cords_real, 'X_PRED': x_cords_pred, 'Y_PRED': y_cords_pred} \n",
    "    output_df = pd.DataFrame(dict_pd)\n",
    "    output_df[['X_REAL', 'Y_REAL']] = scaler.inverse_transform(output_df[['X_REAL', 'Y_REAL']])\n",
    "    output_df[['X_PRED', 'Y_PRED']] = scaler.inverse_transform(output_df[['X_PRED', 'Y_PRED']])\n",
    "    \n",
    "    unique_vehicle_ids = output_df['Vehicle_ID'].unique()\n",
    "    for id in unique_vehicle_ids:\n",
    "      subset = traj_data.loc[traj_data['Vehicle_ID'] == id, ['X', 'Y']].head(1)\n",
    "      x_origin, y_origin = subset.X.item(), subset.Y.item()\n",
    "      output_df.loc[output_df['Vehicle_ID'] == id, ['X_REAL', 'X_PRED']] = output_df.loc[output_df['Vehicle_ID'] == id, ['X_REAL', 'X_PRED']] + x_origin\n",
    "      output_df.loc[output_df['Vehicle_ID'] == id, ['Y_REAL', 'Y_PRED']] = output_df.loc[output_df['Vehicle_ID'] == id, ['Y_REAL', 'Y_PRED']] + y_origin\n",
    "    return output_df\n",
    "\n",
    "def calc_meter_dist(xt, yt, xp, yp):\n",
    "    \"\"\"\n",
    "    Converts real_world Latitude Longitude coordinates into UTM coordinates\n",
    "    to get a difference in meters between prediction and target values\n",
    "    \"\"\"\n",
    "    tar_utm = utm.from_latlon(yt, xt)\n",
    "    pred_utm = utm.from_latlon(yp, xp)\n",
    "\n",
    "    dist_x = tar_utm[0] - pred_utm[0]\n",
    "    dist_y = tar_utm[1] - pred_utm[1]\n",
    "    \n",
    "    return np.sqrt((dist_x ** 2) + (dist_y ** 2))\n",
    "\n",
    "def calculate_performance_metrics(df):\n",
    "    \"\"\"\n",
    "    Calculates Average Displacement Error (ADE) and Final Displacement Error (FDE)\n",
    "    for a given data frame containing the features:\n",
    "        X_REAL, Y_REAL, X_PRED, Y_PRED\n",
    "    \"\"\"\n",
    "    unique_vehicle_ids = df['Vehicle_ID'].unique()\n",
    "    res = []\n",
    "    for id in unique_vehicle_ids:\n",
    "        res.append(df[df['Vehicle_ID'] == id][20:])\n",
    "    res_df = pd.concat(res)\n",
    "        \n",
    "    res_df['DIST'] = res_df.apply(lambda row: calc_meter_dist(row['X_REAL'],row['Y_REAL'],row['X_PRED'],row['Y_PRED']),axis=1) \n",
    "    ADE = res_df['DIST'].mean()\n",
    "    \n",
    "    FDE = 0\n",
    "    counter = 0\n",
    "    for id in unique_vehicle_ids:\n",
    "        x = res_df[res_df['Vehicle_ID'] == id]\n",
    "        FDE += x.tail(1).DIST.values\n",
    "        counter += 1\n",
    "    FDE = float(FDE/counter)\n",
    "        \n",
    "    print(\"Average Displacement Error (meters): \", ADE)\n",
    "    print(\"Average Final Displacement Error: (meters)\", FDE)\n",
    "    return df\n"
   ]
  },
  {
   "cell_type": "code",
   "execution_count": null,
   "metadata": {},
   "outputs": [],
   "source": [
    "def create_output_file_for_predictions(model, data_inputs, data_targets)\n",
    "    input_list, target_list, preds_list = get_predictions(model, data_inputs, data_targets)\n",
    "\n",
    "    x_cords_real = []\n",
    "    y_cords_real = []\n",
    "    x_cords_pred = []\n",
    "    y_cords_pred = []\n",
    "    vehicle_ids = []\n",
    "\n",
    "    for ind in range(0, len(test_indx)):\n",
    "      #vehicle_ids += [i for i in test_indx[ind]]\n",
    "\n",
    "      for inp in test_indx[ind]:\n",
    "        for inp_nr in inp[:-1]:\n",
    "          vehicle_ids.append(inp_nr)\n",
    "\n",
    "      for inp in input_list[ind]:\n",
    "        x = inp % 30\n",
    "        y = inp / 30 \n",
    "        x_cords_real.append(x)\n",
    "        y_cords_real.append(y)\n",
    "\n",
    "        x_cords_pred.append(x)\n",
    "        y_cords_pred.append(y)\n",
    "      for inp in target_list[ind]:\n",
    "        x = inp % 30\n",
    "        y = inp / 30 \n",
    "        x_cords_real.append(x)\n",
    "        y_cords_real.append(y)\n",
    "\n",
    "      for inp in preds_list[ind]:\n",
    "        x = inp % 30\n",
    "        y = inp / 30 \n",
    "        x_cords_pred.append(x)\n",
    "        y_cords_pred.append(y)\n",
    "\n",
    "    dict_pd = {'Vehicle_ID': vehicle_ids, 'X_REAL': x_cords_real, 'Y_REAL': y_cords_real, 'X_PRED': x_cords_pred, 'Y_PRED': y_cords_pred} \n",
    "    output_df = pd.DataFrame(dict_pd)\n",
    "    output_df[['X_REAL', 'Y_REAL']] = scaler.inverse_transform(output_df[['X_REAL', 'Y_REAL']])\n",
    "    output_df[['X_PRED', 'Y_PRED']] = scaler.inverse_transform(output_df[['X_PRED', 'Y_PRED']])\n",
    "    \n",
    "    unique_vehicle_ids = output_df['Vehicle_ID'].unique()\n",
    "    for id in unique_vehicle_ids:\n",
    "      subset = traj_data.loc[traj_data['Vehicle_ID'] == id, ['X', 'Y']].head(1)\n",
    "      x_origin, y_origin = subset.X.item(), subset.Y.item()\n",
    "      output_df.loc[output_df['Vehicle_ID'] == id, ['X_REAL', 'X_PRED']] = output_df.loc[output_df['Vehicle_ID'] == id, ['X_REAL', 'X_PRED']] + x_origin\n",
    "      output_df.loc[output_df['Vehicle_ID'] == id, ['Y_REAL', 'Y_PRED']] = output_df.loc[output_df['Vehicle_ID'] == id, ['Y_REAL', 'Y_PRED']] + y_origin\n",
    "\n",
    "    return output_df"
   ]
  },
  {
   "cell_type": "code",
   "execution_count": 8,
   "metadata": {
    "colab": {
     "base_uri": "https://localhost:8080/"
    },
    "id": "Jf-m_PdHZmn8",
    "outputId": "1b57c7e9-aac5-4557-eb1b-95b9651e935b"
   },
   "outputs": [
    {
     "data": {
      "text/plain": [
       "0.01561121226717566"
      ]
     },
     "execution_count": 8,
     "metadata": {},
     "output_type": "execute_result"
    }
   ],
   "source": [
    "input_list, target_list, preds_list = get_predictions(best_model, test_data_inputs, test_data_targets)\n",
    "calculate_bin_acc(target_list, preds_list)\n",
    "coords = get_real_coords(target_list, preds_list, input_list, test_indx)\n",
    "d = calculate_performance_metrics(coords)"
   ]
  },
  {
   "cell_type": "code",
   "execution_count": null,
   "metadata": {},
   "outputs": [],
   "source": [
    "vis_trajectory_scatter(best_model, test_data_inputs, test_data_targets, test_indx)"
   ]
  },
  {
   "cell_type": "code",
   "execution_count": null,
   "metadata": {},
   "outputs": [],
   "source": [
    "output_file = create_output_file_for_predictions(best_model, test_data_inputs, test_data_targets)"
   ]
  }
 ],
 "metadata": {
  "colab": {
   "collapsed_sections": [],
   "name": "Predict_Transformer.ipynb",
   "provenance": []
  },
  "kernelspec": {
   "display_name": "Python 3",
   "language": "python",
   "name": "python3"
  },
  "language_info": {
   "codemirror_mode": {
    "name": "ipython",
    "version": 3
   },
   "file_extension": ".py",
   "mimetype": "text/x-python",
   "name": "python",
   "nbconvert_exporter": "python",
   "pygments_lexer": "ipython3",
   "version": "3.7.4"
  }
 },
 "nbformat": 4,
 "nbformat_minor": 1
}
