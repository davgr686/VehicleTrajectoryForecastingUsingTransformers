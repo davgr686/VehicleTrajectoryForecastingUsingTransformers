{
 "cells": [
  {
   "cell_type": "code",
   "execution_count": 43,
   "metadata": {
    "id": "_fywMUUtgwRr"
   },
   "outputs": [],
   "source": [
    "import numpy as np\n",
    "from tensorflow.keras.models import Sequential\n",
    "from tensorflow.keras.layers import Dense, LSTM, RepeatVector\n",
    "import tensorflow as tf\n",
    "import os\n",
    "from keras.layers import TimeDistributed\n",
    "import matplotlib.pyplot as plt\n",
    "import urllib.request\n",
    "import pandas as pd\n",
    "from sklearn.model_selection import train_test_split\n",
    "from sklearn.preprocessing import MinMaxScaler\n",
    "import keras\n",
    "from matplotlib import pyplot as plt\n",
    "from keras.models import Sequential\n",
    "from keras.layers import Dense\n",
    "from keras.layers import LSTM\n",
    "from keras.layers import Embedding\n",
    "physical_devices = tf.config.list_physical_devices('GPU')\n",
    "tf.config.experimental.set_memory_growth(physical_devices[0], enable=True)"
   ]
  },
  {
   "cell_type": "code",
   "execution_count": 44,
   "metadata": {},
   "outputs": [
    {
     "name": "stdout",
     "output_type": "stream",
     "text": [
      "Num GPUs Available:  1\n"
     ]
    }
   ],
   "source": [
    "import tensorflow as tf\n",
    "print(\"Num GPUs Available: \", len(tf.config.experimental.list_physical_devices('GPU')))"
   ]
  },
  {
   "cell_type": "code",
   "execution_count": 45,
   "metadata": {
    "colab": {
     "base_uri": "https://localhost:8080/",
     "height": 297
    },
    "id": "c481ZU6qiFfc",
    "outputId": "db1b5727-f004-40cc-bfb7-09f767601ef0"
   },
   "outputs": [
    {
     "data": {
      "text/html": [
       "<div>\n",
       "<style scoped>\n",
       "    .dataframe tbody tr th:only-of-type {\n",
       "        vertical-align: middle;\n",
       "    }\n",
       "\n",
       "    .dataframe tbody tr th {\n",
       "        vertical-align: top;\n",
       "    }\n",
       "\n",
       "    .dataframe thead th {\n",
       "        text-align: right;\n",
       "    }\n",
       "</style>\n",
       "<table border=\"1\" class=\"dataframe\">\n",
       "  <thead>\n",
       "    <tr style=\"text-align: right;\">\n",
       "      <th></th>\n",
       "      <th>Unnamed: 0</th>\n",
       "      <th>Vehicle_ID</th>\n",
       "      <th>X</th>\n",
       "      <th>Y</th>\n",
       "      <th>X_REL</th>\n",
       "      <th>Y_REL</th>\n",
       "    </tr>\n",
       "  </thead>\n",
       "  <tbody>\n",
       "    <tr>\n",
       "      <th>count</th>\n",
       "      <td>300000.000000</td>\n",
       "      <td>300000.000000</td>\n",
       "      <td>300000.000000</td>\n",
       "      <td>300000.000000</td>\n",
       "      <td>300000.000000</td>\n",
       "      <td>300000.000000</td>\n",
       "    </tr>\n",
       "    <tr>\n",
       "      <th>mean</th>\n",
       "      <td>149999.500000</td>\n",
       "      <td>149850.000000</td>\n",
       "      <td>151.187826</td>\n",
       "      <td>-33.894480</td>\n",
       "      <td>0.000003</td>\n",
       "      <td>0.000003</td>\n",
       "    </tr>\n",
       "    <tr>\n",
       "      <th>std</th>\n",
       "      <td>86602.684716</td>\n",
       "      <td>86602.641415</td>\n",
       "      <td>0.002236</td>\n",
       "      <td>0.001248</td>\n",
       "      <td>0.000135</td>\n",
       "      <td>0.000065</td>\n",
       "    </tr>\n",
       "    <tr>\n",
       "      <th>min</th>\n",
       "      <td>0.000000</td>\n",
       "      <td>0.000000</td>\n",
       "      <td>151.184833</td>\n",
       "      <td>-33.895620</td>\n",
       "      <td>-0.000384</td>\n",
       "      <td>-0.000261</td>\n",
       "    </tr>\n",
       "    <tr>\n",
       "      <th>25%</th>\n",
       "      <td>74999.750000</td>\n",
       "      <td>74925.000000</td>\n",
       "      <td>151.186473</td>\n",
       "      <td>-33.895169</td>\n",
       "      <td>-0.000068</td>\n",
       "      <td>-0.000037</td>\n",
       "    </tr>\n",
       "    <tr>\n",
       "      <th>50%</th>\n",
       "      <td>149999.500000</td>\n",
       "      <td>149850.000000</td>\n",
       "      <td>151.187480</td>\n",
       "      <td>-33.894783</td>\n",
       "      <td>0.000000</td>\n",
       "      <td>0.000000</td>\n",
       "    </tr>\n",
       "    <tr>\n",
       "      <th>75%</th>\n",
       "      <td>224999.250000</td>\n",
       "      <td>224775.000000</td>\n",
       "      <td>151.188458</td>\n",
       "      <td>-33.894342</td>\n",
       "      <td>0.000078</td>\n",
       "      <td>0.000044</td>\n",
       "    </tr>\n",
       "    <tr>\n",
       "      <th>max</th>\n",
       "      <td>299999.000000</td>\n",
       "      <td>299700.000000</td>\n",
       "      <td>151.194604</td>\n",
       "      <td>-33.889197</td>\n",
       "      <td>0.000397</td>\n",
       "      <td>0.000259</td>\n",
       "    </tr>\n",
       "  </tbody>\n",
       "</table>\n",
       "</div>"
      ],
      "text/plain": [
       "          Unnamed: 0     Vehicle_ID              X              Y  \\\n",
       "count  300000.000000  300000.000000  300000.000000  300000.000000   \n",
       "mean   149999.500000  149850.000000     151.187826     -33.894480   \n",
       "std     86602.684716   86602.641415       0.002236       0.001248   \n",
       "min         0.000000       0.000000     151.184833     -33.895620   \n",
       "25%     74999.750000   74925.000000     151.186473     -33.895169   \n",
       "50%    149999.500000  149850.000000     151.187480     -33.894783   \n",
       "75%    224999.250000  224775.000000     151.188458     -33.894342   \n",
       "max    299999.000000  299700.000000     151.194604     -33.889197   \n",
       "\n",
       "               X_REL          Y_REL  \n",
       "count  300000.000000  300000.000000  \n",
       "mean        0.000003       0.000003  \n",
       "std         0.000135       0.000065  \n",
       "min        -0.000384      -0.000261  \n",
       "25%        -0.000068      -0.000037  \n",
       "50%         0.000000       0.000000  \n",
       "75%         0.000078       0.000044  \n",
       "max         0.000397       0.000259  "
      ]
     },
     "execution_count": 45,
     "metadata": {},
     "output_type": "execute_result"
    }
   ],
   "source": [
    "\"\"\"\n",
    "Training Data\n",
    "\"\"\"\n",
    "#data = pd.read_csv(\"traj_data_v2.csv\")\n",
    "#data = pd.read_csv(\"traj_data_v2_100_seq.csv\")\n",
    "data = pd.read_csv(\"traj_data_v2_300_seq_train.csv\")\n",
    "data.describe()"
   ]
  },
  {
   "cell_type": "code",
   "execution_count": 46,
   "metadata": {
    "id": "nZF9fgKtiYR3"
   },
   "outputs": [],
   "source": [
    "\"\"\"\n",
    "Preprocess data, removed torch tensors return type, now np arrays\n",
    "\"\"\"\n",
    "def preprocess_dataset(data, max = 10, max_len = 40, input_len = 30):\n",
    "    scaler = MinMaxScaler(feature_range=(0, max))\n",
    "    data[['X_REL', 'Y_REL']] = scaler.fit_transform(data[['X_REL', 'Y_REL']])\n",
    "    #data[['X_REL', 'Y_REL']] = scaler.transform(data[['X_REL', 'Y_REL']])\n",
    "    unique_peds = data['Vehicle_ID'].unique()\n",
    "    unique_peds = sorted(unique_peds)\n",
    "    inputs = []\n",
    "    outputs = []\n",
    "    indexes = []\n",
    "    for ped in unique_peds:\n",
    "        if (len(data[data['Vehicle_ID'] == ped]) >= max_len):\n",
    "          seq_inner = []\n",
    "          indexes_inner = []\n",
    "          i = 0\n",
    "          for indx, row in data[data['Vehicle_ID'] == ped].iterrows():\n",
    "            x = round(row['X_REL'])\n",
    "            y = round(row['Y_REL'])\n",
    "            ## Cantor pairing function:\n",
    "            bin = y * max + x\n",
    "            i += 1\n",
    "            if i == max_len:\n",
    "              break\n",
    "            seq_inner.append(int(bin))\n",
    "            indexes_inner.append(ped)\n",
    "          inputs.append([seq_inner[0:input_len]])\n",
    "          outputs.append([seq_inner[input_len + 1:]])\n",
    "          indexes.append([indexes_inner])\n",
    "        \n",
    "    train_inputs, test_inputs, train_targets, test_targets, train_indx, test_indx = train_test_split(inputs, outputs, indexes, train_size=0.7, random_state=0)\n",
    "    return np.array(train_inputs), np.array(test_inputs), np.array(train_targets), np.array(test_targets), train_indx, test_indx"
   ]
  },
  {
   "cell_type": "code",
   "execution_count": 47,
   "metadata": {
    "id": "ZyuTi2XPe4qn"
   },
   "outputs": [],
   "source": [
    "train_data_inputs, test_data_inputs, train_data_targets, test_data_targets, train_indx, test_indx = preprocess_dataset(data, max = 100, max_len = 300, input_len = 100)"
   ]
  },
  {
   "cell_type": "code",
   "execution_count": 48,
   "metadata": {},
   "outputs": [
    {
     "data": {
      "text/plain": [
       "(700, 1, 198)"
      ]
     },
     "execution_count": 48,
     "metadata": {},
     "output_type": "execute_result"
    }
   ],
   "source": [
    "train_data_targets.shape"
   ]
  },
  {
   "cell_type": "code",
   "execution_count": 49,
   "metadata": {
    "colab": {
     "base_uri": "https://localhost:8080/"
    },
    "id": "28uqOxTlkDTE",
    "outputId": "685884e0-d0b3-4031-8bb5-c04e55b6a63e"
   },
   "outputs": [],
   "source": [
    "\n",
    "train_data_inputs = train_data_inputs.reshape(train_data_inputs.shape[0], train_data_inputs.shape[2], 1)\n",
    "train_data_targets = train_data_targets.reshape(train_data_targets.shape[0], train_data_targets.shape[2], 1)\n"
   ]
  },
  {
   "cell_type": "code",
   "execution_count": 50,
   "metadata": {
    "colab": {
     "base_uri": "https://localhost:8080/"
    },
    "id": "8AbipVV-bAXN",
    "outputId": "b8564f82-8c44-4602-b826-db628fde5002"
   },
   "outputs": [],
   "source": [
    "\n",
    "test_data_inputs = test_data_inputs.reshape(test_data_inputs.shape[0], test_data_inputs.shape[2], 1)\n",
    "test_data_targets = test_data_targets.reshape(test_data_targets.shape[0], test_data_targets.shape[2], 1)\n"
   ]
  },
  {
   "cell_type": "code",
   "execution_count": 51,
   "metadata": {
    "id": "tLTmi_3nychJ"
   },
   "outputs": [],
   "source": [
    "vocab_size = (100 * 100) + 100\n",
    "input_len = 100\n",
    "target_len = 198"
   ]
  },
  {
   "cell_type": "code",
   "execution_count": 52,
   "metadata": {
    "id": "9qzKjxoKGrf9",
    "scrolled": true
   },
   "outputs": [
    {
     "name": "stdout",
     "output_type": "stream",
     "text": [
      "Model: \"sequential_3\"\n",
      "_________________________________________________________________\n",
      "Layer (type)                 Output Shape              Param #   \n",
      "=================================================================\n",
      "embedding_3 (Embedding)      (None, 100, 256)          2585600   \n",
      "_________________________________________________________________\n",
      "lstm_6 (LSTM)                (None, 512)               1574912   \n",
      "_________________________________________________________________\n",
      "repeat_vector_3 (RepeatVecto (None, 198, 512)          0         \n",
      "_________________________________________________________________\n",
      "lstm_7 (LSTM)                (None, 198, 256)          787456    \n",
      "_________________________________________________________________\n",
      "time_distributed_3 (TimeDist (None, 198, 10100)        2595700   \n",
      "=================================================================\n",
      "Total params: 7,543,668\n",
      "Trainable params: 7,543,668\n",
      "Non-trainable params: 0\n",
      "_________________________________________________________________\n"
     ]
    }
   ],
   "source": [
    "#https://towardsdatascience.com/how-to-build-an-encoder-decoder-translation-model-using-lstm-with-python-and-keras-a31e9d864b9b\n",
    "#https://machinelearningmastery.com/how-to-use-an-encoder-decoder-lstm-to-echo-sequences-of-random-integers/\n",
    "\n",
    "model = Sequential()\n",
    "model.add(tf.keras.layers.Input(shape=(input_len,)))\n",
    "model.add(tf.keras.layers.Embedding(vocab_size, 256))#, input_length = input_len))\n",
    "\n",
    "model.add(LSTM(512, activation='tanh', return_sequences=False, stateful=False, dropout=0.30))\n",
    "model.add(RepeatVector(target_len))\n",
    "model.add(LSTM(256, return_sequences=True, activation='tanh', stateful=False, dropout=0.30))\n",
    "model.add(TimeDistributed(Dense(vocab_size, activation='softmax')))\n",
    "          \n",
    "opt = keras.optimizers.Adam()\n",
    "model.compile(loss='sparse_categorical_crossentropy', optimizer=opt, metrics=['accuracy'])\n",
    "model.summary()"
   ]
  },
  {
   "cell_type": "code",
   "execution_count": 53,
   "metadata": {},
   "outputs": [
    {
     "name": "stdout",
     "output_type": "stream",
     "text": [
      "Epoch 1/100\n",
      "35/35 [==============================] - ETA: 0s - loss: 9.1436 - accuracy: 0.0584WARNING:tensorflow:Callbacks method `on_test_batch_end` is slow compared to the batch time (batch time: 0.0100s vs `on_test_batch_end` time: 0.0359s). Check your callbacks.\n",
      "35/35 [==============================] - 5s 150ms/step - loss: 9.1436 - accuracy: 0.0584 - val_loss: 8.7712 - val_accuracy: 0.0809\n",
      "Epoch 2/100\n",
      "35/35 [==============================] - 5s 130ms/step - loss: 8.0292 - accuracy: 0.0652 - val_loss: 7.3799 - val_accuracy: 0.0809\n",
      "Epoch 3/100\n",
      "35/35 [==============================] - 5s 131ms/step - loss: 6.9845 - accuracy: 0.0652 - val_loss: 6.9255 - val_accuracy: 0.0809\n",
      "Epoch 4/100\n",
      "35/35 [==============================] - 5s 132ms/step - loss: 6.6804 - accuracy: 0.0652 - val_loss: 6.8299 - val_accuracy: 0.0809\n",
      "Epoch 5/100\n",
      "35/35 [==============================] - 5s 131ms/step - loss: 6.5948 - accuracy: 0.0652 - val_loss: 6.8106 - val_accuracy: 0.0809\n",
      "Epoch 6/100\n",
      "35/35 [==============================] - 5s 131ms/step - loss: 6.5615 - accuracy: 0.0652 - val_loss: 6.8040 - val_accuracy: 0.0809\n",
      "Epoch 7/100\n",
      "35/35 [==============================] - 5s 131ms/step - loss: 6.5437 - accuracy: 0.0652 - val_loss: 6.8031 - val_accuracy: 0.0809\n",
      "Epoch 8/100\n",
      "35/35 [==============================] - 5s 130ms/step - loss: 6.5317 - accuracy: 0.0652 - val_loss: 6.8038 - val_accuracy: 0.0809\n",
      "Epoch 9/100\n",
      "35/35 [==============================] - 5s 130ms/step - loss: 6.5219 - accuracy: 0.0652 - val_loss: 6.8105 - val_accuracy: 0.0809\n",
      "Epoch 10/100\n",
      "35/35 [==============================] - 5s 131ms/step - loss: 6.5167 - accuracy: 0.0652 - val_loss: 6.8105 - val_accuracy: 0.0809\n",
      "Epoch 11/100\n",
      "35/35 [==============================] - 5s 130ms/step - loss: 6.5107 - accuracy: 0.0652 - val_loss: 6.8150 - val_accuracy: 0.0809\n",
      "Epoch 12/100\n",
      "35/35 [==============================] - 5s 131ms/step - loss: 6.5075 - accuracy: 0.0652 - val_loss: 6.8171 - val_accuracy: 0.0809\n",
      "Epoch 13/100\n",
      "35/35 [==============================] - 5s 129ms/step - loss: 6.5039 - accuracy: 0.0652 - val_loss: 6.8199 - val_accuracy: 0.0809\n",
      "Epoch 14/100\n",
      "35/35 [==============================] - 5s 130ms/step - loss: 6.5019 - accuracy: 0.0652 - val_loss: 6.8254 - val_accuracy: 0.0809\n",
      "Epoch 15/100\n",
      "35/35 [==============================] - 5s 130ms/step - loss: 6.5003 - accuracy: 0.0652 - val_loss: 6.8256 - val_accuracy: 0.0809\n",
      "Epoch 16/100\n",
      "35/35 [==============================] - 5s 130ms/step - loss: 6.4988 - accuracy: 0.0652 - val_loss: 6.8328 - val_accuracy: 0.0809\n",
      "Epoch 17/100\n",
      "35/35 [==============================] - 5s 131ms/step - loss: 6.4963 - accuracy: 0.0652 - val_loss: 6.8344 - val_accuracy: 0.0809\n",
      "Epoch 18/100\n",
      "35/35 [==============================] - 5s 133ms/step - loss: 6.4949 - accuracy: 0.0652 - val_loss: 6.8388 - val_accuracy: 0.0809\n",
      "Epoch 19/100\n",
      "35/35 [==============================] - 5s 131ms/step - loss: 6.4938 - accuracy: 0.0652 - val_loss: 6.8399 - val_accuracy: 0.0809\n",
      "Epoch 20/100\n",
      "35/35 [==============================] - 5s 131ms/step - loss: 6.4928 - accuracy: 0.0652 - val_loss: 6.8418 - val_accuracy: 0.0809\n",
      "Epoch 21/100\n",
      "35/35 [==============================] - 5s 131ms/step - loss: 6.4916 - accuracy: 0.0652 - val_loss: 6.8447 - val_accuracy: 0.0809\n",
      "Epoch 22/100\n",
      "35/35 [==============================] - 5s 131ms/step - loss: 6.4910 - accuracy: 0.0652 - val_loss: 6.8492 - val_accuracy: 0.0809\n",
      "Epoch 23/100\n",
      "35/35 [==============================] - 5s 131ms/step - loss: 6.4899 - accuracy: 0.0652 - val_loss: 6.8484 - val_accuracy: 0.0809\n",
      "Epoch 24/100\n",
      "35/35 [==============================] - 5s 131ms/step - loss: 6.4881 - accuracy: 0.0652 - val_loss: 6.8526 - val_accuracy: 0.0809\n",
      "Epoch 25/100\n",
      "35/35 [==============================] - 5s 131ms/step - loss: 6.4861 - accuracy: 0.0652 - val_loss: 6.8519 - val_accuracy: 0.0809\n",
      "Epoch 26/100\n",
      "35/35 [==============================] - 5s 133ms/step - loss: 6.4867 - accuracy: 0.0652 - val_loss: 6.8548 - val_accuracy: 0.0809\n",
      "Epoch 27/100\n",
      "35/35 [==============================] - 5s 131ms/step - loss: 6.4848 - accuracy: 0.0652 - val_loss: 6.8553 - val_accuracy: 0.0809\n",
      "Epoch 28/100\n",
      "35/35 [==============================] - 5s 130ms/step - loss: 6.4844 - accuracy: 0.0652 - val_loss: 6.8572 - val_accuracy: 0.0809\n",
      "Epoch 29/100\n",
      "35/35 [==============================] - 5s 131ms/step - loss: 6.4822 - accuracy: 0.0652 - val_loss: 6.8579 - val_accuracy: 0.0809\n",
      "Epoch 30/100\n",
      "35/35 [==============================] - 5s 134ms/step - loss: 6.4807 - accuracy: 0.0652 - val_loss: 6.8575 - val_accuracy: 0.0809\n",
      "Epoch 31/100\n",
      "35/35 [==============================] - 5s 135ms/step - loss: 6.4786 - accuracy: 0.0652 - val_loss: 6.8578 - val_accuracy: 0.0809\n",
      "Epoch 32/100\n",
      "35/35 [==============================] - 5s 132ms/step - loss: 6.4770 - accuracy: 0.0652 - val_loss: 6.8585 - val_accuracy: 0.0809\n",
      "Epoch 33/100\n",
      "35/35 [==============================] - 5s 134ms/step - loss: 6.4737 - accuracy: 0.0652 - val_loss: 6.8593 - val_accuracy: 0.0809\n",
      "Epoch 34/100\n",
      "35/35 [==============================] - 5s 133ms/step - loss: 6.4702 - accuracy: 0.0652 - val_loss: 6.8580 - val_accuracy: 0.0809\n",
      "Epoch 35/100\n",
      "35/35 [==============================] - 5s 134ms/step - loss: 6.4674 - accuracy: 0.0652 - val_loss: 6.8544 - val_accuracy: 0.0809\n",
      "Epoch 36/100\n",
      "35/35 [==============================] - 5s 133ms/step - loss: 6.4628 - accuracy: 0.0652 - val_loss: 6.8538 - val_accuracy: 0.0809\n",
      "Epoch 37/100\n",
      "35/35 [==============================] - 5s 135ms/step - loss: 6.4574 - accuracy: 0.0652 - val_loss: 6.8478 - val_accuracy: 0.0809\n",
      "Epoch 38/100\n",
      "35/35 [==============================] - 5s 136ms/step - loss: 6.4508 - accuracy: 0.0652 - val_loss: 6.8438 - val_accuracy: 0.0809\n",
      "Epoch 39/100\n",
      "35/35 [==============================] - 5s 136ms/step - loss: 6.4447 - accuracy: 0.0652 - val_loss: 6.8353 - val_accuracy: 0.0809\n",
      "Epoch 40/100\n",
      "35/35 [==============================] - 5s 134ms/step - loss: 6.4330 - accuracy: 0.0652 - val_loss: 6.8343 - val_accuracy: 0.0809\n",
      "Epoch 41/100\n",
      " 5/35 [===>..........................] - ETA: 2s - loss: 6.1748 - accuracy: 0.1100"
     ]
    },
    {
     "ename": "KeyboardInterrupt",
     "evalue": "",
     "output_type": "error",
     "traceback": [
      "\u001b[1;31m---------------------------------------------------------------------------\u001b[0m",
      "\u001b[1;31mKeyboardInterrupt\u001b[0m                         Traceback (most recent call last)",
      "\u001b[1;32m<ipython-input-53-2f3f18babe36>\u001b[0m in \u001b[0;36m<module>\u001b[1;34m\u001b[0m\n\u001b[1;32m----> 1\u001b[1;33m \u001b[0mmodel_results\u001b[0m \u001b[1;33m=\u001b[0m \u001b[0mmodel\u001b[0m\u001b[1;33m.\u001b[0m\u001b[0mfit\u001b[0m\u001b[1;33m(\u001b[0m\u001b[0mtrain_data_inputs\u001b[0m\u001b[1;33m,\u001b[0m \u001b[0mtrain_data_targets\u001b[0m\u001b[1;33m,\u001b[0m \u001b[0mbatch_size\u001b[0m\u001b[1;33m=\u001b[0m\u001b[1;36m20\u001b[0m\u001b[1;33m,\u001b[0m \u001b[0mepochs\u001b[0m\u001b[1;33m=\u001b[0m\u001b[1;36m100\u001b[0m\u001b[1;33m,\u001b[0m \u001b[0mvalidation_data\u001b[0m\u001b[1;33m=\u001b[0m\u001b[1;33m(\u001b[0m\u001b[0mtest_data_inputs\u001b[0m\u001b[1;33m,\u001b[0m \u001b[0mtest_data_targets\u001b[0m\u001b[1;33m)\u001b[0m\u001b[1;33m)\u001b[0m\u001b[1;33m\u001b[0m\u001b[1;33m\u001b[0m\u001b[0m\n\u001b[0m",
      "\u001b[1;32mc:\\users\\dnybe\\anaconda3\\envs\\tf_gpu\\lib\\site-packages\\tensorflow\\python\\keras\\engine\\training.py\u001b[0m in \u001b[0;36m_method_wrapper\u001b[1;34m(self, *args, **kwargs)\u001b[0m\n\u001b[0;32m    106\u001b[0m   \u001b[1;32mdef\u001b[0m \u001b[0m_method_wrapper\u001b[0m\u001b[1;33m(\u001b[0m\u001b[0mself\u001b[0m\u001b[1;33m,\u001b[0m \u001b[1;33m*\u001b[0m\u001b[0margs\u001b[0m\u001b[1;33m,\u001b[0m \u001b[1;33m**\u001b[0m\u001b[0mkwargs\u001b[0m\u001b[1;33m)\u001b[0m\u001b[1;33m:\u001b[0m\u001b[1;33m\u001b[0m\u001b[1;33m\u001b[0m\u001b[0m\n\u001b[0;32m    107\u001b[0m     \u001b[1;32mif\u001b[0m \u001b[1;32mnot\u001b[0m \u001b[0mself\u001b[0m\u001b[1;33m.\u001b[0m\u001b[0m_in_multi_worker_mode\u001b[0m\u001b[1;33m(\u001b[0m\u001b[1;33m)\u001b[0m\u001b[1;33m:\u001b[0m  \u001b[1;31m# pylint: disable=protected-access\u001b[0m\u001b[1;33m\u001b[0m\u001b[1;33m\u001b[0m\u001b[0m\n\u001b[1;32m--> 108\u001b[1;33m       \u001b[1;32mreturn\u001b[0m \u001b[0mmethod\u001b[0m\u001b[1;33m(\u001b[0m\u001b[0mself\u001b[0m\u001b[1;33m,\u001b[0m \u001b[1;33m*\u001b[0m\u001b[0margs\u001b[0m\u001b[1;33m,\u001b[0m \u001b[1;33m**\u001b[0m\u001b[0mkwargs\u001b[0m\u001b[1;33m)\u001b[0m\u001b[1;33m\u001b[0m\u001b[1;33m\u001b[0m\u001b[0m\n\u001b[0m\u001b[0;32m    109\u001b[0m \u001b[1;33m\u001b[0m\u001b[0m\n\u001b[0;32m    110\u001b[0m     \u001b[1;31m# Running inside `run_distribute_coordinator` already.\u001b[0m\u001b[1;33m\u001b[0m\u001b[1;33m\u001b[0m\u001b[1;33m\u001b[0m\u001b[0m\n",
      "\u001b[1;32mc:\\users\\dnybe\\anaconda3\\envs\\tf_gpu\\lib\\site-packages\\tensorflow\\python\\keras\\engine\\training.py\u001b[0m in \u001b[0;36mfit\u001b[1;34m(self, x, y, batch_size, epochs, verbose, callbacks, validation_split, validation_data, shuffle, class_weight, sample_weight, initial_epoch, steps_per_epoch, validation_steps, validation_batch_size, validation_freq, max_queue_size, workers, use_multiprocessing)\u001b[0m\n\u001b[0;32m   1096\u001b[0m                 batch_size=batch_size):\n\u001b[0;32m   1097\u001b[0m               \u001b[0mcallbacks\u001b[0m\u001b[1;33m.\u001b[0m\u001b[0mon_train_batch_begin\u001b[0m\u001b[1;33m(\u001b[0m\u001b[0mstep\u001b[0m\u001b[1;33m)\u001b[0m\u001b[1;33m\u001b[0m\u001b[1;33m\u001b[0m\u001b[0m\n\u001b[1;32m-> 1098\u001b[1;33m               \u001b[0mtmp_logs\u001b[0m \u001b[1;33m=\u001b[0m \u001b[0mtrain_function\u001b[0m\u001b[1;33m(\u001b[0m\u001b[0miterator\u001b[0m\u001b[1;33m)\u001b[0m\u001b[1;33m\u001b[0m\u001b[1;33m\u001b[0m\u001b[0m\n\u001b[0m\u001b[0;32m   1099\u001b[0m               \u001b[1;32mif\u001b[0m \u001b[0mdata_handler\u001b[0m\u001b[1;33m.\u001b[0m\u001b[0mshould_sync\u001b[0m\u001b[1;33m:\u001b[0m\u001b[1;33m\u001b[0m\u001b[1;33m\u001b[0m\u001b[0m\n\u001b[0;32m   1100\u001b[0m                 \u001b[0mcontext\u001b[0m\u001b[1;33m.\u001b[0m\u001b[0masync_wait\u001b[0m\u001b[1;33m(\u001b[0m\u001b[1;33m)\u001b[0m\u001b[1;33m\u001b[0m\u001b[1;33m\u001b[0m\u001b[0m\n",
      "\u001b[1;32mc:\\users\\dnybe\\anaconda3\\envs\\tf_gpu\\lib\\site-packages\\tensorflow\\python\\eager\\def_function.py\u001b[0m in \u001b[0;36m__call__\u001b[1;34m(self, *args, **kwds)\u001b[0m\n\u001b[0;32m    778\u001b[0m       \u001b[1;32melse\u001b[0m\u001b[1;33m:\u001b[0m\u001b[1;33m\u001b[0m\u001b[1;33m\u001b[0m\u001b[0m\n\u001b[0;32m    779\u001b[0m         \u001b[0mcompiler\u001b[0m \u001b[1;33m=\u001b[0m \u001b[1;34m\"nonXla\"\u001b[0m\u001b[1;33m\u001b[0m\u001b[1;33m\u001b[0m\u001b[0m\n\u001b[1;32m--> 780\u001b[1;33m         \u001b[0mresult\u001b[0m \u001b[1;33m=\u001b[0m \u001b[0mself\u001b[0m\u001b[1;33m.\u001b[0m\u001b[0m_call\u001b[0m\u001b[1;33m(\u001b[0m\u001b[1;33m*\u001b[0m\u001b[0margs\u001b[0m\u001b[1;33m,\u001b[0m \u001b[1;33m**\u001b[0m\u001b[0mkwds\u001b[0m\u001b[1;33m)\u001b[0m\u001b[1;33m\u001b[0m\u001b[1;33m\u001b[0m\u001b[0m\n\u001b[0m\u001b[0;32m    781\u001b[0m \u001b[1;33m\u001b[0m\u001b[0m\n\u001b[0;32m    782\u001b[0m       \u001b[0mnew_tracing_count\u001b[0m \u001b[1;33m=\u001b[0m \u001b[0mself\u001b[0m\u001b[1;33m.\u001b[0m\u001b[0m_get_tracing_count\u001b[0m\u001b[1;33m(\u001b[0m\u001b[1;33m)\u001b[0m\u001b[1;33m\u001b[0m\u001b[1;33m\u001b[0m\u001b[0m\n",
      "\u001b[1;32mc:\\users\\dnybe\\anaconda3\\envs\\tf_gpu\\lib\\site-packages\\tensorflow\\python\\eager\\def_function.py\u001b[0m in \u001b[0;36m_call\u001b[1;34m(self, *args, **kwds)\u001b[0m\n\u001b[0;32m    805\u001b[0m       \u001b[1;31m# In this case we have created variables on the first call, so we run the\u001b[0m\u001b[1;33m\u001b[0m\u001b[1;33m\u001b[0m\u001b[1;33m\u001b[0m\u001b[0m\n\u001b[0;32m    806\u001b[0m       \u001b[1;31m# defunned version which is guaranteed to never create variables.\u001b[0m\u001b[1;33m\u001b[0m\u001b[1;33m\u001b[0m\u001b[1;33m\u001b[0m\u001b[0m\n\u001b[1;32m--> 807\u001b[1;33m       \u001b[1;32mreturn\u001b[0m \u001b[0mself\u001b[0m\u001b[1;33m.\u001b[0m\u001b[0m_stateless_fn\u001b[0m\u001b[1;33m(\u001b[0m\u001b[1;33m*\u001b[0m\u001b[0margs\u001b[0m\u001b[1;33m,\u001b[0m \u001b[1;33m**\u001b[0m\u001b[0mkwds\u001b[0m\u001b[1;33m)\u001b[0m  \u001b[1;31m# pylint: disable=not-callable\u001b[0m\u001b[1;33m\u001b[0m\u001b[1;33m\u001b[0m\u001b[0m\n\u001b[0m\u001b[0;32m    808\u001b[0m     \u001b[1;32melif\u001b[0m \u001b[0mself\u001b[0m\u001b[1;33m.\u001b[0m\u001b[0m_stateful_fn\u001b[0m \u001b[1;32mis\u001b[0m \u001b[1;32mnot\u001b[0m \u001b[1;32mNone\u001b[0m\u001b[1;33m:\u001b[0m\u001b[1;33m\u001b[0m\u001b[1;33m\u001b[0m\u001b[0m\n\u001b[0;32m    809\u001b[0m       \u001b[1;31m# Release the lock early so that multiple threads can perform the call\u001b[0m\u001b[1;33m\u001b[0m\u001b[1;33m\u001b[0m\u001b[1;33m\u001b[0m\u001b[0m\n",
      "\u001b[1;32mc:\\users\\dnybe\\anaconda3\\envs\\tf_gpu\\lib\\site-packages\\tensorflow\\python\\eager\\function.py\u001b[0m in \u001b[0;36m__call__\u001b[1;34m(self, *args, **kwargs)\u001b[0m\n\u001b[0;32m   2827\u001b[0m     \u001b[1;32mwith\u001b[0m \u001b[0mself\u001b[0m\u001b[1;33m.\u001b[0m\u001b[0m_lock\u001b[0m\u001b[1;33m:\u001b[0m\u001b[1;33m\u001b[0m\u001b[1;33m\u001b[0m\u001b[0m\n\u001b[0;32m   2828\u001b[0m       \u001b[0mgraph_function\u001b[0m\u001b[1;33m,\u001b[0m \u001b[0margs\u001b[0m\u001b[1;33m,\u001b[0m \u001b[0mkwargs\u001b[0m \u001b[1;33m=\u001b[0m \u001b[0mself\u001b[0m\u001b[1;33m.\u001b[0m\u001b[0m_maybe_define_function\u001b[0m\u001b[1;33m(\u001b[0m\u001b[0margs\u001b[0m\u001b[1;33m,\u001b[0m \u001b[0mkwargs\u001b[0m\u001b[1;33m)\u001b[0m\u001b[1;33m\u001b[0m\u001b[1;33m\u001b[0m\u001b[0m\n\u001b[1;32m-> 2829\u001b[1;33m     \u001b[1;32mreturn\u001b[0m \u001b[0mgraph_function\u001b[0m\u001b[1;33m.\u001b[0m\u001b[0m_filtered_call\u001b[0m\u001b[1;33m(\u001b[0m\u001b[0margs\u001b[0m\u001b[1;33m,\u001b[0m \u001b[0mkwargs\u001b[0m\u001b[1;33m)\u001b[0m  \u001b[1;31m# pylint: disable=protected-access\u001b[0m\u001b[1;33m\u001b[0m\u001b[1;33m\u001b[0m\u001b[0m\n\u001b[0m\u001b[0;32m   2830\u001b[0m \u001b[1;33m\u001b[0m\u001b[0m\n\u001b[0;32m   2831\u001b[0m   \u001b[1;33m@\u001b[0m\u001b[0mproperty\u001b[0m\u001b[1;33m\u001b[0m\u001b[1;33m\u001b[0m\u001b[0m\n",
      "\u001b[1;32mc:\\users\\dnybe\\anaconda3\\envs\\tf_gpu\\lib\\site-packages\\tensorflow\\python\\eager\\function.py\u001b[0m in \u001b[0;36m_filtered_call\u001b[1;34m(self, args, kwargs, cancellation_manager)\u001b[0m\n\u001b[0;32m   1846\u001b[0m                            resource_variable_ops.BaseResourceVariable))],\n\u001b[0;32m   1847\u001b[0m         \u001b[0mcaptured_inputs\u001b[0m\u001b[1;33m=\u001b[0m\u001b[0mself\u001b[0m\u001b[1;33m.\u001b[0m\u001b[0mcaptured_inputs\u001b[0m\u001b[1;33m,\u001b[0m\u001b[1;33m\u001b[0m\u001b[1;33m\u001b[0m\u001b[0m\n\u001b[1;32m-> 1848\u001b[1;33m         cancellation_manager=cancellation_manager)\n\u001b[0m\u001b[0;32m   1849\u001b[0m \u001b[1;33m\u001b[0m\u001b[0m\n\u001b[0;32m   1850\u001b[0m   \u001b[1;32mdef\u001b[0m \u001b[0m_call_flat\u001b[0m\u001b[1;33m(\u001b[0m\u001b[0mself\u001b[0m\u001b[1;33m,\u001b[0m \u001b[0margs\u001b[0m\u001b[1;33m,\u001b[0m \u001b[0mcaptured_inputs\u001b[0m\u001b[1;33m,\u001b[0m \u001b[0mcancellation_manager\u001b[0m\u001b[1;33m=\u001b[0m\u001b[1;32mNone\u001b[0m\u001b[1;33m)\u001b[0m\u001b[1;33m:\u001b[0m\u001b[1;33m\u001b[0m\u001b[1;33m\u001b[0m\u001b[0m\n",
      "\u001b[1;32mc:\\users\\dnybe\\anaconda3\\envs\\tf_gpu\\lib\\site-packages\\tensorflow\\python\\eager\\function.py\u001b[0m in \u001b[0;36m_call_flat\u001b[1;34m(self, args, captured_inputs, cancellation_manager)\u001b[0m\n\u001b[0;32m   1922\u001b[0m       \u001b[1;31m# No tape is watching; skip to running the function.\u001b[0m\u001b[1;33m\u001b[0m\u001b[1;33m\u001b[0m\u001b[1;33m\u001b[0m\u001b[0m\n\u001b[0;32m   1923\u001b[0m       return self._build_call_outputs(self._inference_function.call(\n\u001b[1;32m-> 1924\u001b[1;33m           ctx, args, cancellation_manager=cancellation_manager))\n\u001b[0m\u001b[0;32m   1925\u001b[0m     forward_backward = self._select_forward_and_backward_functions(\n\u001b[0;32m   1926\u001b[0m         \u001b[0margs\u001b[0m\u001b[1;33m,\u001b[0m\u001b[1;33m\u001b[0m\u001b[1;33m\u001b[0m\u001b[0m\n",
      "\u001b[1;32mc:\\users\\dnybe\\anaconda3\\envs\\tf_gpu\\lib\\site-packages\\tensorflow\\python\\eager\\function.py\u001b[0m in \u001b[0;36mcall\u001b[1;34m(self, ctx, args, cancellation_manager)\u001b[0m\n\u001b[0;32m    548\u001b[0m               \u001b[0minputs\u001b[0m\u001b[1;33m=\u001b[0m\u001b[0margs\u001b[0m\u001b[1;33m,\u001b[0m\u001b[1;33m\u001b[0m\u001b[1;33m\u001b[0m\u001b[0m\n\u001b[0;32m    549\u001b[0m               \u001b[0mattrs\u001b[0m\u001b[1;33m=\u001b[0m\u001b[0mattrs\u001b[0m\u001b[1;33m,\u001b[0m\u001b[1;33m\u001b[0m\u001b[1;33m\u001b[0m\u001b[0m\n\u001b[1;32m--> 550\u001b[1;33m               ctx=ctx)\n\u001b[0m\u001b[0;32m    551\u001b[0m         \u001b[1;32melse\u001b[0m\u001b[1;33m:\u001b[0m\u001b[1;33m\u001b[0m\u001b[1;33m\u001b[0m\u001b[0m\n\u001b[0;32m    552\u001b[0m           outputs = execute.execute_with_cancellation(\n",
      "\u001b[1;32mc:\\users\\dnybe\\anaconda3\\envs\\tf_gpu\\lib\\site-packages\\tensorflow\\python\\eager\\execute.py\u001b[0m in \u001b[0;36mquick_execute\u001b[1;34m(op_name, num_outputs, inputs, attrs, ctx, name)\u001b[0m\n\u001b[0;32m     58\u001b[0m     \u001b[0mctx\u001b[0m\u001b[1;33m.\u001b[0m\u001b[0mensure_initialized\u001b[0m\u001b[1;33m(\u001b[0m\u001b[1;33m)\u001b[0m\u001b[1;33m\u001b[0m\u001b[1;33m\u001b[0m\u001b[0m\n\u001b[0;32m     59\u001b[0m     tensors = pywrap_tfe.TFE_Py_Execute(ctx._handle, device_name, op_name,\n\u001b[1;32m---> 60\u001b[1;33m                                         inputs, attrs, num_outputs)\n\u001b[0m\u001b[0;32m     61\u001b[0m   \u001b[1;32mexcept\u001b[0m \u001b[0mcore\u001b[0m\u001b[1;33m.\u001b[0m\u001b[0m_NotOkStatusException\u001b[0m \u001b[1;32mas\u001b[0m \u001b[0me\u001b[0m\u001b[1;33m:\u001b[0m\u001b[1;33m\u001b[0m\u001b[1;33m\u001b[0m\u001b[0m\n\u001b[0;32m     62\u001b[0m     \u001b[1;32mif\u001b[0m \u001b[0mname\u001b[0m \u001b[1;32mis\u001b[0m \u001b[1;32mnot\u001b[0m \u001b[1;32mNone\u001b[0m\u001b[1;33m:\u001b[0m\u001b[1;33m\u001b[0m\u001b[1;33m\u001b[0m\u001b[0m\n",
      "\u001b[1;31mKeyboardInterrupt\u001b[0m: "
     ]
    }
   ],
   "source": [
    "model_results = model.fit(train_data_inputs, train_data_targets, batch_size=20, epochs=100, validation_data=(test_data_inputs, test_data_targets))"
   ]
  },
  {
   "cell_type": "code",
   "execution_count": null,
   "metadata": {},
   "outputs": [],
   "source": []
  },
  {
   "cell_type": "code",
   "execution_count": 23,
   "metadata": {},
   "outputs": [
    {
     "name": "stdout",
     "output_type": "stream",
     "text": [
      "(1, 198, 10100)\n",
      "[[[4.6822947e-06 3.8957696e-06 4.5669735e-06 ... 4.5950251e-06\n",
      "   4.6784335e-06 4.1405719e-06]\n",
      "  [7.6001193e-08 5.6542508e-08 7.6695230e-08 ... 7.5377244e-08\n",
      "   8.0276784e-08 6.3353774e-08]\n",
      "  [6.7890036e-09 4.7811541e-09 7.1203332e-09 ... 6.7289290e-09\n",
      "   7.6805531e-09 5.6237690e-09]\n",
      "  ...\n",
      "  [4.7954529e-09 3.6599812e-09 5.4918519e-09 ... 4.7229620e-09\n",
      "   5.6554819e-09 3.1974965e-09]\n",
      "  [4.8420672e-09 3.6937395e-09 5.5430616e-09 ... 4.7707180e-09\n",
      "   5.7034395e-09 3.2255276e-09]\n",
      "  [4.8852575e-09 3.7249814e-09 5.5906333e-09 ... 4.8149249e-09\n",
      "   5.7480123e-09 3.2517891e-09]]]\n"
     ]
    }
   ],
   "source": [
    "p = model.predict(test_data_inputs[0:1])\n",
    "print(p.shape)\n",
    "print(p)"
   ]
  },
  {
   "cell_type": "code",
   "execution_count": 42,
   "metadata": {},
   "outputs": [],
   "source": [
    "model.save('LSTM_300.h5')"
   ]
  },
  {
   "cell_type": "code",
   "execution_count": 16,
   "metadata": {},
   "outputs": [],
   "source": [
    "model = keras.models.load_model('newencoder_decoder.h5')"
   ]
  },
  {
   "cell_type": "code",
   "execution_count": 41,
   "metadata": {
    "colab": {
     "base_uri": "https://localhost:8080/",
     "height": 480
    },
    "id": "Rj7IS3DbKq4Z",
    "outputId": "4f6b2791-d30e-444f-bce3-2a513f81a8bb"
   },
   "outputs": [
    {
     "data": {
      "image/png": "[encoded data removed]",
      "text/plain": [
       "<Figure size 432x288 with 1 Axes>"
      ]
     },
     "metadata": {
      "needs_background": "light"
     },
     "output_type": "display_data"
    }
   ],
   "source": [
    "#plotting losses, https://stackoverflow.com/questions/41908379/keras-plot-training-validation-and-test-set-accuracy\n",
    "plt.plot(model_results.history['loss'])\n",
    "plt.plot(model_results.history['val_loss'])\n",
    "plt.title('model loss')\n",
    "plt.ylabel('loss')\n",
    "plt.xlabel('epoch')\n",
    "plt.legend(['train', 'val'], loc='upper left')\n",
    "plt.show()"
   ]
  },
  {
   "cell_type": "code",
   "execution_count": 19,
   "metadata": {},
   "outputs": [],
   "source": [
    "input_len = 20\n",
    "target_len = 28"
   ]
  },
  {
   "cell_type": "code",
   "execution_count": 34,
   "metadata": {},
   "outputs": [],
   "source": [
    "def get_predictions(model, data_source_inputs, data_source_targets):\n",
    "\n",
    "    predictions = []\n",
    "    ground_truths = []\n",
    "    inputs = []\n",
    "    for i in range(0, data_source_inputs.shape[0], 1):\n",
    "        res = model.predict(data_source_inputs[i:i+1])\n",
    "        for j in range(target_len):\n",
    "            ground_truths.append(data_source_targets[i].squeeze().tolist())\n",
    "            predictions.append((tf.argmax(res[0,:,:], axis=1)).numpy().tolist())\n",
    "            if j < 20:\n",
    "                inputs.append(int(data_source_inputs[i][j]))\n",
    "            \n",
    "    return inputs, ground_truths, predictions"
   ]
  },
  {
   "cell_type": "code",
   "execution_count": 35,
   "metadata": {},
   "outputs": [],
   "source": [
    "inputs_list, target_list, preds_list = get_predictions(model, test_data_inputs, test_data_targets)"
   ]
  },
  {
   "cell_type": "code",
   "execution_count": 37,
   "metadata": {},
   "outputs": [
    {
     "data": {
      "text/plain": [
       "18000"
      ]
     },
     "execution_count": 37,
     "metadata": {},
     "output_type": "execute_result"
    }
   ],
   "source": [
    "len(inputs_list)"
   ]
  },
  {
   "cell_type": "code",
   "execution_count": 38,
   "metadata": {},
   "outputs": [],
   "source": [
    "import math\n",
    "def calculate_eucledian_mse(targets, preds):\n",
    "  err = 0\n",
    "  for indx in range(0, len(targets)):\n",
    "    x_target = targets[indx] % 100\n",
    "    y_target = targets[indx] / 100\n",
    "\n",
    "    x_preds = preds[indx] % 100\n",
    "    y_preds = preds[indx] / 100\n",
    "\n",
    "    dist = math.hypot(x_target - x_preds, y_target - y_preds)\n",
    "    err += dist\n",
    "  return (err / len(targets))"
   ]
  },
  {
   "cell_type": "code",
   "execution_count": 39,
   "metadata": {},
   "outputs": [
    {
     "ename": "TypeError",
     "evalue": "unsupported operand type(s) for %: 'list' and 'int'",
     "output_type": "error",
     "traceback": [
      "\u001b[1;31m---------------------------------------------------------------------------\u001b[0m",
      "\u001b[1;31mTypeError\u001b[0m                                 Traceback (most recent call last)",
      "\u001b[1;32m<ipython-input-39-33bce004de1f>\u001b[0m in \u001b[0;36m<module>\u001b[1;34m\u001b[0m\n\u001b[1;32m----> 1\u001b[1;33m \u001b[0mcalculate_eucledian_mse\u001b[0m\u001b[1;33m(\u001b[0m\u001b[0mtarget_list\u001b[0m\u001b[1;33m,\u001b[0m \u001b[0mpreds_list\u001b[0m\u001b[1;33m)\u001b[0m\u001b[1;33m\u001b[0m\u001b[1;33m\u001b[0m\u001b[0m\n\u001b[0m",
      "\u001b[1;32m<ipython-input-38-af82809d67df>\u001b[0m in \u001b[0;36mcalculate_eucledian_mse\u001b[1;34m(targets, preds)\u001b[0m\n\u001b[0;32m      3\u001b[0m   \u001b[0merr\u001b[0m \u001b[1;33m=\u001b[0m \u001b[1;36m0\u001b[0m\u001b[1;33m\u001b[0m\u001b[1;33m\u001b[0m\u001b[0m\n\u001b[0;32m      4\u001b[0m   \u001b[1;32mfor\u001b[0m \u001b[0mindx\u001b[0m \u001b[1;32min\u001b[0m \u001b[0mrange\u001b[0m\u001b[1;33m(\u001b[0m\u001b[1;36m0\u001b[0m\u001b[1;33m,\u001b[0m \u001b[0mlen\u001b[0m\u001b[1;33m(\u001b[0m\u001b[0mtargets\u001b[0m\u001b[1;33m)\u001b[0m\u001b[1;33m)\u001b[0m\u001b[1;33m:\u001b[0m\u001b[1;33m\u001b[0m\u001b[1;33m\u001b[0m\u001b[0m\n\u001b[1;32m----> 5\u001b[1;33m     \u001b[0mx_target\u001b[0m \u001b[1;33m=\u001b[0m \u001b[0mtargets\u001b[0m\u001b[1;33m[\u001b[0m\u001b[0mindx\u001b[0m\u001b[1;33m]\u001b[0m \u001b[1;33m%\u001b[0m \u001b[1;36m100\u001b[0m\u001b[1;33m\u001b[0m\u001b[1;33m\u001b[0m\u001b[0m\n\u001b[0m\u001b[0;32m      6\u001b[0m     \u001b[0my_target\u001b[0m \u001b[1;33m=\u001b[0m \u001b[0mtargets\u001b[0m\u001b[1;33m[\u001b[0m\u001b[0mindx\u001b[0m\u001b[1;33m]\u001b[0m \u001b[1;33m/\u001b[0m \u001b[1;36m100\u001b[0m\u001b[1;33m\u001b[0m\u001b[1;33m\u001b[0m\u001b[0m\n\u001b[0;32m      7\u001b[0m \u001b[1;33m\u001b[0m\u001b[0m\n",
      "\u001b[1;31mTypeError\u001b[0m: unsupported operand type(s) for %: 'list' and 'int'"
     ]
    }
   ],
   "source": [
    "calculate_eucledian_mse(target_list, preds_list)"
   ]
  },
  {
   "cell_type": "code",
   "execution_count": 42,
   "metadata": {},
   "outputs": [],
   "source": [
    "import numpy as np\n",
    "import matplotlib.pyplot as plt\n",
    "\n",
    "def vis_trajectory_scatter(input_list, target_list, preds_list, lag_time = 1.0):\n",
    "    plt.figure(figsize=(3,3))\n",
    "    for i in range(0, len(input_list)):\n",
    "\n",
    "        inputs = input_list[i]\n",
    "        targets = target_list[i]\n",
    "        preds = preds_list[i]\n",
    "        \n",
    "        xy_inputs = []\n",
    "        xy_preds = []\n",
    "        xy_target = []\n",
    "\n",
    "        x = inputs % 100\n",
    "        y = inputs / 100 \n",
    "        xy_inputs.extend([x, y])\n",
    "\n",
    "        x = preds % 100\n",
    "        y = preds / 100 \n",
    "        xy_preds.extend([x, y])\n",
    "\n",
    "        x = targets % 100\n",
    "        y = targets / 100 \n",
    "        xy_target.extend([x, y])\n",
    "    print(xy_inputs)\n",
    "    print(xy_preds)\n",
    "    print(xy_target)\n",
    "    \"\"\"\n",
    "\n",
    "    x_inp, y_inp = zip(*xy_inputs)\n",
    "    x_tar, y_tar = zip(*xy_target)\n",
    "    x_pred, y_pred = zip(*xy_preds)\n",
    "\n",
    "    plt.scatter(x_inp,y_inp)\n",
    "    plt.scatter(x_tar,y_tar, color='r')\n",
    "    plt.scatter(x_pred,y_pred)\n",
    "\n",
    "    plt.xlim(0, 100)\n",
    "    plt.ylim(0, 100)\n",
    "\n",
    "    plt.show()\n",
    "    print(\"Input: \", xy_inputs)\n",
    "    print(\"Preds: \", xy_preds)\n",
    "    print(\"Truth: \", xy_target)\n",
    "    time.sleep(lag_time)\n",
    "    \"\"\""
   ]
  },
  {
   "cell_type": "code",
   "execution_count": 43,
   "metadata": {},
   "outputs": [
    {
     "ename": "TypeError",
     "evalue": "unsupported operand type(s) for %: 'list' and 'int'",
     "output_type": "error",
     "traceback": [
      "\u001b[1;31m---------------------------------------------------------------------------\u001b[0m",
      "\u001b[1;31mTypeError\u001b[0m                                 Traceback (most recent call last)",
      "\u001b[1;32m<ipython-input-43-8847d1c9d66d>\u001b[0m in \u001b[0;36m<module>\u001b[1;34m\u001b[0m\n\u001b[1;32m----> 1\u001b[1;33m \u001b[0mvis_trajectory_scatter\u001b[0m\u001b[1;33m(\u001b[0m\u001b[0minputs_list\u001b[0m\u001b[1;33m,\u001b[0m \u001b[0mtarget_list\u001b[0m\u001b[1;33m,\u001b[0m \u001b[0mpreds_list\u001b[0m\u001b[1;33m)\u001b[0m\u001b[1;33m\u001b[0m\u001b[1;33m\u001b[0m\u001b[0m\n\u001b[0m",
      "\u001b[1;32m<ipython-input-42-15820e064319>\u001b[0m in \u001b[0;36mvis_trajectory_scatter\u001b[1;34m(input_list, target_list, preds_list, lag_time)\u001b[0m\n\u001b[0;32m     18\u001b[0m         \u001b[0mxy_inputs\u001b[0m\u001b[1;33m.\u001b[0m\u001b[0mextend\u001b[0m\u001b[1;33m(\u001b[0m\u001b[1;33m[\u001b[0m\u001b[0mx\u001b[0m\u001b[1;33m,\u001b[0m \u001b[0my\u001b[0m\u001b[1;33m]\u001b[0m\u001b[1;33m)\u001b[0m\u001b[1;33m\u001b[0m\u001b[1;33m\u001b[0m\u001b[0m\n\u001b[0;32m     19\u001b[0m \u001b[1;33m\u001b[0m\u001b[0m\n\u001b[1;32m---> 20\u001b[1;33m         \u001b[0mx\u001b[0m \u001b[1;33m=\u001b[0m \u001b[0mpreds\u001b[0m \u001b[1;33m%\u001b[0m \u001b[1;36m100\u001b[0m\u001b[1;33m\u001b[0m\u001b[1;33m\u001b[0m\u001b[0m\n\u001b[0m\u001b[0;32m     21\u001b[0m         \u001b[0my\u001b[0m \u001b[1;33m=\u001b[0m \u001b[0mpreds\u001b[0m \u001b[1;33m/\u001b[0m \u001b[1;36m100\u001b[0m\u001b[1;33m\u001b[0m\u001b[1;33m\u001b[0m\u001b[0m\n\u001b[0;32m     22\u001b[0m         \u001b[0mxy_preds\u001b[0m\u001b[1;33m.\u001b[0m\u001b[0mextend\u001b[0m\u001b[1;33m(\u001b[0m\u001b[1;33m[\u001b[0m\u001b[0mx\u001b[0m\u001b[1;33m,\u001b[0m \u001b[0my\u001b[0m\u001b[1;33m]\u001b[0m\u001b[1;33m)\u001b[0m\u001b[1;33m\u001b[0m\u001b[1;33m\u001b[0m\u001b[0m\n",
      "\u001b[1;31mTypeError\u001b[0m: unsupported operand type(s) for %: 'list' and 'int'"
     ]
    },
    {
     "data": {
      "text/plain": [
       "<Figure size 216x216 with 0 Axes>"
      ]
     },
     "metadata": {},
     "output_type": "display_data"
    }
   ],
   "source": [
    "vis_trajectory_scatter(inputs_list, target_list, preds_list)"
   ]
  },
  {
   "cell_type": "code",
   "execution_count": 40,
   "metadata": {},
   "outputs": [],
   "source": [
    "import numpy as np\n",
    "import matplotlib.pyplot as plt\n",
    "\n",
    "def vis_trajectory_scatter(input_list, target_list, preds_list, lag_time = 1.0):\n",
    "  \n",
    "  for i in range(1 ,1000, 20):\n",
    "\n",
    "    plt.figure(figsize=(5,5))\n",
    "    #inputs = input_list[i]\n",
    "    targets = target_list[i]\n",
    "    preds = preds_list[i]\n",
    "\n",
    "    xy_inputs = []\n",
    "    xy_preds = []\n",
    "    xy_target = []\n",
    "\n",
    "    \"\"\"\n",
    "    for inp in inputs:\n",
    "      x = inp % 100\n",
    "      y = inp / 100 \n",
    "\n",
    "      xy_inputs.append([x, y])\n",
    "    \"\"\"\n",
    "    for inp in preds:\n",
    "      x = inp % 100\n",
    "      y = inp / 100 \n",
    "      xy_preds.append([x, y])\n",
    "\n",
    "    for inp in targets:\n",
    "      x = inp % 100\n",
    "      y = inp / 100 \n",
    "      xy_target.append([x, y])\n",
    "\n",
    "    #x_inp, y_inp = zip(*xy_inputs)\n",
    "    x_tar, y_tar = zip(*xy_target)\n",
    "    x_pred, y_pred = zip(*xy_preds)\n",
    "\n",
    "    #plt.scatter(x_inp,y_inp)\n",
    "    plt.scatter(x_tar,y_tar, color='r')\n",
    "    plt.scatter(x_pred,y_pred)\n",
    "\n",
    "    plt.xlim(0, 100)\n",
    "    plt.ylim(0, 100)\n",
    "\n",
    "    plt.show()\n",
    "    print(\"Input: \", xy_inputs)\n",
    "    print(\"Preds: \", xy_preds)\n",
    "    print(\"Truth: \", xy_target)\n"
   ]
  },
  {
   "cell_type": "code",
   "execution_count": 41,
   "metadata": {},
   "outputs": [
    {
     "data": {
      "image/png": "[encoded data removed]",
      "text/plain": [
       "<Figure size 360x360 with 1 Axes>"
      ]
     },
     "metadata": {
      "needs_background": "light"
     },
     "output_type": "display_data"
    },
    {
     "name": "stdout",
     "output_type": "stream",
     "text": [
      "Input:  []\n",
      "Preds:  [[52, 55.52], [45, 51.45], [44, 51.44], [44, 51.44], [44, 51.44], [44, 51.44], [44, 51.44], [44, 51.44], [43, 52.43], [43, 52.43], [43, 52.43], [43, 52.43], [43, 52.43], [43, 52.43], [42, 52.42], [42, 52.42], [42, 52.42], [42, 52.42], [42, 52.42], [41, 52.41], [41, 52.41], [41, 52.41], [44, 42.44], [44, 42.44], [44, 42.44], [44, 42.44], [44, 42.44], [44, 42.44], [42, 40.42], [42, 40.42], [42, 40.42], [42, 40.42], [42, 40.42], [37, 56.37], [37, 56.37], [37, 56.37], [37, 56.37], [37, 56.37], [37, 56.37], [37, 56.37], [37, 56.37], [37, 56.37], [41, 39.41], [41, 39.41], [41, 39.41], [41, 39.41], [41, 39.41], [41, 39.41], [41, 39.41], [40, 38.4], [40, 38.4], [40, 37.4], [40, 37.4], [40, 37.4], [40, 37.4], [37, 35.37], [37, 35.37], [37, 35.37], [37, 35.37], [37, 35.37], [37, 35.37], [37, 35.37], [37, 35.37], [37, 35.37], [37, 35.37], [37, 35.37], [37, 35.37], [37, 35.37], [37, 35.37], [37, 35.37], [37, 35.37], [37, 35.37], [37, 35.37], [37, 35.37], [34, 33.34], [34, 33.34], [33, 33.33], [33, 33.33]]\n",
      "Truth:  [[46, 45.46], [46, 45.46], [46, 45.46], [46, 45.46], [46, 45.46], [46, 44.46], [46, 44.46], [46, 44.46], [45, 44.45], [45, 44.45], [45, 43.45], [45, 43.45], [45, 43.45], [45, 43.45], [44, 43.44], [44, 42.44], [44, 42.44], [44, 42.44], [44, 42.44], [44, 42.44], [44, 41.44], [43, 41.43], [43, 41.43], [43, 41.43], [43, 41.43], [43, 40.43], [43, 40.43], [42, 40.42], [42, 40.42], [42, 40.42], [42, 39.42], [42, 39.42], [42, 39.42], [41, 39.41], [41, 39.41], [41, 39.41], [41, 38.41], [41, 38.41], [41, 38.41], [40, 38.4], [40, 38.4], [40, 38.4], [40, 37.4], [40, 37.4], [39, 37.39], [39, 37.39], [39, 37.39], [39, 36.39], [39, 36.39], [39, 36.39], [38, 36.38], [38, 36.38], [38, 36.38], [38, 36.38], [38, 35.38], [37, 35.37], [37, 35.37], [37, 35.37], [37, 35.37], [37, 35.37], [36, 34.36], [36, 34.36], [36, 34.36], [36, 34.36], [36, 34.36], [35, 34.35], [35, 33.35], [35, 33.35], [35, 33.35], [35, 33.35], [34, 33.34], [34, 33.34], [34, 33.34], [34, 33.34], [34, 32.34], [33, 32.33], [33, 32.33], [33, 32.33]]\n"
     ]
    },
    {
     "data": {
      "image/png": "[encoded data removed]",
      "text/plain": [
       "<Figure size 360x360 with 1 Axes>"
      ]
     },
     "metadata": {
      "needs_background": "light"
     },
     "output_type": "display_data"
    },
    {
     "name": "stdout",
     "output_type": "stream",
     "text": [
      "Input:  []\n",
      "Preds:  [[52, 55.52], [45, 51.45], [44, 51.44], [44, 51.44], [44, 51.44], [44, 51.44], [44, 51.44], [44, 51.44], [43, 52.43], [43, 52.43], [43, 52.43], [43, 52.43], [43, 52.43], [43, 52.43], [42, 52.42], [42, 52.42], [42, 52.42], [42, 52.42], [42, 52.42], [41, 52.41], [41, 52.41], [41, 52.41], [44, 42.44], [44, 42.44], [44, 42.44], [44, 42.44], [44, 42.44], [44, 42.44], [42, 40.42], [42, 40.42], [42, 40.42], [42, 40.42], [42, 40.42], [37, 56.37], [37, 56.37], [37, 56.37], [37, 56.37], [37, 56.37], [37, 56.37], [37, 56.37], [37, 56.37], [37, 56.37], [41, 39.41], [41, 39.41], [41, 39.41], [41, 39.41], [41, 39.41], [41, 39.41], [41, 39.41], [40, 38.4], [40, 38.4], [40, 37.4], [40, 37.4], [40, 37.4], [40, 37.4], [37, 35.37], [37, 35.37], [37, 35.37], [37, 35.37], [37, 35.37], [37, 35.37], [37, 35.37], [37, 35.37], [37, 35.37], [37, 35.37], [37, 35.37], [37, 35.37], [37, 35.37], [37, 35.37], [37, 35.37], [37, 35.37], [37, 35.37], [37, 35.37], [37, 35.37], [34, 33.34], [34, 33.34], [33, 33.33], [33, 33.33]]\n",
      "Truth:  [[46, 45.46], [46, 45.46], [46, 45.46], [46, 45.46], [46, 45.46], [46, 44.46], [46, 44.46], [46, 44.46], [45, 44.45], [45, 44.45], [45, 43.45], [45, 43.45], [45, 43.45], [45, 43.45], [44, 43.44], [44, 42.44], [44, 42.44], [44, 42.44], [44, 42.44], [44, 42.44], [44, 41.44], [43, 41.43], [43, 41.43], [43, 41.43], [43, 41.43], [43, 40.43], [43, 40.43], [42, 40.42], [42, 40.42], [42, 40.42], [42, 39.42], [42, 39.42], [42, 39.42], [41, 39.41], [41, 39.41], [41, 39.41], [41, 38.41], [41, 38.41], [41, 38.41], [40, 38.4], [40, 38.4], [40, 38.4], [40, 37.4], [40, 37.4], [39, 37.39], [39, 37.39], [39, 37.39], [39, 36.39], [39, 36.39], [39, 36.39], [38, 36.38], [38, 36.38], [38, 36.38], [38, 36.38], [38, 35.38], [37, 35.37], [37, 35.37], [37, 35.37], [37, 35.37], [37, 35.37], [36, 34.36], [36, 34.36], [36, 34.36], [36, 34.36], [36, 34.36], [35, 34.35], [35, 33.35], [35, 33.35], [35, 33.35], [35, 33.35], [34, 33.34], [34, 33.34], [34, 33.34], [34, 33.34], [34, 32.34], [33, 32.33], [33, 32.33], [33, 32.33]]\n"
     ]
    },
    {
     "data": {
      "image/png": "[encoded data removed]",
      "text/plain": [
       "<Figure size 360x360 with 1 Axes>"
      ]
     },
     "metadata": {
      "needs_background": "light"
     },
     "output_type": "display_data"
    },
    {
     "name": "stdout",
     "output_type": "stream",
     "text": [
      "Input:  []\n",
      "Preds:  [[52, 55.52], [45, 51.45], [44, 51.44], [44, 51.44], [44, 51.44], [44, 51.44], [44, 51.44], [44, 51.44], [43, 52.43], [43, 52.43], [43, 52.43], [43, 52.43], [43, 52.43], [43, 52.43], [42, 52.42], [42, 52.42], [42, 52.42], [42, 52.42], [42, 52.42], [41, 52.41], [41, 52.41], [41, 52.41], [44, 42.44], [44, 42.44], [44, 42.44], [44, 42.44], [44, 42.44], [44, 42.44], [42, 40.42], [42, 40.42], [42, 40.42], [42, 40.42], [42, 40.42], [37, 56.37], [37, 56.37], [37, 56.37], [37, 56.37], [37, 56.37], [37, 56.37], [37, 56.37], [37, 56.37], [37, 56.37], [41, 39.41], [41, 39.41], [41, 39.41], [41, 39.41], [41, 39.41], [41, 39.41], [41, 39.41], [40, 38.4], [40, 38.4], [40, 37.4], [40, 37.4], [40, 37.4], [40, 37.4], [37, 35.37], [37, 35.37], [37, 35.37], [37, 35.37], [37, 35.37], [37, 35.37], [37, 35.37], [37, 35.37], [37, 35.37], [37, 35.37], [37, 35.37], [37, 35.37], [37, 35.37], [37, 35.37], [37, 35.37], [37, 35.37], [37, 35.37], [37, 35.37], [37, 35.37], [34, 33.34], [34, 33.34], [33, 33.33], [33, 33.33]]\n",
      "Truth:  [[46, 45.46], [46, 45.46], [46, 45.46], [46, 45.46], [46, 45.46], [46, 44.46], [46, 44.46], [46, 44.46], [45, 44.45], [45, 44.45], [45, 43.45], [45, 43.45], [45, 43.45], [45, 43.45], [44, 43.44], [44, 42.44], [44, 42.44], [44, 42.44], [44, 42.44], [44, 42.44], [44, 41.44], [43, 41.43], [43, 41.43], [43, 41.43], [43, 41.43], [43, 40.43], [43, 40.43], [42, 40.42], [42, 40.42], [42, 40.42], [42, 39.42], [42, 39.42], [42, 39.42], [41, 39.41], [41, 39.41], [41, 39.41], [41, 38.41], [41, 38.41], [41, 38.41], [40, 38.4], [40, 38.4], [40, 38.4], [40, 37.4], [40, 37.4], [39, 37.39], [39, 37.39], [39, 37.39], [39, 36.39], [39, 36.39], [39, 36.39], [38, 36.38], [38, 36.38], [38, 36.38], [38, 36.38], [38, 35.38], [37, 35.37], [37, 35.37], [37, 35.37], [37, 35.37], [37, 35.37], [36, 34.36], [36, 34.36], [36, 34.36], [36, 34.36], [36, 34.36], [35, 34.35], [35, 33.35], [35, 33.35], [35, 33.35], [35, 33.35], [34, 33.34], [34, 33.34], [34, 33.34], [34, 33.34], [34, 32.34], [33, 32.33], [33, 32.33], [33, 32.33]]\n"
     ]
    },
    {
     "data": {
      "image/png": "[encoded data removed]",
      "text/plain": [
       "<Figure size 360x360 with 1 Axes>"
      ]
     },
     "metadata": {
      "needs_background": "light"
     },
     "output_type": "display_data"
    },
    {
     "name": "stdout",
     "output_type": "stream",
     "text": [
      "Input:  []\n",
      "Preds:  [[52, 55.52], [45, 51.45], [44, 51.44], [44, 51.44], [44, 51.44], [44, 51.44], [44, 51.44], [44, 51.44], [43, 52.43], [43, 52.43], [43, 52.43], [43, 52.43], [43, 52.43], [43, 52.43], [42, 52.42], [42, 52.42], [42, 52.42], [42, 52.42], [42, 52.42], [41, 52.41], [41, 52.41], [41, 52.41], [44, 42.44], [44, 42.44], [44, 42.44], [44, 42.44], [44, 42.44], [44, 42.44], [42, 40.42], [42, 40.42], [42, 40.42], [42, 40.42], [42, 40.42], [37, 56.37], [37, 56.37], [37, 56.37], [37, 56.37], [37, 56.37], [37, 56.37], [37, 56.37], [37, 56.37], [37, 56.37], [41, 39.41], [41, 39.41], [41, 39.41], [41, 39.41], [41, 39.41], [41, 39.41], [41, 39.41], [40, 38.4], [40, 38.4], [40, 37.4], [40, 37.4], [40, 37.4], [40, 37.4], [37, 35.37], [37, 35.37], [37, 35.37], [37, 35.37], [37, 35.37], [37, 35.37], [37, 35.37], [37, 35.37], [37, 35.37], [37, 35.37], [37, 35.37], [37, 35.37], [37, 35.37], [37, 35.37], [37, 35.37], [37, 35.37], [37, 35.37], [37, 35.37], [37, 35.37], [34, 33.34], [34, 33.34], [33, 33.33], [33, 33.33]]\n",
      "Truth:  [[46, 45.46], [46, 45.46], [46, 45.46], [46, 45.46], [46, 45.46], [46, 44.46], [46, 44.46], [46, 44.46], [45, 44.45], [45, 44.45], [45, 43.45], [45, 43.45], [45, 43.45], [45, 43.45], [44, 43.44], [44, 42.44], [44, 42.44], [44, 42.44], [44, 42.44], [44, 42.44], [44, 41.44], [43, 41.43], [43, 41.43], [43, 41.43], [43, 41.43], [43, 40.43], [43, 40.43], [42, 40.42], [42, 40.42], [42, 40.42], [42, 39.42], [42, 39.42], [42, 39.42], [41, 39.41], [41, 39.41], [41, 39.41], [41, 38.41], [41, 38.41], [41, 38.41], [40, 38.4], [40, 38.4], [40, 38.4], [40, 37.4], [40, 37.4], [39, 37.39], [39, 37.39], [39, 37.39], [39, 36.39], [39, 36.39], [39, 36.39], [38, 36.38], [38, 36.38], [38, 36.38], [38, 36.38], [38, 35.38], [37, 35.37], [37, 35.37], [37, 35.37], [37, 35.37], [37, 35.37], [36, 34.36], [36, 34.36], [36, 34.36], [36, 34.36], [36, 34.36], [35, 34.35], [35, 33.35], [35, 33.35], [35, 33.35], [35, 33.35], [34, 33.34], [34, 33.34], [34, 33.34], [34, 33.34], [34, 32.34], [33, 32.33], [33, 32.33], [33, 32.33]]\n"
     ]
    },
    {
     "data": {
      "image/png": "[encoded data removed]",
      "text/plain": [
       "<Figure size 360x360 with 1 Axes>"
      ]
     },
     "metadata": {
      "needs_background": "light"
     },
     "output_type": "display_data"
    },
    {
     "name": "stdout",
     "output_type": "stream",
     "text": [
      "Input:  []\n",
      "Preds:  [[49, 50.49], [49, 50.49], [49, 50.49], [47, 53.47], [47, 53.47], [47, 53.47], [47, 53.47], [47, 53.47], [47, 53.47], [47, 53.47], [47, 53.47], [47, 53.47], [47, 53.47], [47, 53.47], [47, 53.47], [47, 53.47], [47, 53.47], [47, 53.47], [47, 53.47], [47, 54.47], [47, 54.47], [47, 54.47], [47, 54.47], [47, 54.47], [47, 54.47], [46, 55.46], [46, 55.46], [46, 55.46], [46, 55.46], [46, 55.46], [46, 55.46], [46, 55.46], [46, 55.46], [46, 55.46], [46, 55.46], [46, 55.46], [46, 55.46], [46, 55.46], [46, 55.46], [46, 55.46], [46, 55.46], [46, 55.46], [46, 55.46], [46, 55.46], [46, 55.46], [46, 55.46], [46, 55.46], [46, 55.46], [46, 55.46], [46, 55.46], [46, 55.46], [46, 55.46], [46, 55.46], [46, 55.46], [46, 55.46], [46, 55.46], [46, 55.46], [46, 55.46], [46, 55.46], [46, 55.46], [46, 55.46], [46, 55.46], [46, 55.46], [46, 55.46], [46, 55.46], [46, 55.46], [46, 55.46], [46, 55.46], [46, 55.46], [46, 55.46], [46, 55.46], [46, 55.46], [46, 55.46], [46, 55.46], [46, 55.46], [46, 55.46], [46, 55.46], [46, 55.46]]\n",
      "Truth:  [[48, 52.48], [48, 52.48], [48, 52.48], [48, 52.48], [48, 52.48], [48, 52.48], [48, 52.48], [48, 52.48], [48, 52.48], [48, 52.48], [48, 53.48], [48, 53.48], [48, 53.48], [48, 53.48], [48, 53.48], [47, 53.47], [47, 53.47], [47, 53.47], [47, 53.47], [47, 53.47], [47, 53.47], [47, 53.47], [47, 54.47], [47, 54.47], [47, 54.47], [47, 54.47], [47, 54.47], [47, 54.47], [47, 54.47], [47, 54.47], [47, 54.47], [46, 54.46], [46, 55.46], [46, 55.46], [46, 55.46], [46, 55.46], [46, 55.46], [46, 55.46], [46, 55.46], [46, 55.46], [46, 55.46], [46, 55.46], [46, 55.46], [46, 56.46], [46, 56.46], [45, 56.45], [45, 56.45], [45, 56.45], [45, 56.45], [45, 56.45], [45, 56.45], [45, 56.45], [45, 57.45], [45, 57.45], [45, 57.45], [45, 57.45], [45, 57.45], [44, 57.44], [44, 57.44], [44, 57.44], [44, 57.44], [44, 57.44], [44, 58.44], [44, 58.44], [44, 58.44], [44, 58.44], [44, 58.44], [44, 58.44], [43, 58.43], [43, 58.43], [43, 58.43], [43, 59.43], [43, 59.43], [43, 59.43], [43, 59.43], [43, 59.43], [43, 59.43], [43, 59.43]]\n"
     ]
    },
    {
     "data": {
      "image/png": "[encoded data removed]",
      "text/plain": [
       "<Figure size 360x360 with 1 Axes>"
      ]
     },
     "metadata": {
      "needs_background": "light"
     },
     "output_type": "display_data"
    },
    {
     "name": "stdout",
     "output_type": "stream",
     "text": [
      "Input:  []\n",
      "Preds:  [[49, 50.49], [49, 50.49], [49, 50.49], [47, 53.47], [47, 53.47], [47, 53.47], [47, 53.47], [47, 53.47], [47, 53.47], [47, 53.47], [47, 53.47], [47, 53.47], [47, 53.47], [47, 53.47], [47, 53.47], [47, 53.47], [47, 53.47], [47, 53.47], [47, 53.47], [47, 54.47], [47, 54.47], [47, 54.47], [47, 54.47], [47, 54.47], [47, 54.47], [46, 55.46], [46, 55.46], [46, 55.46], [46, 55.46], [46, 55.46], [46, 55.46], [46, 55.46], [46, 55.46], [46, 55.46], [46, 55.46], [46, 55.46], [46, 55.46], [46, 55.46], [46, 55.46], [46, 55.46], [46, 55.46], [46, 55.46], [46, 55.46], [46, 55.46], [46, 55.46], [46, 55.46], [46, 55.46], [46, 55.46], [46, 55.46], [46, 55.46], [46, 55.46], [46, 55.46], [46, 55.46], [46, 55.46], [46, 55.46], [46, 55.46], [46, 55.46], [46, 55.46], [46, 55.46], [46, 55.46], [46, 55.46], [46, 55.46], [46, 55.46], [46, 55.46], [46, 55.46], [46, 55.46], [46, 55.46], [46, 55.46], [46, 55.46], [46, 55.46], [46, 55.46], [46, 55.46], [46, 55.46], [46, 55.46], [46, 55.46], [46, 55.46], [46, 55.46], [46, 55.46]]\n",
      "Truth:  [[48, 52.48], [48, 52.48], [48, 52.48], [48, 52.48], [48, 52.48], [48, 52.48], [48, 52.48], [48, 52.48], [48, 52.48], [48, 52.48], [48, 53.48], [48, 53.48], [48, 53.48], [48, 53.48], [48, 53.48], [47, 53.47], [47, 53.47], [47, 53.47], [47, 53.47], [47, 53.47], [47, 53.47], [47, 53.47], [47, 54.47], [47, 54.47], [47, 54.47], [47, 54.47], [47, 54.47], [47, 54.47], [47, 54.47], [47, 54.47], [47, 54.47], [46, 54.46], [46, 55.46], [46, 55.46], [46, 55.46], [46, 55.46], [46, 55.46], [46, 55.46], [46, 55.46], [46, 55.46], [46, 55.46], [46, 55.46], [46, 55.46], [46, 56.46], [46, 56.46], [45, 56.45], [45, 56.45], [45, 56.45], [45, 56.45], [45, 56.45], [45, 56.45], [45, 56.45], [45, 57.45], [45, 57.45], [45, 57.45], [45, 57.45], [45, 57.45], [44, 57.44], [44, 57.44], [44, 57.44], [44, 57.44], [44, 57.44], [44, 58.44], [44, 58.44], [44, 58.44], [44, 58.44], [44, 58.44], [44, 58.44], [43, 58.43], [43, 58.43], [43, 58.43], [43, 59.43], [43, 59.43], [43, 59.43], [43, 59.43], [43, 59.43], [43, 59.43], [43, 59.43]]\n"
     ]
    },
    {
     "data": {
      "image/png": "[encoded data removed]",
      "text/plain": [
       "<Figure size 360x360 with 1 Axes>"
      ]
     },
     "metadata": {
      "needs_background": "light"
     },
     "output_type": "display_data"
    },
    {
     "name": "stdout",
     "output_type": "stream",
     "text": [
      "Input:  []\n",
      "Preds:  [[49, 50.49], [49, 50.49], [49, 50.49], [47, 53.47], [47, 53.47], [47, 53.47], [47, 53.47], [47, 53.47], [47, 53.47], [47, 53.47], [47, 53.47], [47, 53.47], [47, 53.47], [47, 53.47], [47, 53.47], [47, 53.47], [47, 53.47], [47, 53.47], [47, 53.47], [47, 54.47], [47, 54.47], [47, 54.47], [47, 54.47], [47, 54.47], [47, 54.47], [46, 55.46], [46, 55.46], [46, 55.46], [46, 55.46], [46, 55.46], [46, 55.46], [46, 55.46], [46, 55.46], [46, 55.46], [46, 55.46], [46, 55.46], [46, 55.46], [46, 55.46], [46, 55.46], [46, 55.46], [46, 55.46], [46, 55.46], [46, 55.46], [46, 55.46], [46, 55.46], [46, 55.46], [46, 55.46], [46, 55.46], [46, 55.46], [46, 55.46], [46, 55.46], [46, 55.46], [46, 55.46], [46, 55.46], [46, 55.46], [46, 55.46], [46, 55.46], [46, 55.46], [46, 55.46], [46, 55.46], [46, 55.46], [46, 55.46], [46, 55.46], [46, 55.46], [46, 55.46], [46, 55.46], [46, 55.46], [46, 55.46], [46, 55.46], [46, 55.46], [46, 55.46], [46, 55.46], [46, 55.46], [46, 55.46], [46, 55.46], [46, 55.46], [46, 55.46], [46, 55.46]]\n",
      "Truth:  [[48, 52.48], [48, 52.48], [48, 52.48], [48, 52.48], [48, 52.48], [48, 52.48], [48, 52.48], [48, 52.48], [48, 52.48], [48, 52.48], [48, 53.48], [48, 53.48], [48, 53.48], [48, 53.48], [48, 53.48], [47, 53.47], [47, 53.47], [47, 53.47], [47, 53.47], [47, 53.47], [47, 53.47], [47, 53.47], [47, 54.47], [47, 54.47], [47, 54.47], [47, 54.47], [47, 54.47], [47, 54.47], [47, 54.47], [47, 54.47], [47, 54.47], [46, 54.46], [46, 55.46], [46, 55.46], [46, 55.46], [46, 55.46], [46, 55.46], [46, 55.46], [46, 55.46], [46, 55.46], [46, 55.46], [46, 55.46], [46, 55.46], [46, 56.46], [46, 56.46], [45, 56.45], [45, 56.45], [45, 56.45], [45, 56.45], [45, 56.45], [45, 56.45], [45, 56.45], [45, 57.45], [45, 57.45], [45, 57.45], [45, 57.45], [45, 57.45], [44, 57.44], [44, 57.44], [44, 57.44], [44, 57.44], [44, 57.44], [44, 58.44], [44, 58.44], [44, 58.44], [44, 58.44], [44, 58.44], [44, 58.44], [43, 58.43], [43, 58.43], [43, 58.43], [43, 59.43], [43, 59.43], [43, 59.43], [43, 59.43], [43, 59.43], [43, 59.43], [43, 59.43]]\n"
     ]
    },
    {
     "data": {
      "image/png": "[encoded data removed]",
      "text/plain": [
       "<Figure size 360x360 with 1 Axes>"
      ]
     },
     "metadata": {
      "needs_background": "light"
     },
     "output_type": "display_data"
    },
    {
     "name": "stdout",
     "output_type": "stream",
     "text": [
      "Input:  []\n",
      "Preds:  [[49, 50.49], [49, 50.49], [49, 50.49], [47, 53.47], [47, 53.47], [47, 53.47], [47, 53.47], [47, 53.47], [47, 53.47], [47, 53.47], [47, 53.47], [47, 53.47], [47, 53.47], [47, 53.47], [47, 53.47], [47, 53.47], [47, 53.47], [47, 53.47], [47, 53.47], [47, 54.47], [47, 54.47], [47, 54.47], [47, 54.47], [47, 54.47], [47, 54.47], [46, 55.46], [46, 55.46], [46, 55.46], [46, 55.46], [46, 55.46], [46, 55.46], [46, 55.46], [46, 55.46], [46, 55.46], [46, 55.46], [46, 55.46], [46, 55.46], [46, 55.46], [46, 55.46], [46, 55.46], [46, 55.46], [46, 55.46], [46, 55.46], [46, 55.46], [46, 55.46], [46, 55.46], [46, 55.46], [46, 55.46], [46, 55.46], [46, 55.46], [46, 55.46], [46, 55.46], [46, 55.46], [46, 55.46], [46, 55.46], [46, 55.46], [46, 55.46], [46, 55.46], [46, 55.46], [46, 55.46], [46, 55.46], [46, 55.46], [46, 55.46], [46, 55.46], [46, 55.46], [46, 55.46], [46, 55.46], [46, 55.46], [46, 55.46], [46, 55.46], [46, 55.46], [46, 55.46], [46, 55.46], [46, 55.46], [46, 55.46], [46, 55.46], [46, 55.46], [46, 55.46]]\n",
      "Truth:  [[48, 52.48], [48, 52.48], [48, 52.48], [48, 52.48], [48, 52.48], [48, 52.48], [48, 52.48], [48, 52.48], [48, 52.48], [48, 52.48], [48, 53.48], [48, 53.48], [48, 53.48], [48, 53.48], [48, 53.48], [47, 53.47], [47, 53.47], [47, 53.47], [47, 53.47], [47, 53.47], [47, 53.47], [47, 53.47], [47, 54.47], [47, 54.47], [47, 54.47], [47, 54.47], [47, 54.47], [47, 54.47], [47, 54.47], [47, 54.47], [47, 54.47], [46, 54.46], [46, 55.46], [46, 55.46], [46, 55.46], [46, 55.46], [46, 55.46], [46, 55.46], [46, 55.46], [46, 55.46], [46, 55.46], [46, 55.46], [46, 55.46], [46, 56.46], [46, 56.46], [45, 56.45], [45, 56.45], [45, 56.45], [45, 56.45], [45, 56.45], [45, 56.45], [45, 56.45], [45, 57.45], [45, 57.45], [45, 57.45], [45, 57.45], [45, 57.45], [44, 57.44], [44, 57.44], [44, 57.44], [44, 57.44], [44, 57.44], [44, 58.44], [44, 58.44], [44, 58.44], [44, 58.44], [44, 58.44], [44, 58.44], [43, 58.43], [43, 58.43], [43, 58.43], [43, 59.43], [43, 59.43], [43, 59.43], [43, 59.43], [43, 59.43], [43, 59.43], [43, 59.43]]\n"
     ]
    },
    {
     "data": {
      "image/png": "[encoded data removed]",
      "text/plain": [
       "<Figure size 360x360 with 1 Axes>"
      ]
     },
     "metadata": {
      "needs_background": "light"
     },
     "output_type": "display_data"
    },
    {
     "name": "stdout",
     "output_type": "stream",
     "text": [
      "Input:  []\n",
      "Preds:  [[42, 47.42], [42, 47.42], [41, 47.41], [41, 47.41], [41, 47.41], [41, 47.41], [40, 46.4], [40, 46.4], [40, 46.4], [39, 46.39], [39, 46.39], [39, 46.39], [39, 46.39], [39, 46.39], [38, 45.38], [38, 45.38], [37, 45.37], [37, 45.37], [37, 45.37], [36, 45.36], [36, 45.36], [36, 45.36], [35, 44.35], [35, 44.35], [35, 44.35], [35, 44.35], [34, 44.34], [34, 44.34], [34, 44.34], [33, 43.33], [33, 43.33], [33, 43.33], [32, 43.32], [32, 43.32], [32, 43.32], [32, 43.32], [32, 43.32], [30, 42.3], [30, 42.3], [30, 42.3], [30, 42.3], [29, 42.29], [28, 41.28], [28, 41.28], [28, 41.28], [28, 41.28], [28, 41.28], [27, 41.27], [27, 41.27], [27, 41.27], [27, 41.27], [25, 40.25], [25, 40.25], [25, 40.25], [25, 40.25], [25, 40.25], [25, 40.25], [24, 39.24], [24, 39.24], [24, 39.24], [23, 39.23], [23, 39.23], [23, 39.23], [23, 39.23], [23, 39.23], [23, 39.23], [21, 38.21], [21, 38.21], [21, 38.21], [21, 38.21], [20, 38.2], [19, 37.19], [19, 37.19], [19, 37.19], [18, 37.18], [18, 37.18], [18, 37.18], [18, 37.18]]\n",
      "Truth:  [[42, 47.42], [42, 47.42], [42, 47.42], [41, 47.41], [41, 47.41], [41, 46.41], [40, 46.4], [40, 46.4], [40, 46.4], [39, 46.39], [39, 46.39], [39, 46.39], [39, 46.39], [38, 45.38], [38, 45.38], [38, 45.38], [37, 45.37], [37, 45.37], [37, 45.37], [36, 45.36], [36, 44.36], [36, 44.36], [35, 44.35], [35, 44.35], [35, 44.35], [34, 44.34], [34, 43.34], [34, 43.34], [33, 43.33], [33, 43.33], [33, 43.33], [32, 43.32], [32, 43.32], [32, 43.32], [31, 42.31], [31, 42.31], [31, 42.31], [30, 42.3], [30, 42.3], [30, 42.3], [29, 42.29], [29, 41.29], [29, 41.29], [28, 41.28], [28, 41.28], [28, 41.28], [28, 41.28], [27, 40.27], [27, 40.27], [27, 40.27], [26, 40.26], [26, 40.26], [26, 40.26], [25, 40.25], [25, 39.25], [25, 39.25], [24, 39.24], [24, 39.24], [24, 39.24], [23, 39.23], [23, 39.23], [23, 39.23], [22, 38.22], [22, 38.22], [22, 38.22], [22, 38.22], [21, 38.21], [21, 38.21], [21, 38.21], [20, 37.2], [20, 37.2], [20, 37.2], [19, 37.19], [19, 37.19], [19, 37.19], [18, 36.18], [18, 36.18], [18, 36.18]]\n"
     ]
    },
    {
     "data": {
      "image/png": "[encoded data removed]",
      "text/plain": [
       "<Figure size 360x360 with 1 Axes>"
      ]
     },
     "metadata": {
      "needs_background": "light"
     },
     "output_type": "display_data"
    },
    {
     "name": "stdout",
     "output_type": "stream",
     "text": [
      "Input:  []\n",
      "Preds:  [[42, 47.42], [42, 47.42], [41, 47.41], [41, 47.41], [41, 47.41], [41, 47.41], [40, 46.4], [40, 46.4], [40, 46.4], [39, 46.39], [39, 46.39], [39, 46.39], [39, 46.39], [39, 46.39], [38, 45.38], [38, 45.38], [37, 45.37], [37, 45.37], [37, 45.37], [36, 45.36], [36, 45.36], [36, 45.36], [35, 44.35], [35, 44.35], [35, 44.35], [35, 44.35], [34, 44.34], [34, 44.34], [34, 44.34], [33, 43.33], [33, 43.33], [33, 43.33], [32, 43.32], [32, 43.32], [32, 43.32], [32, 43.32], [32, 43.32], [30, 42.3], [30, 42.3], [30, 42.3], [30, 42.3], [29, 42.29], [28, 41.28], [28, 41.28], [28, 41.28], [28, 41.28], [28, 41.28], [27, 41.27], [27, 41.27], [27, 41.27], [27, 41.27], [25, 40.25], [25, 40.25], [25, 40.25], [25, 40.25], [25, 40.25], [25, 40.25], [24, 39.24], [24, 39.24], [24, 39.24], [23, 39.23], [23, 39.23], [23, 39.23], [23, 39.23], [23, 39.23], [23, 39.23], [21, 38.21], [21, 38.21], [21, 38.21], [21, 38.21], [20, 38.2], [19, 37.19], [19, 37.19], [19, 37.19], [18, 37.18], [18, 37.18], [18, 37.18], [18, 37.18]]\n",
      "Truth:  [[42, 47.42], [42, 47.42], [42, 47.42], [41, 47.41], [41, 47.41], [41, 46.41], [40, 46.4], [40, 46.4], [40, 46.4], [39, 46.39], [39, 46.39], [39, 46.39], [39, 46.39], [38, 45.38], [38, 45.38], [38, 45.38], [37, 45.37], [37, 45.37], [37, 45.37], [36, 45.36], [36, 44.36], [36, 44.36], [35, 44.35], [35, 44.35], [35, 44.35], [34, 44.34], [34, 43.34], [34, 43.34], [33, 43.33], [33, 43.33], [33, 43.33], [32, 43.32], [32, 43.32], [32, 43.32], [31, 42.31], [31, 42.31], [31, 42.31], [30, 42.3], [30, 42.3], [30, 42.3], [29, 42.29], [29, 41.29], [29, 41.29], [28, 41.28], [28, 41.28], [28, 41.28], [28, 41.28], [27, 40.27], [27, 40.27], [27, 40.27], [26, 40.26], [26, 40.26], [26, 40.26], [25, 40.25], [25, 39.25], [25, 39.25], [24, 39.24], [24, 39.24], [24, 39.24], [23, 39.23], [23, 39.23], [23, 39.23], [22, 38.22], [22, 38.22], [22, 38.22], [22, 38.22], [21, 38.21], [21, 38.21], [21, 38.21], [20, 37.2], [20, 37.2], [20, 37.2], [19, 37.19], [19, 37.19], [19, 37.19], [18, 36.18], [18, 36.18], [18, 36.18]]\n"
     ]
    },
    {
     "data": {
      "image/png": "[encoded data removed]",
      "text/plain": [
       "<Figure size 360x360 with 1 Axes>"
      ]
     },
     "metadata": {
      "needs_background": "light"
     },
     "output_type": "display_data"
    },
    {
     "name": "stdout",
     "output_type": "stream",
     "text": [
      "Input:  []\n",
      "Preds:  [[42, 47.42], [42, 47.42], [41, 47.41], [41, 47.41], [41, 47.41], [41, 47.41], [40, 46.4], [40, 46.4], [40, 46.4], [39, 46.39], [39, 46.39], [39, 46.39], [39, 46.39], [39, 46.39], [38, 45.38], [38, 45.38], [37, 45.37], [37, 45.37], [37, 45.37], [36, 45.36], [36, 45.36], [36, 45.36], [35, 44.35], [35, 44.35], [35, 44.35], [35, 44.35], [34, 44.34], [34, 44.34], [34, 44.34], [33, 43.33], [33, 43.33], [33, 43.33], [32, 43.32], [32, 43.32], [32, 43.32], [32, 43.32], [32, 43.32], [30, 42.3], [30, 42.3], [30, 42.3], [30, 42.3], [29, 42.29], [28, 41.28], [28, 41.28], [28, 41.28], [28, 41.28], [28, 41.28], [27, 41.27], [27, 41.27], [27, 41.27], [27, 41.27], [25, 40.25], [25, 40.25], [25, 40.25], [25, 40.25], [25, 40.25], [25, 40.25], [24, 39.24], [24, 39.24], [24, 39.24], [23, 39.23], [23, 39.23], [23, 39.23], [23, 39.23], [23, 39.23], [23, 39.23], [21, 38.21], [21, 38.21], [21, 38.21], [21, 38.21], [20, 38.2], [19, 37.19], [19, 37.19], [19, 37.19], [18, 37.18], [18, 37.18], [18, 37.18], [18, 37.18]]\n",
      "Truth:  [[42, 47.42], [42, 47.42], [42, 47.42], [41, 47.41], [41, 47.41], [41, 46.41], [40, 46.4], [40, 46.4], [40, 46.4], [39, 46.39], [39, 46.39], [39, 46.39], [39, 46.39], [38, 45.38], [38, 45.38], [38, 45.38], [37, 45.37], [37, 45.37], [37, 45.37], [36, 45.36], [36, 44.36], [36, 44.36], [35, 44.35], [35, 44.35], [35, 44.35], [34, 44.34], [34, 43.34], [34, 43.34], [33, 43.33], [33, 43.33], [33, 43.33], [32, 43.32], [32, 43.32], [32, 43.32], [31, 42.31], [31, 42.31], [31, 42.31], [30, 42.3], [30, 42.3], [30, 42.3], [29, 42.29], [29, 41.29], [29, 41.29], [28, 41.28], [28, 41.28], [28, 41.28], [28, 41.28], [27, 40.27], [27, 40.27], [27, 40.27], [26, 40.26], [26, 40.26], [26, 40.26], [25, 40.25], [25, 39.25], [25, 39.25], [24, 39.24], [24, 39.24], [24, 39.24], [23, 39.23], [23, 39.23], [23, 39.23], [22, 38.22], [22, 38.22], [22, 38.22], [22, 38.22], [21, 38.21], [21, 38.21], [21, 38.21], [20, 37.2], [20, 37.2], [20, 37.2], [19, 37.19], [19, 37.19], [19, 37.19], [18, 36.18], [18, 36.18], [18, 36.18]]\n"
     ]
    },
    {
     "data": {
      "image/png": "[encoded data removed]",
      "text/plain": [
       "<Figure size 360x360 with 1 Axes>"
      ]
     },
     "metadata": {
      "needs_background": "light"
     },
     "output_type": "display_data"
    },
    {
     "name": "stdout",
     "output_type": "stream",
     "text": [
      "Input:  []\n",
      "Preds:  [[42, 47.42], [42, 47.42], [41, 47.41], [41, 47.41], [41, 47.41], [41, 47.41], [40, 46.4], [40, 46.4], [40, 46.4], [39, 46.39], [39, 46.39], [39, 46.39], [39, 46.39], [39, 46.39], [38, 45.38], [38, 45.38], [37, 45.37], [37, 45.37], [37, 45.37], [36, 45.36], [36, 45.36], [36, 45.36], [35, 44.35], [35, 44.35], [35, 44.35], [35, 44.35], [34, 44.34], [34, 44.34], [34, 44.34], [33, 43.33], [33, 43.33], [33, 43.33], [32, 43.32], [32, 43.32], [32, 43.32], [32, 43.32], [32, 43.32], [30, 42.3], [30, 42.3], [30, 42.3], [30, 42.3], [29, 42.29], [28, 41.28], [28, 41.28], [28, 41.28], [28, 41.28], [28, 41.28], [27, 41.27], [27, 41.27], [27, 41.27], [27, 41.27], [25, 40.25], [25, 40.25], [25, 40.25], [25, 40.25], [25, 40.25], [25, 40.25], [24, 39.24], [24, 39.24], [24, 39.24], [23, 39.23], [23, 39.23], [23, 39.23], [23, 39.23], [23, 39.23], [23, 39.23], [21, 38.21], [21, 38.21], [21, 38.21], [21, 38.21], [20, 38.2], [19, 37.19], [19, 37.19], [19, 37.19], [18, 37.18], [18, 37.18], [18, 37.18], [18, 37.18]]\n",
      "Truth:  [[42, 47.42], [42, 47.42], [42, 47.42], [41, 47.41], [41, 47.41], [41, 46.41], [40, 46.4], [40, 46.4], [40, 46.4], [39, 46.39], [39, 46.39], [39, 46.39], [39, 46.39], [38, 45.38], [38, 45.38], [38, 45.38], [37, 45.37], [37, 45.37], [37, 45.37], [36, 45.36], [36, 44.36], [36, 44.36], [35, 44.35], [35, 44.35], [35, 44.35], [34, 44.34], [34, 43.34], [34, 43.34], [33, 43.33], [33, 43.33], [33, 43.33], [32, 43.32], [32, 43.32], [32, 43.32], [31, 42.31], [31, 42.31], [31, 42.31], [30, 42.3], [30, 42.3], [30, 42.3], [29, 42.29], [29, 41.29], [29, 41.29], [28, 41.28], [28, 41.28], [28, 41.28], [28, 41.28], [27, 40.27], [27, 40.27], [27, 40.27], [26, 40.26], [26, 40.26], [26, 40.26], [25, 40.25], [25, 39.25], [25, 39.25], [24, 39.24], [24, 39.24], [24, 39.24], [23, 39.23], [23, 39.23], [23, 39.23], [22, 38.22], [22, 38.22], [22, 38.22], [22, 38.22], [21, 38.21], [21, 38.21], [21, 38.21], [20, 37.2], [20, 37.2], [20, 37.2], [19, 37.19], [19, 37.19], [19, 37.19], [18, 36.18], [18, 36.18], [18, 36.18]]\n"
     ]
    },
    {
     "data": {
      "image/png": "[encoded data removed]",
      "text/plain": [
       "<Figure size 360x360 with 1 Axes>"
      ]
     },
     "metadata": {
      "needs_background": "light"
     },
     "output_type": "display_data"
    },
    {
     "name": "stdout",
     "output_type": "stream",
     "text": [
      "Input:  []\n",
      "Preds:  [[49, 50.49], [49, 50.49], [49, 50.49], [49, 50.49], [49, 50.49], [49, 50.49], [49, 50.49], [49, 50.49], [49, 50.49], [49, 50.49], [49, 50.49], [49, 50.49], [49, 50.49], [49, 50.49], [49, 50.49], [49, 50.49], [49, 50.49], [49, 50.49], [49, 50.49], [49, 50.49], [49, 50.49], [49, 50.49], [49, 50.49], [49, 50.49], [49, 50.49], [49, 50.49], [49, 50.49], [49, 50.49], [49, 50.49], [49, 50.49], [49, 50.49], [49, 50.49], [49, 50.49], [49, 50.49], [49, 50.49], [49, 50.49], [49, 50.49], [49, 50.49], [49, 50.49], [49, 50.49], [49, 50.49], [49, 50.49], [49, 50.49], [49, 50.49], [49, 50.49], [49, 50.49], [49, 50.49], [49, 50.49], [49, 50.49], [49, 50.49], [49, 50.49], [49, 50.49], [49, 50.49], [49, 50.49], [49, 50.49], [49, 50.49], [49, 50.49], [49, 50.49], [49, 50.49], [49, 50.49], [49, 50.49], [49, 50.49], [49, 50.49], [49, 50.49], [49, 50.49], [49, 50.49], [49, 50.49], [49, 50.49], [49, 50.49], [49, 50.49], [49, 50.49], [49, 50.49], [49, 50.49], [49, 50.49], [49, 50.49], [49, 50.49], [49, 50.49], [49, 50.49]]\n",
      "Truth:  [[49, 50.49], [49, 50.49], [49, 50.49], [49, 50.49], [49, 50.49], [49, 50.49], [49, 50.49], [49, 50.49], [49, 50.49], [49, 50.49], [49, 50.49], [49, 50.49], [49, 50.49], [49, 50.49], [49, 50.49], [49, 50.49], [49, 50.49], [49, 50.49], [49, 50.49], [49, 50.49], [49, 50.49], [49, 50.49], [49, 50.49], [49, 50.49], [49, 50.49], [49, 50.49], [49, 50.49], [49, 50.49], [49, 50.49], [49, 50.49], [49, 50.49], [49, 50.49], [49, 50.49], [49, 50.49], [49, 50.49], [49, 50.49], [49, 50.49], [49, 50.49], [49, 50.49], [49, 50.49], [49, 50.49], [49, 50.49], [49, 50.49], [49, 50.49], [49, 50.49], [49, 50.49], [49, 50.49], [49, 50.49], [49, 50.49], [49, 50.49], [49, 50.49], [49, 50.49], [49, 50.49], [49, 50.49], [49, 50.49], [49, 50.49], [49, 50.49], [49, 50.49], [49, 50.49], [49, 50.49], [49, 50.49], [49, 50.49], [49, 50.49], [49, 50.49], [49, 50.49], [49, 50.49], [49, 50.49], [49, 50.49], [49, 50.49], [49, 50.49], [49, 50.49], [49, 50.49], [49, 50.49], [49, 50.49], [49, 50.49], [49, 50.49], [49, 50.49], [49, 50.49]]\n"
     ]
    },
    {
     "data": {
      "image/png": "[encoded data removed]",
      "text/plain": [
       "<Figure size 360x360 with 1 Axes>"
      ]
     },
     "metadata": {
      "needs_background": "light"
     },
     "output_type": "display_data"
    },
    {
     "name": "stdout",
     "output_type": "stream",
     "text": [
      "Input:  []\n",
      "Preds:  [[49, 50.49], [49, 50.49], [49, 50.49], [49, 50.49], [49, 50.49], [49, 50.49], [49, 50.49], [49, 50.49], [49, 50.49], [49, 50.49], [49, 50.49], [49, 50.49], [49, 50.49], [49, 50.49], [49, 50.49], [49, 50.49], [49, 50.49], [49, 50.49], [49, 50.49], [49, 50.49], [49, 50.49], [49, 50.49], [49, 50.49], [49, 50.49], [49, 50.49], [49, 50.49], [49, 50.49], [49, 50.49], [49, 50.49], [49, 50.49], [49, 50.49], [49, 50.49], [49, 50.49], [49, 50.49], [49, 50.49], [49, 50.49], [49, 50.49], [49, 50.49], [49, 50.49], [49, 50.49], [49, 50.49], [49, 50.49], [49, 50.49], [49, 50.49], [49, 50.49], [49, 50.49], [49, 50.49], [49, 50.49], [49, 50.49], [49, 50.49], [49, 50.49], [49, 50.49], [49, 50.49], [49, 50.49], [49, 50.49], [49, 50.49], [49, 50.49], [49, 50.49], [49, 50.49], [49, 50.49], [49, 50.49], [49, 50.49], [49, 50.49], [49, 50.49], [49, 50.49], [49, 50.49], [49, 50.49], [49, 50.49], [49, 50.49], [49, 50.49], [49, 50.49], [49, 50.49], [49, 50.49], [49, 50.49], [49, 50.49], [49, 50.49], [49, 50.49], [49, 50.49]]\n",
      "Truth:  [[49, 50.49], [49, 50.49], [49, 50.49], [49, 50.49], [49, 50.49], [49, 50.49], [49, 50.49], [49, 50.49], [49, 50.49], [49, 50.49], [49, 50.49], [49, 50.49], [49, 50.49], [49, 50.49], [49, 50.49], [49, 50.49], [49, 50.49], [49, 50.49], [49, 50.49], [49, 50.49], [49, 50.49], [49, 50.49], [49, 50.49], [49, 50.49], [49, 50.49], [49, 50.49], [49, 50.49], [49, 50.49], [49, 50.49], [49, 50.49], [49, 50.49], [49, 50.49], [49, 50.49], [49, 50.49], [49, 50.49], [49, 50.49], [49, 50.49], [49, 50.49], [49, 50.49], [49, 50.49], [49, 50.49], [49, 50.49], [49, 50.49], [49, 50.49], [49, 50.49], [49, 50.49], [49, 50.49], [49, 50.49], [49, 50.49], [49, 50.49], [49, 50.49], [49, 50.49], [49, 50.49], [49, 50.49], [49, 50.49], [49, 50.49], [49, 50.49], [49, 50.49], [49, 50.49], [49, 50.49], [49, 50.49], [49, 50.49], [49, 50.49], [49, 50.49], [49, 50.49], [49, 50.49], [49, 50.49], [49, 50.49], [49, 50.49], [49, 50.49], [49, 50.49], [49, 50.49], [49, 50.49], [49, 50.49], [49, 50.49], [49, 50.49], [49, 50.49], [49, 50.49]]\n"
     ]
    },
    {
     "data": {
      "image/png": "[encoded data removed]",
      "text/plain": [
       "<Figure size 360x360 with 1 Axes>"
      ]
     },
     "metadata": {
      "needs_background": "light"
     },
     "output_type": "display_data"
    },
    {
     "name": "stdout",
     "output_type": "stream",
     "text": [
      "Input:  []\n",
      "Preds:  [[49, 50.49], [49, 50.49], [49, 50.49], [49, 50.49], [49, 50.49], [49, 50.49], [49, 50.49], [49, 50.49], [49, 50.49], [49, 50.49], [49, 50.49], [49, 50.49], [49, 50.49], [49, 50.49], [49, 50.49], [49, 50.49], [49, 50.49], [49, 50.49], [49, 50.49], [49, 50.49], [49, 50.49], [49, 50.49], [49, 50.49], [49, 50.49], [49, 50.49], [49, 50.49], [49, 50.49], [49, 50.49], [49, 50.49], [49, 50.49], [49, 50.49], [49, 50.49], [49, 50.49], [49, 50.49], [49, 50.49], [49, 50.49], [49, 50.49], [49, 50.49], [49, 50.49], [49, 50.49], [49, 50.49], [49, 50.49], [49, 50.49], [49, 50.49], [49, 50.49], [49, 50.49], [49, 50.49], [49, 50.49], [49, 50.49], [49, 50.49], [49, 50.49], [49, 50.49], [49, 50.49], [49, 50.49], [49, 50.49], [49, 50.49], [49, 50.49], [49, 50.49], [49, 50.49], [49, 50.49], [49, 50.49], [49, 50.49], [49, 50.49], [49, 50.49], [49, 50.49], [49, 50.49], [49, 50.49], [49, 50.49], [49, 50.49], [49, 50.49], [49, 50.49], [49, 50.49], [49, 50.49], [49, 50.49], [49, 50.49], [49, 50.49], [49, 50.49], [49, 50.49]]\n",
      "Truth:  [[49, 50.49], [49, 50.49], [49, 50.49], [49, 50.49], [49, 50.49], [49, 50.49], [49, 50.49], [49, 50.49], [49, 50.49], [49, 50.49], [49, 50.49], [49, 50.49], [49, 50.49], [49, 50.49], [49, 50.49], [49, 50.49], [49, 50.49], [49, 50.49], [49, 50.49], [49, 50.49], [49, 50.49], [49, 50.49], [49, 50.49], [49, 50.49], [49, 50.49], [49, 50.49], [49, 50.49], [49, 50.49], [49, 50.49], [49, 50.49], [49, 50.49], [49, 50.49], [49, 50.49], [49, 50.49], [49, 50.49], [49, 50.49], [49, 50.49], [49, 50.49], [49, 50.49], [49, 50.49], [49, 50.49], [49, 50.49], [49, 50.49], [49, 50.49], [49, 50.49], [49, 50.49], [49, 50.49], [49, 50.49], [49, 50.49], [49, 50.49], [49, 50.49], [49, 50.49], [49, 50.49], [49, 50.49], [49, 50.49], [49, 50.49], [49, 50.49], [49, 50.49], [49, 50.49], [49, 50.49], [49, 50.49], [49, 50.49], [49, 50.49], [49, 50.49], [49, 50.49], [49, 50.49], [49, 50.49], [49, 50.49], [49, 50.49], [49, 50.49], [49, 50.49], [49, 50.49], [49, 50.49], [49, 50.49], [49, 50.49], [49, 50.49], [49, 50.49], [49, 50.49]]\n"
     ]
    },
    {
     "data": {
      "image/png": "[encoded data removed]",
      "text/plain": [
       "<Figure size 360x360 with 1 Axes>"
      ]
     },
     "metadata": {
      "needs_background": "light"
     },
     "output_type": "display_data"
    },
    {
     "name": "stdout",
     "output_type": "stream",
     "text": [
      "Input:  []\n",
      "Preds:  [[49, 50.49], [49, 50.49], [49, 50.49], [49, 50.49], [49, 50.49], [49, 50.49], [49, 50.49], [49, 50.49], [49, 50.49], [49, 50.49], [49, 50.49], [49, 50.49], [49, 50.49], [49, 50.49], [49, 50.49], [49, 50.49], [49, 50.49], [49, 50.49], [49, 50.49], [49, 50.49], [49, 50.49], [49, 50.49], [49, 50.49], [49, 50.49], [49, 50.49], [49, 50.49], [49, 50.49], [49, 50.49], [49, 50.49], [49, 50.49], [49, 50.49], [49, 50.49], [49, 50.49], [49, 50.49], [49, 50.49], [49, 50.49], [49, 50.49], [49, 50.49], [49, 50.49], [49, 50.49], [49, 50.49], [49, 50.49], [49, 50.49], [49, 50.49], [49, 50.49], [49, 50.49], [49, 50.49], [49, 50.49], [49, 50.49], [49, 50.49], [49, 50.49], [49, 50.49], [49, 50.49], [49, 50.49], [49, 50.49], [49, 50.49], [49, 50.49], [49, 50.49], [49, 50.49], [49, 50.49], [49, 50.49], [49, 50.49], [49, 50.49], [49, 50.49], [49, 50.49], [49, 50.49], [49, 50.49], [49, 50.49], [49, 50.49], [49, 50.49], [49, 50.49], [49, 50.49], [49, 50.49], [49, 50.49], [49, 50.49], [49, 50.49], [49, 50.49], [49, 50.49]]\n",
      "Truth:  [[49, 50.49], [49, 50.49], [49, 50.49], [49, 50.49], [49, 50.49], [49, 50.49], [49, 50.49], [49, 50.49], [49, 50.49], [49, 50.49], [49, 50.49], [49, 50.49], [49, 50.49], [49, 50.49], [49, 50.49], [49, 50.49], [49, 50.49], [49, 50.49], [49, 50.49], [49, 50.49], [49, 50.49], [49, 50.49], [49, 50.49], [49, 50.49], [49, 50.49], [49, 50.49], [49, 50.49], [49, 50.49], [49, 50.49], [49, 50.49], [49, 50.49], [49, 50.49], [49, 50.49], [49, 50.49], [49, 50.49], [49, 50.49], [49, 50.49], [49, 50.49], [49, 50.49], [49, 50.49], [49, 50.49], [49, 50.49], [49, 50.49], [49, 50.49], [49, 50.49], [49, 50.49], [49, 50.49], [49, 50.49], [49, 50.49], [49, 50.49], [49, 50.49], [49, 50.49], [49, 50.49], [49, 50.49], [49, 50.49], [49, 50.49], [49, 50.49], [49, 50.49], [49, 50.49], [49, 50.49], [49, 50.49], [49, 50.49], [49, 50.49], [49, 50.49], [49, 50.49], [49, 50.49], [49, 50.49], [49, 50.49], [49, 50.49], [49, 50.49], [49, 50.49], [49, 50.49], [49, 50.49], [49, 50.49], [49, 50.49], [49, 50.49], [49, 50.49], [49, 50.49]]\n"
     ]
    },
    {
     "data": {
      "image/png": "[encoded data removed]",
      "text/plain": [
       "<Figure size 360x360 with 1 Axes>"
      ]
     },
     "metadata": {
      "needs_background": "light"
     },
     "output_type": "display_data"
    },
    {
     "name": "stdout",
     "output_type": "stream",
     "text": [
      "Input:  []\n",
      "Preds:  [[51, 45.51], [51, 44.51], [51, 44.51], [51, 44.51], [52, 55.52], [52, 55.52], [52, 55.52], [53, 55.53], [53, 55.53], [53, 55.53], [53, 55.53], [53, 55.53], [53, 55.53], [53, 55.53], [53, 55.53], [53, 55.53], [54, 56.54], [54, 56.54], [54, 56.54], [54, 56.54], [54, 56.54], [54, 56.54], [54, 56.54], [54, 56.54], [54, 56.54], [54, 57.54], [54, 57.54], [54, 57.54], [54, 57.54], [54, 57.54], [54, 57.54], [54, 57.54], [54, 57.54], [54, 57.54], [54, 57.54], [55, 58.55], [55, 58.55], [55, 58.55], [55, 58.55], [55, 58.55], [55, 58.55], [55, 58.55], [55, 58.55], [55, 58.55], [55, 58.55], [55, 58.55], [55, 58.55], [56, 59.56], [56, 59.56], [56, 59.56], [56, 59.56], [56, 59.56], [56, 59.56], [57, 60.57], [57, 60.57], [57, 60.57], [57, 60.57], [57, 60.57], [57, 60.57], [57, 60.57], [57, 60.57], [57, 61.57], [57, 61.57], [57, 61.57], [58, 62.58], [58, 62.58], [58, 62.58], [58, 62.58], [58, 62.58], [58, 62.58], [59, 63.59], [59, 63.59], [59, 63.59], [59, 63.59], [59, 63.59], [59, 63.59], [59, 63.59], [59, 63.59]]\n",
      "Truth:  [[51, 53.51], [51, 53.51], [51, 53.51], [51, 53.51], [51, 53.51], [51, 53.51], [51, 53.51], [52, 53.52], [52, 54.52], [52, 54.52], [52, 54.52], [52, 54.52], [52, 54.52], [52, 54.52], [52, 54.52], [52, 54.52], [52, 55.52], [52, 55.52], [52, 55.52], [53, 55.53], [53, 55.53], [53, 55.53], [53, 55.53], [53, 55.53], [53, 55.53], [53, 56.53], [53, 56.53], [53, 56.53], [53, 56.53], [53, 56.53], [54, 56.54], [54, 56.54], [54, 56.54], [54, 57.54], [54, 57.54], [54, 57.54], [54, 57.54], [54, 57.54], [54, 57.54], [54, 57.54], [54, 57.54], [55, 57.55], [55, 58.55], [55, 58.55], [55, 58.55], [55, 58.55], [55, 58.55], [55, 58.55], [55, 58.55], [55, 58.55], [55, 59.55], [56, 59.56], [56, 59.56], [56, 59.56], [56, 59.56], [56, 59.56], [56, 59.56], [56, 59.56], [56, 60.56], [56, 60.56], [56, 60.56], [56, 60.56], [57, 60.57], [57, 60.57], [57, 60.57], [57, 60.57], [57, 61.57], [57, 61.57], [57, 61.57], [57, 61.57], [57, 61.57], [58, 61.58], [58, 61.58], [58, 61.58], [58, 62.58], [58, 62.58], [58, 62.58], [58, 62.58]]\n"
     ]
    },
    {
     "data": {
      "image/png": "[encoded data removed]",
      "text/plain": [
       "<Figure size 360x360 with 1 Axes>"
      ]
     },
     "metadata": {
      "needs_background": "light"
     },
     "output_type": "display_data"
    },
    {
     "name": "stdout",
     "output_type": "stream",
     "text": [
      "Input:  []\n",
      "Preds:  [[51, 45.51], [51, 44.51], [51, 44.51], [51, 44.51], [52, 55.52], [52, 55.52], [52, 55.52], [53, 55.53], [53, 55.53], [53, 55.53], [53, 55.53], [53, 55.53], [53, 55.53], [53, 55.53], [53, 55.53], [53, 55.53], [54, 56.54], [54, 56.54], [54, 56.54], [54, 56.54], [54, 56.54], [54, 56.54], [54, 56.54], [54, 56.54], [54, 56.54], [54, 57.54], [54, 57.54], [54, 57.54], [54, 57.54], [54, 57.54], [54, 57.54], [54, 57.54], [54, 57.54], [54, 57.54], [54, 57.54], [55, 58.55], [55, 58.55], [55, 58.55], [55, 58.55], [55, 58.55], [55, 58.55], [55, 58.55], [55, 58.55], [55, 58.55], [55, 58.55], [55, 58.55], [55, 58.55], [56, 59.56], [56, 59.56], [56, 59.56], [56, 59.56], [56, 59.56], [56, 59.56], [57, 60.57], [57, 60.57], [57, 60.57], [57, 60.57], [57, 60.57], [57, 60.57], [57, 60.57], [57, 60.57], [57, 61.57], [57, 61.57], [57, 61.57], [58, 62.58], [58, 62.58], [58, 62.58], [58, 62.58], [58, 62.58], [58, 62.58], [59, 63.59], [59, 63.59], [59, 63.59], [59, 63.59], [59, 63.59], [59, 63.59], [59, 63.59], [59, 63.59]]\n",
      "Truth:  [[51, 53.51], [51, 53.51], [51, 53.51], [51, 53.51], [51, 53.51], [51, 53.51], [51, 53.51], [52, 53.52], [52, 54.52], [52, 54.52], [52, 54.52], [52, 54.52], [52, 54.52], [52, 54.52], [52, 54.52], [52, 54.52], [52, 55.52], [52, 55.52], [52, 55.52], [53, 55.53], [53, 55.53], [53, 55.53], [53, 55.53], [53, 55.53], [53, 55.53], [53, 56.53], [53, 56.53], [53, 56.53], [53, 56.53], [53, 56.53], [54, 56.54], [54, 56.54], [54, 56.54], [54, 57.54], [54, 57.54], [54, 57.54], [54, 57.54], [54, 57.54], [54, 57.54], [54, 57.54], [54, 57.54], [55, 57.55], [55, 58.55], [55, 58.55], [55, 58.55], [55, 58.55], [55, 58.55], [55, 58.55], [55, 58.55], [55, 58.55], [55, 59.55], [56, 59.56], [56, 59.56], [56, 59.56], [56, 59.56], [56, 59.56], [56, 59.56], [56, 59.56], [56, 60.56], [56, 60.56], [56, 60.56], [56, 60.56], [57, 60.57], [57, 60.57], [57, 60.57], [57, 60.57], [57, 61.57], [57, 61.57], [57, 61.57], [57, 61.57], [57, 61.57], [58, 61.58], [58, 61.58], [58, 61.58], [58, 62.58], [58, 62.58], [58, 62.58], [58, 62.58]]\n"
     ]
    },
    {
     "data": {
      "image/png": "[encoded data removed]",
      "text/plain": [
       "<Figure size 360x360 with 1 Axes>"
      ]
     },
     "metadata": {
      "needs_background": "light"
     },
     "output_type": "display_data"
    },
    {
     "name": "stdout",
     "output_type": "stream",
     "text": [
      "Input:  []\n",
      "Preds:  [[51, 45.51], [51, 44.51], [51, 44.51], [51, 44.51], [52, 55.52], [52, 55.52], [52, 55.52], [53, 55.53], [53, 55.53], [53, 55.53], [53, 55.53], [53, 55.53], [53, 55.53], [53, 55.53], [53, 55.53], [53, 55.53], [54, 56.54], [54, 56.54], [54, 56.54], [54, 56.54], [54, 56.54], [54, 56.54], [54, 56.54], [54, 56.54], [54, 56.54], [54, 57.54], [54, 57.54], [54, 57.54], [54, 57.54], [54, 57.54], [54, 57.54], [54, 57.54], [54, 57.54], [54, 57.54], [54, 57.54], [55, 58.55], [55, 58.55], [55, 58.55], [55, 58.55], [55, 58.55], [55, 58.55], [55, 58.55], [55, 58.55], [55, 58.55], [55, 58.55], [55, 58.55], [55, 58.55], [56, 59.56], [56, 59.56], [56, 59.56], [56, 59.56], [56, 59.56], [56, 59.56], [57, 60.57], [57, 60.57], [57, 60.57], [57, 60.57], [57, 60.57], [57, 60.57], [57, 60.57], [57, 60.57], [57, 61.57], [57, 61.57], [57, 61.57], [58, 62.58], [58, 62.58], [58, 62.58], [58, 62.58], [58, 62.58], [58, 62.58], [59, 63.59], [59, 63.59], [59, 63.59], [59, 63.59], [59, 63.59], [59, 63.59], [59, 63.59], [59, 63.59]]\n",
      "Truth:  [[51, 53.51], [51, 53.51], [51, 53.51], [51, 53.51], [51, 53.51], [51, 53.51], [51, 53.51], [52, 53.52], [52, 54.52], [52, 54.52], [52, 54.52], [52, 54.52], [52, 54.52], [52, 54.52], [52, 54.52], [52, 54.52], [52, 55.52], [52, 55.52], [52, 55.52], [53, 55.53], [53, 55.53], [53, 55.53], [53, 55.53], [53, 55.53], [53, 55.53], [53, 56.53], [53, 56.53], [53, 56.53], [53, 56.53], [53, 56.53], [54, 56.54], [54, 56.54], [54, 56.54], [54, 57.54], [54, 57.54], [54, 57.54], [54, 57.54], [54, 57.54], [54, 57.54], [54, 57.54], [54, 57.54], [55, 57.55], [55, 58.55], [55, 58.55], [55, 58.55], [55, 58.55], [55, 58.55], [55, 58.55], [55, 58.55], [55, 58.55], [55, 59.55], [56, 59.56], [56, 59.56], [56, 59.56], [56, 59.56], [56, 59.56], [56, 59.56], [56, 59.56], [56, 60.56], [56, 60.56], [56, 60.56], [56, 60.56], [57, 60.57], [57, 60.57], [57, 60.57], [57, 60.57], [57, 61.57], [57, 61.57], [57, 61.57], [57, 61.57], [57, 61.57], [58, 61.58], [58, 61.58], [58, 61.58], [58, 62.58], [58, 62.58], [58, 62.58], [58, 62.58]]\n"
     ]
    },
    {
     "data": {
      "image/png": "[encoded data removed]",
      "text/plain": [
       "<Figure size 360x360 with 1 Axes>"
      ]
     },
     "metadata": {
      "needs_background": "light"
     },
     "output_type": "display_data"
    },
    {
     "name": "stdout",
     "output_type": "stream",
     "text": [
      "Input:  []\n",
      "Preds:  [[51, 45.51], [51, 44.51], [51, 44.51], [51, 44.51], [52, 55.52], [52, 55.52], [52, 55.52], [53, 55.53], [53, 55.53], [53, 55.53], [53, 55.53], [53, 55.53], [53, 55.53], [53, 55.53], [53, 55.53], [53, 55.53], [54, 56.54], [54, 56.54], [54, 56.54], [54, 56.54], [54, 56.54], [54, 56.54], [54, 56.54], [54, 56.54], [54, 56.54], [54, 57.54], [54, 57.54], [54, 57.54], [54, 57.54], [54, 57.54], [54, 57.54], [54, 57.54], [54, 57.54], [54, 57.54], [54, 57.54], [55, 58.55], [55, 58.55], [55, 58.55], [55, 58.55], [55, 58.55], [55, 58.55], [55, 58.55], [55, 58.55], [55, 58.55], [55, 58.55], [55, 58.55], [55, 58.55], [56, 59.56], [56, 59.56], [56, 59.56], [56, 59.56], [56, 59.56], [56, 59.56], [57, 60.57], [57, 60.57], [57, 60.57], [57, 60.57], [57, 60.57], [57, 60.57], [57, 60.57], [57, 60.57], [57, 61.57], [57, 61.57], [57, 61.57], [58, 62.58], [58, 62.58], [58, 62.58], [58, 62.58], [58, 62.58], [58, 62.58], [59, 63.59], [59, 63.59], [59, 63.59], [59, 63.59], [59, 63.59], [59, 63.59], [59, 63.59], [59, 63.59]]\n",
      "Truth:  [[51, 53.51], [51, 53.51], [51, 53.51], [51, 53.51], [51, 53.51], [51, 53.51], [51, 53.51], [52, 53.52], [52, 54.52], [52, 54.52], [52, 54.52], [52, 54.52], [52, 54.52], [52, 54.52], [52, 54.52], [52, 54.52], [52, 55.52], [52, 55.52], [52, 55.52], [53, 55.53], [53, 55.53], [53, 55.53], [53, 55.53], [53, 55.53], [53, 55.53], [53, 56.53], [53, 56.53], [53, 56.53], [53, 56.53], [53, 56.53], [54, 56.54], [54, 56.54], [54, 56.54], [54, 57.54], [54, 57.54], [54, 57.54], [54, 57.54], [54, 57.54], [54, 57.54], [54, 57.54], [54, 57.54], [55, 57.55], [55, 58.55], [55, 58.55], [55, 58.55], [55, 58.55], [55, 58.55], [55, 58.55], [55, 58.55], [55, 58.55], [55, 59.55], [56, 59.56], [56, 59.56], [56, 59.56], [56, 59.56], [56, 59.56], [56, 59.56], [56, 59.56], [56, 60.56], [56, 60.56], [56, 60.56], [56, 60.56], [57, 60.57], [57, 60.57], [57, 60.57], [57, 60.57], [57, 61.57], [57, 61.57], [57, 61.57], [57, 61.57], [57, 61.57], [58, 61.58], [58, 61.58], [58, 61.58], [58, 62.58], [58, 62.58], [58, 62.58], [58, 62.58]]\n"
     ]
    },
    {
     "data": {
      "image/png": "[encoded data removed]",
      "text/plain": [
       "<Figure size 360x360 with 1 Axes>"
      ]
     },
     "metadata": {
      "needs_background": "light"
     },
     "output_type": "display_data"
    },
    {
     "name": "stdout",
     "output_type": "stream",
     "text": [
      "Input:  []\n",
      "Preds:  [[58, 54.58], [58, 54.58], [58, 54.58], [58, 54.58], [58, 54.58], [59, 54.59], [59, 54.59], [59, 54.59], [60, 55.6], [60, 55.6], [60, 55.6], [61, 55.61], [61, 55.61], [61, 55.61], [62, 56.62], [62, 56.62], [63, 56.63], [63, 56.63], [63, 56.63], [64, 56.64], [64, 56.64], [65, 57.65], [65, 57.65], [65, 57.65], [65, 57.65], [66, 57.66], [66, 57.66], [67, 58.67], [67, 58.67], [67, 58.67], [68, 58.68], [68, 58.68], [68, 58.68], [68, 58.68], [69, 59.69], [70, 59.7], [70, 59.7], [70, 59.7], [70, 59.7], [71, 59.71], [71, 59.71], [72, 60.72], [72, 60.72], [73, 60.73], [73, 60.73], [73, 60.73], [73, 60.73], [74, 61.74], [75, 61.75], [75, 61.75], [75, 61.75], [75, 61.75], [75, 61.75], [77, 62.77], [77, 62.77], [77, 62.77], [77, 62.77], [77, 62.77], [78, 62.78], [78, 62.78], [79, 63.79], [79, 63.79], [80, 63.8], [80, 63.8], [80, 63.8], [80, 63.8], [81, 64.81], [82, 64.82], [82, 64.82], [82, 64.82], [82, 64.82], [82, 64.82], [84, 65.84], [84, 65.84], [84, 65.84], [84, 65.84], [84, 65.84], [84, 65.84]]\n",
      "Truth:  [[57, 53.57], [57, 53.57], [57, 54.57], [58, 54.58], [58, 54.58], [59, 54.59], [59, 54.59], [59, 54.59], [60, 55.6], [60, 55.6], [60, 55.6], [61, 55.61], [61, 55.61], [62, 55.62], [62, 55.62], [62, 56.62], [63, 56.63], [63, 56.63], [63, 56.63], [64, 56.64], [64, 56.64], [65, 56.65], [65, 57.65], [65, 57.65], [66, 57.66], [66, 57.66], [67, 57.67], [67, 58.67], [67, 58.67], [68, 58.68], [68, 58.68], [68, 58.68], [69, 58.69], [69, 58.69], [70, 59.7], [70, 59.7], [70, 59.7], [71, 59.71], [71, 59.71], [71, 59.71], [72, 60.72], [72, 60.72], [73, 60.73], [73, 60.73], [73, 60.73], [74, 60.74], [74, 61.74], [75, 61.75], [75, 61.75], [75, 61.75], [76, 61.76], [76, 61.76], [76, 61.76], [77, 62.77], [77, 62.77], [78, 62.78], [78, 62.78], [78, 62.78], [79, 62.79], [79, 63.79], [79, 63.79], [80, 63.8], [80, 63.8], [81, 63.81], [81, 63.81], [81, 64.81], [82, 64.82], [82, 64.82], [83, 64.83], [83, 64.83], [84, 65.84], [84, 65.84], [84, 65.84], [85, 65.85], [85, 65.85], [86, 65.86], [86, 66.86], [86, 66.86]]\n"
     ]
    },
    {
     "data": {
      "image/png": "[encoded data removed]",
      "text/plain": [
       "<Figure size 360x360 with 1 Axes>"
      ]
     },
     "metadata": {
      "needs_background": "light"
     },
     "output_type": "display_data"
    },
    {
     "name": "stdout",
     "output_type": "stream",
     "text": [
      "Input:  []\n",
      "Preds:  [[58, 54.58], [58, 54.58], [58, 54.58], [58, 54.58], [58, 54.58], [59, 54.59], [59, 54.59], [59, 54.59], [60, 55.6], [60, 55.6], [60, 55.6], [61, 55.61], [61, 55.61], [61, 55.61], [62, 56.62], [62, 56.62], [63, 56.63], [63, 56.63], [63, 56.63], [64, 56.64], [64, 56.64], [65, 57.65], [65, 57.65], [65, 57.65], [65, 57.65], [66, 57.66], [66, 57.66], [67, 58.67], [67, 58.67], [67, 58.67], [68, 58.68], [68, 58.68], [68, 58.68], [68, 58.68], [69, 59.69], [70, 59.7], [70, 59.7], [70, 59.7], [70, 59.7], [71, 59.71], [71, 59.71], [72, 60.72], [72, 60.72], [73, 60.73], [73, 60.73], [73, 60.73], [73, 60.73], [74, 61.74], [75, 61.75], [75, 61.75], [75, 61.75], [75, 61.75], [75, 61.75], [77, 62.77], [77, 62.77], [77, 62.77], [77, 62.77], [77, 62.77], [78, 62.78], [78, 62.78], [79, 63.79], [79, 63.79], [80, 63.8], [80, 63.8], [80, 63.8], [80, 63.8], [81, 64.81], [82, 64.82], [82, 64.82], [82, 64.82], [82, 64.82], [82, 64.82], [84, 65.84], [84, 65.84], [84, 65.84], [84, 65.84], [84, 65.84], [84, 65.84]]\n",
      "Truth:  [[57, 53.57], [57, 53.57], [57, 54.57], [58, 54.58], [58, 54.58], [59, 54.59], [59, 54.59], [59, 54.59], [60, 55.6], [60, 55.6], [60, 55.6], [61, 55.61], [61, 55.61], [62, 55.62], [62, 55.62], [62, 56.62], [63, 56.63], [63, 56.63], [63, 56.63], [64, 56.64], [64, 56.64], [65, 56.65], [65, 57.65], [65, 57.65], [66, 57.66], [66, 57.66], [67, 57.67], [67, 58.67], [67, 58.67], [68, 58.68], [68, 58.68], [68, 58.68], [69, 58.69], [69, 58.69], [70, 59.7], [70, 59.7], [70, 59.7], [71, 59.71], [71, 59.71], [71, 59.71], [72, 60.72], [72, 60.72], [73, 60.73], [73, 60.73], [73, 60.73], [74, 60.74], [74, 61.74], [75, 61.75], [75, 61.75], [75, 61.75], [76, 61.76], [76, 61.76], [76, 61.76], [77, 62.77], [77, 62.77], [78, 62.78], [78, 62.78], [78, 62.78], [79, 62.79], [79, 63.79], [79, 63.79], [80, 63.8], [80, 63.8], [81, 63.81], [81, 63.81], [81, 64.81], [82, 64.82], [82, 64.82], [83, 64.83], [83, 64.83], [84, 65.84], [84, 65.84], [84, 65.84], [85, 65.85], [85, 65.85], [86, 65.86], [86, 66.86], [86, 66.86]]\n"
     ]
    },
    {
     "data": {
      "image/png": "[encoded data removed]",
      "text/plain": [
       "<Figure size 360x360 with 1 Axes>"
      ]
     },
     "metadata": {
      "needs_background": "light"
     },
     "output_type": "display_data"
    },
    {
     "name": "stdout",
     "output_type": "stream",
     "text": [
      "Input:  []\n",
      "Preds:  [[58, 54.58], [58, 54.58], [58, 54.58], [58, 54.58], [58, 54.58], [59, 54.59], [59, 54.59], [59, 54.59], [60, 55.6], [60, 55.6], [60, 55.6], [61, 55.61], [61, 55.61], [61, 55.61], [62, 56.62], [62, 56.62], [63, 56.63], [63, 56.63], [63, 56.63], [64, 56.64], [64, 56.64], [65, 57.65], [65, 57.65], [65, 57.65], [65, 57.65], [66, 57.66], [66, 57.66], [67, 58.67], [67, 58.67], [67, 58.67], [68, 58.68], [68, 58.68], [68, 58.68], [68, 58.68], [69, 59.69], [70, 59.7], [70, 59.7], [70, 59.7], [70, 59.7], [71, 59.71], [71, 59.71], [72, 60.72], [72, 60.72], [73, 60.73], [73, 60.73], [73, 60.73], [73, 60.73], [74, 61.74], [75, 61.75], [75, 61.75], [75, 61.75], [75, 61.75], [75, 61.75], [77, 62.77], [77, 62.77], [77, 62.77], [77, 62.77], [77, 62.77], [78, 62.78], [78, 62.78], [79, 63.79], [79, 63.79], [80, 63.8], [80, 63.8], [80, 63.8], [80, 63.8], [81, 64.81], [82, 64.82], [82, 64.82], [82, 64.82], [82, 64.82], [82, 64.82], [84, 65.84], [84, 65.84], [84, 65.84], [84, 65.84], [84, 65.84], [84, 65.84]]\n",
      "Truth:  [[57, 53.57], [57, 53.57], [57, 54.57], [58, 54.58], [58, 54.58], [59, 54.59], [59, 54.59], [59, 54.59], [60, 55.6], [60, 55.6], [60, 55.6], [61, 55.61], [61, 55.61], [62, 55.62], [62, 55.62], [62, 56.62], [63, 56.63], [63, 56.63], [63, 56.63], [64, 56.64], [64, 56.64], [65, 56.65], [65, 57.65], [65, 57.65], [66, 57.66], [66, 57.66], [67, 57.67], [67, 58.67], [67, 58.67], [68, 58.68], [68, 58.68], [68, 58.68], [69, 58.69], [69, 58.69], [70, 59.7], [70, 59.7], [70, 59.7], [71, 59.71], [71, 59.71], [71, 59.71], [72, 60.72], [72, 60.72], [73, 60.73], [73, 60.73], [73, 60.73], [74, 60.74], [74, 61.74], [75, 61.75], [75, 61.75], [75, 61.75], [76, 61.76], [76, 61.76], [76, 61.76], [77, 62.77], [77, 62.77], [78, 62.78], [78, 62.78], [78, 62.78], [79, 62.79], [79, 63.79], [79, 63.79], [80, 63.8], [80, 63.8], [81, 63.81], [81, 63.81], [81, 64.81], [82, 64.82], [82, 64.82], [83, 64.83], [83, 64.83], [84, 65.84], [84, 65.84], [84, 65.84], [85, 65.85], [85, 65.85], [86, 65.86], [86, 66.86], [86, 66.86]]\n"
     ]
    },
    {
     "ename": "KeyboardInterrupt",
     "evalue": "",
     "output_type": "error",
     "traceback": [
      "\u001b[1;31m---------------------------------------------------------------------------\u001b[0m",
      "\u001b[1;31mKeyboardInterrupt\u001b[0m                         Traceback (most recent call last)",
      "\u001b[1;32m<ipython-input-41-8847d1c9d66d>\u001b[0m in \u001b[0;36m<module>\u001b[1;34m\u001b[0m\n\u001b[1;32m----> 1\u001b[1;33m \u001b[0mvis_trajectory_scatter\u001b[0m\u001b[1;33m(\u001b[0m\u001b[0minputs_list\u001b[0m\u001b[1;33m,\u001b[0m \u001b[0mtarget_list\u001b[0m\u001b[1;33m,\u001b[0m \u001b[0mpreds_list\u001b[0m\u001b[1;33m)\u001b[0m\u001b[1;33m\u001b[0m\u001b[1;33m\u001b[0m\u001b[0m\n\u001b[0m",
      "\u001b[1;32m<ipython-input-40-e76f96e9cc0b>\u001b[0m in \u001b[0;36mvis_trajectory_scatter\u001b[1;34m(input_list, target_list, preds_list, lag_time)\u001b[0m\n\u001b[0;32m     43\u001b[0m     \u001b[0mplt\u001b[0m\u001b[1;33m.\u001b[0m\u001b[0mylim\u001b[0m\u001b[1;33m(\u001b[0m\u001b[1;36m0\u001b[0m\u001b[1;33m,\u001b[0m \u001b[1;36m100\u001b[0m\u001b[1;33m)\u001b[0m\u001b[1;33m\u001b[0m\u001b[1;33m\u001b[0m\u001b[0m\n\u001b[0;32m     44\u001b[0m \u001b[1;33m\u001b[0m\u001b[0m\n\u001b[1;32m---> 45\u001b[1;33m     \u001b[0mplt\u001b[0m\u001b[1;33m.\u001b[0m\u001b[0mshow\u001b[0m\u001b[1;33m(\u001b[0m\u001b[1;33m)\u001b[0m\u001b[1;33m\u001b[0m\u001b[1;33m\u001b[0m\u001b[0m\n\u001b[0m\u001b[0;32m     46\u001b[0m     \u001b[0mprint\u001b[0m\u001b[1;33m(\u001b[0m\u001b[1;34m\"Input: \"\u001b[0m\u001b[1;33m,\u001b[0m \u001b[0mxy_inputs\u001b[0m\u001b[1;33m)\u001b[0m\u001b[1;33m\u001b[0m\u001b[1;33m\u001b[0m\u001b[0m\n\u001b[0;32m     47\u001b[0m     \u001b[0mprint\u001b[0m\u001b[1;33m(\u001b[0m\u001b[1;34m\"Preds: \"\u001b[0m\u001b[1;33m,\u001b[0m \u001b[0mxy_preds\u001b[0m\u001b[1;33m)\u001b[0m\u001b[1;33m\u001b[0m\u001b[1;33m\u001b[0m\u001b[0m\n",
      "\u001b[1;32mc:\\users\\dnybe\\anaconda3\\envs\\tf_gpu\\lib\\site-packages\\matplotlib\\pyplot.py\u001b[0m in \u001b[0;36mshow\u001b[1;34m(*args, **kwargs)\u001b[0m\n\u001b[0;32m    351\u001b[0m     \"\"\"\n\u001b[0;32m    352\u001b[0m     \u001b[0m_warn_if_gui_out_of_main_thread\u001b[0m\u001b[1;33m(\u001b[0m\u001b[1;33m)\u001b[0m\u001b[1;33m\u001b[0m\u001b[1;33m\u001b[0m\u001b[0m\n\u001b[1;32m--> 353\u001b[1;33m     \u001b[1;32mreturn\u001b[0m \u001b[0m_backend_mod\u001b[0m\u001b[1;33m.\u001b[0m\u001b[0mshow\u001b[0m\u001b[1;33m(\u001b[0m\u001b[1;33m*\u001b[0m\u001b[0margs\u001b[0m\u001b[1;33m,\u001b[0m \u001b[1;33m**\u001b[0m\u001b[0mkwargs\u001b[0m\u001b[1;33m)\u001b[0m\u001b[1;33m\u001b[0m\u001b[1;33m\u001b[0m\u001b[0m\n\u001b[0m\u001b[0;32m    354\u001b[0m \u001b[1;33m\u001b[0m\u001b[0m\n\u001b[0;32m    355\u001b[0m \u001b[1;33m\u001b[0m\u001b[0m\n",
      "\u001b[1;32mc:\\users\\dnybe\\anaconda3\\envs\\tf_gpu\\lib\\site-packages\\ipykernel\\pylab\\backend_inline.py\u001b[0m in \u001b[0;36mshow\u001b[1;34m(close, block)\u001b[0m\n\u001b[0;32m     41\u001b[0m             display(\n\u001b[0;32m     42\u001b[0m                 \u001b[0mfigure_manager\u001b[0m\u001b[1;33m.\u001b[0m\u001b[0mcanvas\u001b[0m\u001b[1;33m.\u001b[0m\u001b[0mfigure\u001b[0m\u001b[1;33m,\u001b[0m\u001b[1;33m\u001b[0m\u001b[1;33m\u001b[0m\u001b[0m\n\u001b[1;32m---> 43\u001b[1;33m                 \u001b[0mmetadata\u001b[0m\u001b[1;33m=\u001b[0m\u001b[0m_fetch_figure_metadata\u001b[0m\u001b[1;33m(\u001b[0m\u001b[0mfigure_manager\u001b[0m\u001b[1;33m.\u001b[0m\u001b[0mcanvas\u001b[0m\u001b[1;33m.\u001b[0m\u001b[0mfigure\u001b[0m\u001b[1;33m)\u001b[0m\u001b[1;33m\u001b[0m\u001b[1;33m\u001b[0m\u001b[0m\n\u001b[0m\u001b[0;32m     44\u001b[0m             )\n\u001b[0;32m     45\u001b[0m     \u001b[1;32mfinally\u001b[0m\u001b[1;33m:\u001b[0m\u001b[1;33m\u001b[0m\u001b[1;33m\u001b[0m\u001b[0m\n",
      "\u001b[1;32mc:\\users\\dnybe\\anaconda3\\envs\\tf_gpu\\lib\\site-packages\\IPython\\core\\display.py\u001b[0m in \u001b[0;36mdisplay\u001b[1;34m(include, exclude, metadata, transient, display_id, *objs, **kwargs)\u001b[0m\n\u001b[0;32m    311\u001b[0m             \u001b[0mpublish_display_data\u001b[0m\u001b[1;33m(\u001b[0m\u001b[0mdata\u001b[0m\u001b[1;33m=\u001b[0m\u001b[0mobj\u001b[0m\u001b[1;33m,\u001b[0m \u001b[0mmetadata\u001b[0m\u001b[1;33m=\u001b[0m\u001b[0mmetadata\u001b[0m\u001b[1;33m,\u001b[0m \u001b[1;33m**\u001b[0m\u001b[0mkwargs\u001b[0m\u001b[1;33m)\u001b[0m\u001b[1;33m\u001b[0m\u001b[1;33m\u001b[0m\u001b[0m\n\u001b[0;32m    312\u001b[0m         \u001b[1;32melse\u001b[0m\u001b[1;33m:\u001b[0m\u001b[1;33m\u001b[0m\u001b[1;33m\u001b[0m\u001b[0m\n\u001b[1;32m--> 313\u001b[1;33m             \u001b[0mformat_dict\u001b[0m\u001b[1;33m,\u001b[0m \u001b[0mmd_dict\u001b[0m \u001b[1;33m=\u001b[0m \u001b[0mformat\u001b[0m\u001b[1;33m(\u001b[0m\u001b[0mobj\u001b[0m\u001b[1;33m,\u001b[0m \u001b[0minclude\u001b[0m\u001b[1;33m=\u001b[0m\u001b[0minclude\u001b[0m\u001b[1;33m,\u001b[0m \u001b[0mexclude\u001b[0m\u001b[1;33m=\u001b[0m\u001b[0mexclude\u001b[0m\u001b[1;33m)\u001b[0m\u001b[1;33m\u001b[0m\u001b[1;33m\u001b[0m\u001b[0m\n\u001b[0m\u001b[0;32m    314\u001b[0m             \u001b[1;32mif\u001b[0m \u001b[1;32mnot\u001b[0m \u001b[0mformat_dict\u001b[0m\u001b[1;33m:\u001b[0m\u001b[1;33m\u001b[0m\u001b[1;33m\u001b[0m\u001b[0m\n\u001b[0;32m    315\u001b[0m                 \u001b[1;31m# nothing to display (e.g. _ipython_display_ took over)\u001b[0m\u001b[1;33m\u001b[0m\u001b[1;33m\u001b[0m\u001b[1;33m\u001b[0m\u001b[0m\n",
      "\u001b[1;32mc:\\users\\dnybe\\anaconda3\\envs\\tf_gpu\\lib\\site-packages\\IPython\\core\\formatters.py\u001b[0m in \u001b[0;36mformat\u001b[1;34m(self, obj, include, exclude)\u001b[0m\n\u001b[0;32m    178\u001b[0m             \u001b[0mmd\u001b[0m \u001b[1;33m=\u001b[0m \u001b[1;32mNone\u001b[0m\u001b[1;33m\u001b[0m\u001b[1;33m\u001b[0m\u001b[0m\n\u001b[0;32m    179\u001b[0m             \u001b[1;32mtry\u001b[0m\u001b[1;33m:\u001b[0m\u001b[1;33m\u001b[0m\u001b[1;33m\u001b[0m\u001b[0m\n\u001b[1;32m--> 180\u001b[1;33m                 \u001b[0mdata\u001b[0m \u001b[1;33m=\u001b[0m \u001b[0mformatter\u001b[0m\u001b[1;33m(\u001b[0m\u001b[0mobj\u001b[0m\u001b[1;33m)\u001b[0m\u001b[1;33m\u001b[0m\u001b[1;33m\u001b[0m\u001b[0m\n\u001b[0m\u001b[0;32m    181\u001b[0m             \u001b[1;32mexcept\u001b[0m\u001b[1;33m:\u001b[0m\u001b[1;33m\u001b[0m\u001b[1;33m\u001b[0m\u001b[0m\n\u001b[0;32m    182\u001b[0m                 \u001b[1;31m# FIXME: log the exception\u001b[0m\u001b[1;33m\u001b[0m\u001b[1;33m\u001b[0m\u001b[1;33m\u001b[0m\u001b[0m\n",
      "\u001b[1;32m<decorator-gen-2>\u001b[0m in \u001b[0;36m__call__\u001b[1;34m(self, obj)\u001b[0m\n",
      "\u001b[1;32mc:\\users\\dnybe\\anaconda3\\envs\\tf_gpu\\lib\\site-packages\\IPython\\core\\formatters.py\u001b[0m in \u001b[0;36mcatch_format_error\u001b[1;34m(method, self, *args, **kwargs)\u001b[0m\n\u001b[0;32m    222\u001b[0m     \u001b[1;34m\"\"\"show traceback on failed format call\"\"\"\u001b[0m\u001b[1;33m\u001b[0m\u001b[1;33m\u001b[0m\u001b[0m\n\u001b[0;32m    223\u001b[0m     \u001b[1;32mtry\u001b[0m\u001b[1;33m:\u001b[0m\u001b[1;33m\u001b[0m\u001b[1;33m\u001b[0m\u001b[0m\n\u001b[1;32m--> 224\u001b[1;33m         \u001b[0mr\u001b[0m \u001b[1;33m=\u001b[0m \u001b[0mmethod\u001b[0m\u001b[1;33m(\u001b[0m\u001b[0mself\u001b[0m\u001b[1;33m,\u001b[0m \u001b[1;33m*\u001b[0m\u001b[0margs\u001b[0m\u001b[1;33m,\u001b[0m \u001b[1;33m**\u001b[0m\u001b[0mkwargs\u001b[0m\u001b[1;33m)\u001b[0m\u001b[1;33m\u001b[0m\u001b[1;33m\u001b[0m\u001b[0m\n\u001b[0m\u001b[0;32m    225\u001b[0m     \u001b[1;32mexcept\u001b[0m \u001b[0mNotImplementedError\u001b[0m\u001b[1;33m:\u001b[0m\u001b[1;33m\u001b[0m\u001b[1;33m\u001b[0m\u001b[0m\n\u001b[0;32m    226\u001b[0m         \u001b[1;31m# don't warn on NotImplementedErrors\u001b[0m\u001b[1;33m\u001b[0m\u001b[1;33m\u001b[0m\u001b[1;33m\u001b[0m\u001b[0m\n",
      "\u001b[1;32mc:\\users\\dnybe\\anaconda3\\envs\\tf_gpu\\lib\\site-packages\\IPython\\core\\formatters.py\u001b[0m in \u001b[0;36m__call__\u001b[1;34m(self, obj)\u001b[0m\n\u001b[0;32m    339\u001b[0m                 \u001b[1;32mpass\u001b[0m\u001b[1;33m\u001b[0m\u001b[1;33m\u001b[0m\u001b[0m\n\u001b[0;32m    340\u001b[0m             \u001b[1;32melse\u001b[0m\u001b[1;33m:\u001b[0m\u001b[1;33m\u001b[0m\u001b[1;33m\u001b[0m\u001b[0m\n\u001b[1;32m--> 341\u001b[1;33m                 \u001b[1;32mreturn\u001b[0m \u001b[0mprinter\u001b[0m\u001b[1;33m(\u001b[0m\u001b[0mobj\u001b[0m\u001b[1;33m)\u001b[0m\u001b[1;33m\u001b[0m\u001b[1;33m\u001b[0m\u001b[0m\n\u001b[0m\u001b[0;32m    342\u001b[0m             \u001b[1;31m# Finally look for special method names\u001b[0m\u001b[1;33m\u001b[0m\u001b[1;33m\u001b[0m\u001b[1;33m\u001b[0m\u001b[0m\n\u001b[0;32m    343\u001b[0m             \u001b[0mmethod\u001b[0m \u001b[1;33m=\u001b[0m \u001b[0mget_real_method\u001b[0m\u001b[1;33m(\u001b[0m\u001b[0mobj\u001b[0m\u001b[1;33m,\u001b[0m \u001b[0mself\u001b[0m\u001b[1;33m.\u001b[0m\u001b[0mprint_method\u001b[0m\u001b[1;33m)\u001b[0m\u001b[1;33m\u001b[0m\u001b[1;33m\u001b[0m\u001b[0m\n",
      "\u001b[1;32mc:\\users\\dnybe\\anaconda3\\envs\\tf_gpu\\lib\\site-packages\\IPython\\core\\pylabtools.py\u001b[0m in \u001b[0;36m<lambda>\u001b[1;34m(fig)\u001b[0m\n\u001b[0;32m    246\u001b[0m \u001b[1;33m\u001b[0m\u001b[0m\n\u001b[0;32m    247\u001b[0m     \u001b[1;32mif\u001b[0m \u001b[1;34m'png'\u001b[0m \u001b[1;32min\u001b[0m \u001b[0mformats\u001b[0m\u001b[1;33m:\u001b[0m\u001b[1;33m\u001b[0m\u001b[1;33m\u001b[0m\u001b[0m\n\u001b[1;32m--> 248\u001b[1;33m         \u001b[0mpng_formatter\u001b[0m\u001b[1;33m.\u001b[0m\u001b[0mfor_type\u001b[0m\u001b[1;33m(\u001b[0m\u001b[0mFigure\u001b[0m\u001b[1;33m,\u001b[0m \u001b[1;32mlambda\u001b[0m \u001b[0mfig\u001b[0m\u001b[1;33m:\u001b[0m \u001b[0mprint_figure\u001b[0m\u001b[1;33m(\u001b[0m\u001b[0mfig\u001b[0m\u001b[1;33m,\u001b[0m \u001b[1;34m'png'\u001b[0m\u001b[1;33m,\u001b[0m \u001b[1;33m**\u001b[0m\u001b[0mkwargs\u001b[0m\u001b[1;33m)\u001b[0m\u001b[1;33m)\u001b[0m\u001b[1;33m\u001b[0m\u001b[1;33m\u001b[0m\u001b[0m\n\u001b[0m\u001b[0;32m    249\u001b[0m     \u001b[1;32mif\u001b[0m \u001b[1;34m'retina'\u001b[0m \u001b[1;32min\u001b[0m \u001b[0mformats\u001b[0m \u001b[1;32mor\u001b[0m \u001b[1;34m'png2x'\u001b[0m \u001b[1;32min\u001b[0m \u001b[0mformats\u001b[0m\u001b[1;33m:\u001b[0m\u001b[1;33m\u001b[0m\u001b[1;33m\u001b[0m\u001b[0m\n\u001b[0;32m    250\u001b[0m         \u001b[0mpng_formatter\u001b[0m\u001b[1;33m.\u001b[0m\u001b[0mfor_type\u001b[0m\u001b[1;33m(\u001b[0m\u001b[0mFigure\u001b[0m\u001b[1;33m,\u001b[0m \u001b[1;32mlambda\u001b[0m \u001b[0mfig\u001b[0m\u001b[1;33m:\u001b[0m \u001b[0mretina_figure\u001b[0m\u001b[1;33m(\u001b[0m\u001b[0mfig\u001b[0m\u001b[1;33m,\u001b[0m \u001b[1;33m**\u001b[0m\u001b[0mkwargs\u001b[0m\u001b[1;33m)\u001b[0m\u001b[1;33m)\u001b[0m\u001b[1;33m\u001b[0m\u001b[1;33m\u001b[0m\u001b[0m\n",
      "\u001b[1;32mc:\\users\\dnybe\\anaconda3\\envs\\tf_gpu\\lib\\site-packages\\IPython\\core\\pylabtools.py\u001b[0m in \u001b[0;36mprint_figure\u001b[1;34m(fig, fmt, bbox_inches, **kwargs)\u001b[0m\n\u001b[0;32m    130\u001b[0m         \u001b[0mFigureCanvasBase\u001b[0m\u001b[1;33m(\u001b[0m\u001b[0mfig\u001b[0m\u001b[1;33m)\u001b[0m\u001b[1;33m\u001b[0m\u001b[1;33m\u001b[0m\u001b[0m\n\u001b[0;32m    131\u001b[0m \u001b[1;33m\u001b[0m\u001b[0m\n\u001b[1;32m--> 132\u001b[1;33m     \u001b[0mfig\u001b[0m\u001b[1;33m.\u001b[0m\u001b[0mcanvas\u001b[0m\u001b[1;33m.\u001b[0m\u001b[0mprint_figure\u001b[0m\u001b[1;33m(\u001b[0m\u001b[0mbytes_io\u001b[0m\u001b[1;33m,\u001b[0m \u001b[1;33m**\u001b[0m\u001b[0mkw\u001b[0m\u001b[1;33m)\u001b[0m\u001b[1;33m\u001b[0m\u001b[1;33m\u001b[0m\u001b[0m\n\u001b[0m\u001b[0;32m    133\u001b[0m     \u001b[0mdata\u001b[0m \u001b[1;33m=\u001b[0m \u001b[0mbytes_io\u001b[0m\u001b[1;33m.\u001b[0m\u001b[0mgetvalue\u001b[0m\u001b[1;33m(\u001b[0m\u001b[1;33m)\u001b[0m\u001b[1;33m\u001b[0m\u001b[1;33m\u001b[0m\u001b[0m\n\u001b[0;32m    134\u001b[0m     \u001b[1;32mif\u001b[0m \u001b[0mfmt\u001b[0m \u001b[1;33m==\u001b[0m \u001b[1;34m'svg'\u001b[0m\u001b[1;33m:\u001b[0m\u001b[1;33m\u001b[0m\u001b[1;33m\u001b[0m\u001b[0m\n",
      "\u001b[1;32mc:\\users\\dnybe\\anaconda3\\envs\\tf_gpu\\lib\\site-packages\\matplotlib\\backend_bases.py\u001b[0m in \u001b[0;36mprint_figure\u001b[1;34m(self, filename, dpi, facecolor, edgecolor, orientation, format, bbox_inches, pad_inches, bbox_extra_artists, backend, **kwargs)\u001b[0m\n\u001b[0;32m   2215\u001b[0m                     \u001b[0morientation\u001b[0m\u001b[1;33m=\u001b[0m\u001b[0morientation\u001b[0m\u001b[1;33m,\u001b[0m\u001b[1;33m\u001b[0m\u001b[1;33m\u001b[0m\u001b[0m\n\u001b[0;32m   2216\u001b[0m                     \u001b[0mbbox_inches_restore\u001b[0m\u001b[1;33m=\u001b[0m\u001b[0m_bbox_inches_restore\u001b[0m\u001b[1;33m,\u001b[0m\u001b[1;33m\u001b[0m\u001b[1;33m\u001b[0m\u001b[0m\n\u001b[1;32m-> 2217\u001b[1;33m                     **kwargs)\n\u001b[0m\u001b[0;32m   2218\u001b[0m             \u001b[1;32mfinally\u001b[0m\u001b[1;33m:\u001b[0m\u001b[1;33m\u001b[0m\u001b[1;33m\u001b[0m\u001b[0m\n\u001b[0;32m   2219\u001b[0m                 \u001b[1;32mif\u001b[0m \u001b[0mbbox_inches\u001b[0m \u001b[1;32mand\u001b[0m \u001b[0mrestore_bbox\u001b[0m\u001b[1;33m:\u001b[0m\u001b[1;33m\u001b[0m\u001b[1;33m\u001b[0m\u001b[0m\n",
      "\u001b[1;32mc:\\users\\dnybe\\anaconda3\\envs\\tf_gpu\\lib\\site-packages\\matplotlib\\backend_bases.py\u001b[0m in \u001b[0;36mwrapper\u001b[1;34m(*args, **kwargs)\u001b[0m\n\u001b[0;32m   1637\u001b[0m             \u001b[0mkwargs\u001b[0m\u001b[1;33m.\u001b[0m\u001b[0mpop\u001b[0m\u001b[1;33m(\u001b[0m\u001b[0marg\u001b[0m\u001b[1;33m)\u001b[0m\u001b[1;33m\u001b[0m\u001b[1;33m\u001b[0m\u001b[0m\n\u001b[0;32m   1638\u001b[0m \u001b[1;33m\u001b[0m\u001b[0m\n\u001b[1;32m-> 1639\u001b[1;33m         \u001b[1;32mreturn\u001b[0m \u001b[0mfunc\u001b[0m\u001b[1;33m(\u001b[0m\u001b[1;33m*\u001b[0m\u001b[0margs\u001b[0m\u001b[1;33m,\u001b[0m \u001b[1;33m**\u001b[0m\u001b[0mkwargs\u001b[0m\u001b[1;33m)\u001b[0m\u001b[1;33m\u001b[0m\u001b[1;33m\u001b[0m\u001b[0m\n\u001b[0m\u001b[0;32m   1640\u001b[0m \u001b[1;33m\u001b[0m\u001b[0m\n\u001b[0;32m   1641\u001b[0m     \u001b[1;32mreturn\u001b[0m \u001b[0mwrapper\u001b[0m\u001b[1;33m\u001b[0m\u001b[1;33m\u001b[0m\u001b[0m\n",
      "\u001b[1;32mc:\\users\\dnybe\\anaconda3\\envs\\tf_gpu\\lib\\site-packages\\matplotlib\\backends\\backend_agg.py\u001b[0m in \u001b[0;36mprint_png\u001b[1;34m(self, filename_or_obj, metadata, pil_kwargs, *args)\u001b[0m\n\u001b[0;32m    507\u001b[0m             \u001b[1;33m*\u001b[0m\u001b[0mmetadata\u001b[0m\u001b[1;33m*\u001b[0m\u001b[1;33m,\u001b[0m \u001b[0mincluding\u001b[0m \u001b[0mthe\u001b[0m \u001b[0mdefault\u001b[0m \u001b[1;34m'Software'\u001b[0m \u001b[0mkey\u001b[0m\u001b[1;33m.\u001b[0m\u001b[1;33m\u001b[0m\u001b[1;33m\u001b[0m\u001b[0m\n\u001b[0;32m    508\u001b[0m         \"\"\"\n\u001b[1;32m--> 509\u001b[1;33m         \u001b[0mFigureCanvasAgg\u001b[0m\u001b[1;33m.\u001b[0m\u001b[0mdraw\u001b[0m\u001b[1;33m(\u001b[0m\u001b[0mself\u001b[0m\u001b[1;33m)\u001b[0m\u001b[1;33m\u001b[0m\u001b[1;33m\u001b[0m\u001b[0m\n\u001b[0m\u001b[0;32m    510\u001b[0m         mpl.image.imsave(\n\u001b[0;32m    511\u001b[0m             \u001b[0mfilename_or_obj\u001b[0m\u001b[1;33m,\u001b[0m \u001b[0mself\u001b[0m\u001b[1;33m.\u001b[0m\u001b[0mbuffer_rgba\u001b[0m\u001b[1;33m(\u001b[0m\u001b[1;33m)\u001b[0m\u001b[1;33m,\u001b[0m \u001b[0mformat\u001b[0m\u001b[1;33m=\u001b[0m\u001b[1;34m\"png\"\u001b[0m\u001b[1;33m,\u001b[0m \u001b[0morigin\u001b[0m\u001b[1;33m=\u001b[0m\u001b[1;34m\"upper\"\u001b[0m\u001b[1;33m,\u001b[0m\u001b[1;33m\u001b[0m\u001b[1;33m\u001b[0m\u001b[0m\n",
      "\u001b[1;32mc:\\users\\dnybe\\anaconda3\\envs\\tf_gpu\\lib\\site-packages\\matplotlib\\backends\\backend_agg.py\u001b[0m in \u001b[0;36mdraw\u001b[1;34m(self)\u001b[0m\n\u001b[0;32m    405\u001b[0m              (self.toolbar._wait_cursor_for_draw_cm() if self.toolbar\n\u001b[0;32m    406\u001b[0m               else nullcontext()):\n\u001b[1;32m--> 407\u001b[1;33m             \u001b[0mself\u001b[0m\u001b[1;33m.\u001b[0m\u001b[0mfigure\u001b[0m\u001b[1;33m.\u001b[0m\u001b[0mdraw\u001b[0m\u001b[1;33m(\u001b[0m\u001b[0mself\u001b[0m\u001b[1;33m.\u001b[0m\u001b[0mrenderer\u001b[0m\u001b[1;33m)\u001b[0m\u001b[1;33m\u001b[0m\u001b[1;33m\u001b[0m\u001b[0m\n\u001b[0m\u001b[0;32m    408\u001b[0m             \u001b[1;31m# A GUI class may be need to update a window using this draw, so\u001b[0m\u001b[1;33m\u001b[0m\u001b[1;33m\u001b[0m\u001b[1;33m\u001b[0m\u001b[0m\n\u001b[0;32m    409\u001b[0m             \u001b[1;31m# don't forget to call the superclass.\u001b[0m\u001b[1;33m\u001b[0m\u001b[1;33m\u001b[0m\u001b[1;33m\u001b[0m\u001b[0m\n",
      "\u001b[1;32mc:\\users\\dnybe\\anaconda3\\envs\\tf_gpu\\lib\\site-packages\\matplotlib\\artist.py\u001b[0m in \u001b[0;36mdraw_wrapper\u001b[1;34m(artist, renderer, *args, **kwargs)\u001b[0m\n\u001b[0;32m     39\u001b[0m                 \u001b[0mrenderer\u001b[0m\u001b[1;33m.\u001b[0m\u001b[0mstart_filter\u001b[0m\u001b[1;33m(\u001b[0m\u001b[1;33m)\u001b[0m\u001b[1;33m\u001b[0m\u001b[1;33m\u001b[0m\u001b[0m\n\u001b[0;32m     40\u001b[0m \u001b[1;33m\u001b[0m\u001b[0m\n\u001b[1;32m---> 41\u001b[1;33m             \u001b[1;32mreturn\u001b[0m \u001b[0mdraw\u001b[0m\u001b[1;33m(\u001b[0m\u001b[0martist\u001b[0m\u001b[1;33m,\u001b[0m \u001b[0mrenderer\u001b[0m\u001b[1;33m,\u001b[0m \u001b[1;33m*\u001b[0m\u001b[0margs\u001b[0m\u001b[1;33m,\u001b[0m \u001b[1;33m**\u001b[0m\u001b[0mkwargs\u001b[0m\u001b[1;33m)\u001b[0m\u001b[1;33m\u001b[0m\u001b[1;33m\u001b[0m\u001b[0m\n\u001b[0m\u001b[0;32m     42\u001b[0m         \u001b[1;32mfinally\u001b[0m\u001b[1;33m:\u001b[0m\u001b[1;33m\u001b[0m\u001b[1;33m\u001b[0m\u001b[0m\n\u001b[0;32m     43\u001b[0m             \u001b[1;32mif\u001b[0m \u001b[0martist\u001b[0m\u001b[1;33m.\u001b[0m\u001b[0mget_agg_filter\u001b[0m\u001b[1;33m(\u001b[0m\u001b[1;33m)\u001b[0m \u001b[1;32mis\u001b[0m \u001b[1;32mnot\u001b[0m \u001b[1;32mNone\u001b[0m\u001b[1;33m:\u001b[0m\u001b[1;33m\u001b[0m\u001b[1;33m\u001b[0m\u001b[0m\n",
      "\u001b[1;32mc:\\users\\dnybe\\anaconda3\\envs\\tf_gpu\\lib\\site-packages\\matplotlib\\figure.py\u001b[0m in \u001b[0;36mdraw\u001b[1;34m(self, renderer)\u001b[0m\n\u001b[0;32m   1862\u001b[0m             \u001b[0mself\u001b[0m\u001b[1;33m.\u001b[0m\u001b[0mpatch\u001b[0m\u001b[1;33m.\u001b[0m\u001b[0mdraw\u001b[0m\u001b[1;33m(\u001b[0m\u001b[0mrenderer\u001b[0m\u001b[1;33m)\u001b[0m\u001b[1;33m\u001b[0m\u001b[1;33m\u001b[0m\u001b[0m\n\u001b[0;32m   1863\u001b[0m             mimage._draw_list_compositing_images(\n\u001b[1;32m-> 1864\u001b[1;33m                 renderer, self, artists, self.suppressComposite)\n\u001b[0m\u001b[0;32m   1865\u001b[0m \u001b[1;33m\u001b[0m\u001b[0m\n\u001b[0;32m   1866\u001b[0m             \u001b[0mrenderer\u001b[0m\u001b[1;33m.\u001b[0m\u001b[0mclose_group\u001b[0m\u001b[1;33m(\u001b[0m\u001b[1;34m'figure'\u001b[0m\u001b[1;33m)\u001b[0m\u001b[1;33m\u001b[0m\u001b[1;33m\u001b[0m\u001b[0m\n",
      "\u001b[1;32mc:\\users\\dnybe\\anaconda3\\envs\\tf_gpu\\lib\\site-packages\\matplotlib\\image.py\u001b[0m in \u001b[0;36m_draw_list_compositing_images\u001b[1;34m(renderer, parent, artists, suppress_composite)\u001b[0m\n\u001b[0;32m    129\u001b[0m     \u001b[1;32mif\u001b[0m \u001b[0mnot_composite\u001b[0m \u001b[1;32mor\u001b[0m \u001b[1;32mnot\u001b[0m \u001b[0mhas_images\u001b[0m\u001b[1;33m:\u001b[0m\u001b[1;33m\u001b[0m\u001b[1;33m\u001b[0m\u001b[0m\n\u001b[0;32m    130\u001b[0m         \u001b[1;32mfor\u001b[0m \u001b[0ma\u001b[0m \u001b[1;32min\u001b[0m \u001b[0martists\u001b[0m\u001b[1;33m:\u001b[0m\u001b[1;33m\u001b[0m\u001b[1;33m\u001b[0m\u001b[0m\n\u001b[1;32m--> 131\u001b[1;33m             \u001b[0ma\u001b[0m\u001b[1;33m.\u001b[0m\u001b[0mdraw\u001b[0m\u001b[1;33m(\u001b[0m\u001b[0mrenderer\u001b[0m\u001b[1;33m)\u001b[0m\u001b[1;33m\u001b[0m\u001b[1;33m\u001b[0m\u001b[0m\n\u001b[0m\u001b[0;32m    132\u001b[0m     \u001b[1;32melse\u001b[0m\u001b[1;33m:\u001b[0m\u001b[1;33m\u001b[0m\u001b[1;33m\u001b[0m\u001b[0m\n\u001b[0;32m    133\u001b[0m         \u001b[1;31m# Composite any adjacent images together\u001b[0m\u001b[1;33m\u001b[0m\u001b[1;33m\u001b[0m\u001b[1;33m\u001b[0m\u001b[0m\n",
      "\u001b[1;32mc:\\users\\dnybe\\anaconda3\\envs\\tf_gpu\\lib\\site-packages\\matplotlib\\artist.py\u001b[0m in \u001b[0;36mdraw_wrapper\u001b[1;34m(artist, renderer, *args, **kwargs)\u001b[0m\n\u001b[0;32m     39\u001b[0m                 \u001b[0mrenderer\u001b[0m\u001b[1;33m.\u001b[0m\u001b[0mstart_filter\u001b[0m\u001b[1;33m(\u001b[0m\u001b[1;33m)\u001b[0m\u001b[1;33m\u001b[0m\u001b[1;33m\u001b[0m\u001b[0m\n\u001b[0;32m     40\u001b[0m \u001b[1;33m\u001b[0m\u001b[0m\n\u001b[1;32m---> 41\u001b[1;33m             \u001b[1;32mreturn\u001b[0m \u001b[0mdraw\u001b[0m\u001b[1;33m(\u001b[0m\u001b[0martist\u001b[0m\u001b[1;33m,\u001b[0m \u001b[0mrenderer\u001b[0m\u001b[1;33m,\u001b[0m \u001b[1;33m*\u001b[0m\u001b[0margs\u001b[0m\u001b[1;33m,\u001b[0m \u001b[1;33m**\u001b[0m\u001b[0mkwargs\u001b[0m\u001b[1;33m)\u001b[0m\u001b[1;33m\u001b[0m\u001b[1;33m\u001b[0m\u001b[0m\n\u001b[0m\u001b[0;32m     42\u001b[0m         \u001b[1;32mfinally\u001b[0m\u001b[1;33m:\u001b[0m\u001b[1;33m\u001b[0m\u001b[1;33m\u001b[0m\u001b[0m\n\u001b[0;32m     43\u001b[0m             \u001b[1;32mif\u001b[0m \u001b[0martist\u001b[0m\u001b[1;33m.\u001b[0m\u001b[0mget_agg_filter\u001b[0m\u001b[1;33m(\u001b[0m\u001b[1;33m)\u001b[0m \u001b[1;32mis\u001b[0m \u001b[1;32mnot\u001b[0m \u001b[1;32mNone\u001b[0m\u001b[1;33m:\u001b[0m\u001b[1;33m\u001b[0m\u001b[1;33m\u001b[0m\u001b[0m\n",
      "\u001b[1;32mc:\\users\\dnybe\\anaconda3\\envs\\tf_gpu\\lib\\site-packages\\matplotlib\\cbook\\deprecation.py\u001b[0m in \u001b[0;36mwrapper\u001b[1;34m(*inner_args, **inner_kwargs)\u001b[0m\n\u001b[0;32m    409\u001b[0m                          \u001b[1;32melse\u001b[0m \u001b[0mdeprecation_addendum\u001b[0m\u001b[1;33m,\u001b[0m\u001b[1;33m\u001b[0m\u001b[1;33m\u001b[0m\u001b[0m\n\u001b[0;32m    410\u001b[0m                 **kwargs)\n\u001b[1;32m--> 411\u001b[1;33m         \u001b[1;32mreturn\u001b[0m \u001b[0mfunc\u001b[0m\u001b[1;33m(\u001b[0m\u001b[1;33m*\u001b[0m\u001b[0minner_args\u001b[0m\u001b[1;33m,\u001b[0m \u001b[1;33m**\u001b[0m\u001b[0minner_kwargs\u001b[0m\u001b[1;33m)\u001b[0m\u001b[1;33m\u001b[0m\u001b[1;33m\u001b[0m\u001b[0m\n\u001b[0m\u001b[0;32m    412\u001b[0m \u001b[1;33m\u001b[0m\u001b[0m\n\u001b[0;32m    413\u001b[0m     \u001b[1;32mreturn\u001b[0m \u001b[0mwrapper\u001b[0m\u001b[1;33m\u001b[0m\u001b[1;33m\u001b[0m\u001b[0m\n",
      "\u001b[1;32mc:\\users\\dnybe\\anaconda3\\envs\\tf_gpu\\lib\\site-packages\\matplotlib\\axes\\_base.py\u001b[0m in \u001b[0;36mdraw\u001b[1;34m(self, renderer, inframe)\u001b[0m\n\u001b[0;32m   2745\u001b[0m             \u001b[0mrenderer\u001b[0m\u001b[1;33m.\u001b[0m\u001b[0mstop_rasterizing\u001b[0m\u001b[1;33m(\u001b[0m\u001b[1;33m)\u001b[0m\u001b[1;33m\u001b[0m\u001b[1;33m\u001b[0m\u001b[0m\n\u001b[0;32m   2746\u001b[0m \u001b[1;33m\u001b[0m\u001b[0m\n\u001b[1;32m-> 2747\u001b[1;33m         \u001b[0mmimage\u001b[0m\u001b[1;33m.\u001b[0m\u001b[0m_draw_list_compositing_images\u001b[0m\u001b[1;33m(\u001b[0m\u001b[0mrenderer\u001b[0m\u001b[1;33m,\u001b[0m \u001b[0mself\u001b[0m\u001b[1;33m,\u001b[0m \u001b[0martists\u001b[0m\u001b[1;33m)\u001b[0m\u001b[1;33m\u001b[0m\u001b[1;33m\u001b[0m\u001b[0m\n\u001b[0m\u001b[0;32m   2748\u001b[0m \u001b[1;33m\u001b[0m\u001b[0m\n\u001b[0;32m   2749\u001b[0m         \u001b[0mrenderer\u001b[0m\u001b[1;33m.\u001b[0m\u001b[0mclose_group\u001b[0m\u001b[1;33m(\u001b[0m\u001b[1;34m'axes'\u001b[0m\u001b[1;33m)\u001b[0m\u001b[1;33m\u001b[0m\u001b[1;33m\u001b[0m\u001b[0m\n",
      "\u001b[1;32mc:\\users\\dnybe\\anaconda3\\envs\\tf_gpu\\lib\\site-packages\\matplotlib\\image.py\u001b[0m in \u001b[0;36m_draw_list_compositing_images\u001b[1;34m(renderer, parent, artists, suppress_composite)\u001b[0m\n\u001b[0;32m    129\u001b[0m     \u001b[1;32mif\u001b[0m \u001b[0mnot_composite\u001b[0m \u001b[1;32mor\u001b[0m \u001b[1;32mnot\u001b[0m \u001b[0mhas_images\u001b[0m\u001b[1;33m:\u001b[0m\u001b[1;33m\u001b[0m\u001b[1;33m\u001b[0m\u001b[0m\n\u001b[0;32m    130\u001b[0m         \u001b[1;32mfor\u001b[0m \u001b[0ma\u001b[0m \u001b[1;32min\u001b[0m \u001b[0martists\u001b[0m\u001b[1;33m:\u001b[0m\u001b[1;33m\u001b[0m\u001b[1;33m\u001b[0m\u001b[0m\n\u001b[1;32m--> 131\u001b[1;33m             \u001b[0ma\u001b[0m\u001b[1;33m.\u001b[0m\u001b[0mdraw\u001b[0m\u001b[1;33m(\u001b[0m\u001b[0mrenderer\u001b[0m\u001b[1;33m)\u001b[0m\u001b[1;33m\u001b[0m\u001b[1;33m\u001b[0m\u001b[0m\n\u001b[0m\u001b[0;32m    132\u001b[0m     \u001b[1;32melse\u001b[0m\u001b[1;33m:\u001b[0m\u001b[1;33m\u001b[0m\u001b[1;33m\u001b[0m\u001b[0m\n\u001b[0;32m    133\u001b[0m         \u001b[1;31m# Composite any adjacent images together\u001b[0m\u001b[1;33m\u001b[0m\u001b[1;33m\u001b[0m\u001b[1;33m\u001b[0m\u001b[0m\n",
      "\u001b[1;32mc:\\users\\dnybe\\anaconda3\\envs\\tf_gpu\\lib\\site-packages\\matplotlib\\artist.py\u001b[0m in \u001b[0;36mdraw_wrapper\u001b[1;34m(artist, renderer, *args, **kwargs)\u001b[0m\n\u001b[0;32m     39\u001b[0m                 \u001b[0mrenderer\u001b[0m\u001b[1;33m.\u001b[0m\u001b[0mstart_filter\u001b[0m\u001b[1;33m(\u001b[0m\u001b[1;33m)\u001b[0m\u001b[1;33m\u001b[0m\u001b[1;33m\u001b[0m\u001b[0m\n\u001b[0;32m     40\u001b[0m \u001b[1;33m\u001b[0m\u001b[0m\n\u001b[1;32m---> 41\u001b[1;33m             \u001b[1;32mreturn\u001b[0m \u001b[0mdraw\u001b[0m\u001b[1;33m(\u001b[0m\u001b[0martist\u001b[0m\u001b[1;33m,\u001b[0m \u001b[0mrenderer\u001b[0m\u001b[1;33m,\u001b[0m \u001b[1;33m*\u001b[0m\u001b[0margs\u001b[0m\u001b[1;33m,\u001b[0m \u001b[1;33m**\u001b[0m\u001b[0mkwargs\u001b[0m\u001b[1;33m)\u001b[0m\u001b[1;33m\u001b[0m\u001b[1;33m\u001b[0m\u001b[0m\n\u001b[0m\u001b[0;32m     42\u001b[0m         \u001b[1;32mfinally\u001b[0m\u001b[1;33m:\u001b[0m\u001b[1;33m\u001b[0m\u001b[1;33m\u001b[0m\u001b[0m\n\u001b[0;32m     43\u001b[0m             \u001b[1;32mif\u001b[0m \u001b[0martist\u001b[0m\u001b[1;33m.\u001b[0m\u001b[0mget_agg_filter\u001b[0m\u001b[1;33m(\u001b[0m\u001b[1;33m)\u001b[0m \u001b[1;32mis\u001b[0m \u001b[1;32mnot\u001b[0m \u001b[1;32mNone\u001b[0m\u001b[1;33m:\u001b[0m\u001b[1;33m\u001b[0m\u001b[1;33m\u001b[0m\u001b[0m\n",
      "\u001b[1;32mc:\\users\\dnybe\\anaconda3\\envs\\tf_gpu\\lib\\site-packages\\matplotlib\\axis.py\u001b[0m in \u001b[0;36mdraw\u001b[1;34m(self, renderer, *args, **kwargs)\u001b[0m\n\u001b[0;32m   1164\u001b[0m         \u001b[0mticks_to_draw\u001b[0m \u001b[1;33m=\u001b[0m \u001b[0mself\u001b[0m\u001b[1;33m.\u001b[0m\u001b[0m_update_ticks\u001b[0m\u001b[1;33m(\u001b[0m\u001b[1;33m)\u001b[0m\u001b[1;33m\u001b[0m\u001b[1;33m\u001b[0m\u001b[0m\n\u001b[0;32m   1165\u001b[0m         ticklabelBoxes, ticklabelBoxes2 = self._get_tick_bboxes(ticks_to_draw,\n\u001b[1;32m-> 1166\u001b[1;33m                                                                 renderer)\n\u001b[0m\u001b[0;32m   1167\u001b[0m \u001b[1;33m\u001b[0m\u001b[0m\n\u001b[0;32m   1168\u001b[0m         \u001b[1;32mfor\u001b[0m \u001b[0mtick\u001b[0m \u001b[1;32min\u001b[0m \u001b[0mticks_to_draw\u001b[0m\u001b[1;33m:\u001b[0m\u001b[1;33m\u001b[0m\u001b[1;33m\u001b[0m\u001b[0m\n",
      "\u001b[1;32mc:\\users\\dnybe\\anaconda3\\envs\\tf_gpu\\lib\\site-packages\\matplotlib\\axis.py\u001b[0m in \u001b[0;36m_get_tick_bboxes\u001b[1;34m(self, ticks, renderer)\u001b[0m\n\u001b[0;32m   1090\u001b[0m         \u001b[1;34m\"\"\"Return lists of bboxes for ticks' label1's and label2's.\"\"\"\u001b[0m\u001b[1;33m\u001b[0m\u001b[1;33m\u001b[0m\u001b[0m\n\u001b[0;32m   1091\u001b[0m         return ([tick.label1.get_window_extent(renderer)\n\u001b[1;32m-> 1092\u001b[1;33m                  for tick in ticks if tick.label1.get_visible()],\n\u001b[0m\u001b[0;32m   1093\u001b[0m                 [tick.label2.get_window_extent(renderer)\n\u001b[0;32m   1094\u001b[0m                  for tick in ticks if tick.label2.get_visible()])\n",
      "\u001b[1;32mc:\\users\\dnybe\\anaconda3\\envs\\tf_gpu\\lib\\site-packages\\matplotlib\\axis.py\u001b[0m in \u001b[0;36m<listcomp>\u001b[1;34m(.0)\u001b[0m\n\u001b[0;32m   1090\u001b[0m         \u001b[1;34m\"\"\"Return lists of bboxes for ticks' label1's and label2's.\"\"\"\u001b[0m\u001b[1;33m\u001b[0m\u001b[1;33m\u001b[0m\u001b[0m\n\u001b[0;32m   1091\u001b[0m         return ([tick.label1.get_window_extent(renderer)\n\u001b[1;32m-> 1092\u001b[1;33m                  for tick in ticks if tick.label1.get_visible()],\n\u001b[0m\u001b[0;32m   1093\u001b[0m                 [tick.label2.get_window_extent(renderer)\n\u001b[0;32m   1094\u001b[0m                  for tick in ticks if tick.label2.get_visible()])\n",
      "\u001b[1;32mc:\\users\\dnybe\\anaconda3\\envs\\tf_gpu\\lib\\site-packages\\matplotlib\\text.py\u001b[0m in \u001b[0;36mget_window_extent\u001b[1;34m(self, renderer, dpi)\u001b[0m\n\u001b[0;32m    900\u001b[0m \u001b[1;33m\u001b[0m\u001b[0m\n\u001b[0;32m    901\u001b[0m         \u001b[1;32mwith\u001b[0m \u001b[0mcbook\u001b[0m\u001b[1;33m.\u001b[0m\u001b[0m_setattr_cm\u001b[0m\u001b[1;33m(\u001b[0m\u001b[0mself\u001b[0m\u001b[1;33m.\u001b[0m\u001b[0mfigure\u001b[0m\u001b[1;33m,\u001b[0m \u001b[0mdpi\u001b[0m\u001b[1;33m=\u001b[0m\u001b[0mdpi\u001b[0m\u001b[1;33m)\u001b[0m\u001b[1;33m:\u001b[0m\u001b[1;33m\u001b[0m\u001b[1;33m\u001b[0m\u001b[0m\n\u001b[1;32m--> 902\u001b[1;33m             \u001b[0mbbox\u001b[0m\u001b[1;33m,\u001b[0m \u001b[0minfo\u001b[0m\u001b[1;33m,\u001b[0m \u001b[0mdescent\u001b[0m \u001b[1;33m=\u001b[0m \u001b[0mself\u001b[0m\u001b[1;33m.\u001b[0m\u001b[0m_get_layout\u001b[0m\u001b[1;33m(\u001b[0m\u001b[0mself\u001b[0m\u001b[1;33m.\u001b[0m\u001b[0m_renderer\u001b[0m\u001b[1;33m)\u001b[0m\u001b[1;33m\u001b[0m\u001b[1;33m\u001b[0m\u001b[0m\n\u001b[0m\u001b[0;32m    903\u001b[0m             \u001b[0mx\u001b[0m\u001b[1;33m,\u001b[0m \u001b[0my\u001b[0m \u001b[1;33m=\u001b[0m \u001b[0mself\u001b[0m\u001b[1;33m.\u001b[0m\u001b[0mget_unitless_position\u001b[0m\u001b[1;33m(\u001b[0m\u001b[1;33m)\u001b[0m\u001b[1;33m\u001b[0m\u001b[1;33m\u001b[0m\u001b[0m\n\u001b[0;32m    904\u001b[0m             \u001b[0mx\u001b[0m\u001b[1;33m,\u001b[0m \u001b[0my\u001b[0m \u001b[1;33m=\u001b[0m \u001b[0mself\u001b[0m\u001b[1;33m.\u001b[0m\u001b[0mget_transform\u001b[0m\u001b[1;33m(\u001b[0m\u001b[1;33m)\u001b[0m\u001b[1;33m.\u001b[0m\u001b[0mtransform\u001b[0m\u001b[1;33m(\u001b[0m\u001b[1;33m(\u001b[0m\u001b[0mx\u001b[0m\u001b[1;33m,\u001b[0m \u001b[0my\u001b[0m\u001b[1;33m)\u001b[0m\u001b[1;33m)\u001b[0m\u001b[1;33m\u001b[0m\u001b[1;33m\u001b[0m\u001b[0m\n",
      "\u001b[1;32mc:\\users\\dnybe\\anaconda3\\envs\\tf_gpu\\lib\\site-packages\\matplotlib\\text.py\u001b[0m in \u001b[0;36m_get_layout\u001b[1;34m(self, renderer)\u001b[0m\n\u001b[0;32m    287\u001b[0m         _, lp_h, lp_d = renderer.get_text_width_height_descent(\n\u001b[0;32m    288\u001b[0m             \u001b[1;34m\"lp\"\u001b[0m\u001b[1;33m,\u001b[0m \u001b[0mself\u001b[0m\u001b[1;33m.\u001b[0m\u001b[0m_fontproperties\u001b[0m\u001b[1;33m,\u001b[0m\u001b[1;33m\u001b[0m\u001b[1;33m\u001b[0m\u001b[0m\n\u001b[1;32m--> 289\u001b[1;33m             ismath=\"TeX\" if self.get_usetex() else False)\n\u001b[0m\u001b[0;32m    290\u001b[0m         \u001b[0mmin_dy\u001b[0m \u001b[1;33m=\u001b[0m \u001b[1;33m(\u001b[0m\u001b[0mlp_h\u001b[0m \u001b[1;33m-\u001b[0m \u001b[0mlp_d\u001b[0m\u001b[1;33m)\u001b[0m \u001b[1;33m*\u001b[0m \u001b[0mself\u001b[0m\u001b[1;33m.\u001b[0m\u001b[0m_linespacing\u001b[0m\u001b[1;33m\u001b[0m\u001b[1;33m\u001b[0m\u001b[0m\n\u001b[0;32m    291\u001b[0m \u001b[1;33m\u001b[0m\u001b[0m\n",
      "\u001b[1;32mc:\\users\\dnybe\\anaconda3\\envs\\tf_gpu\\lib\\site-packages\\matplotlib\\backends\\backend_agg.py\u001b[0m in \u001b[0;36mget_text_width_height_descent\u001b[1;34m(self, s, prop, ismath)\u001b[0m\n\u001b[0;32m    236\u001b[0m         \u001b[0mflags\u001b[0m \u001b[1;33m=\u001b[0m \u001b[0mget_hinting_flag\u001b[0m\u001b[1;33m(\u001b[0m\u001b[1;33m)\u001b[0m\u001b[1;33m\u001b[0m\u001b[1;33m\u001b[0m\u001b[0m\n\u001b[0;32m    237\u001b[0m         \u001b[0mfont\u001b[0m \u001b[1;33m=\u001b[0m \u001b[0mself\u001b[0m\u001b[1;33m.\u001b[0m\u001b[0m_get_agg_font\u001b[0m\u001b[1;33m(\u001b[0m\u001b[0mprop\u001b[0m\u001b[1;33m)\u001b[0m\u001b[1;33m\u001b[0m\u001b[1;33m\u001b[0m\u001b[0m\n\u001b[1;32m--> 238\u001b[1;33m         \u001b[0mfont\u001b[0m\u001b[1;33m.\u001b[0m\u001b[0mset_text\u001b[0m\u001b[1;33m(\u001b[0m\u001b[0ms\u001b[0m\u001b[1;33m,\u001b[0m \u001b[1;36m0.0\u001b[0m\u001b[1;33m,\u001b[0m \u001b[0mflags\u001b[0m\u001b[1;33m=\u001b[0m\u001b[0mflags\u001b[0m\u001b[1;33m)\u001b[0m\u001b[1;33m\u001b[0m\u001b[1;33m\u001b[0m\u001b[0m\n\u001b[0m\u001b[0;32m    239\u001b[0m         \u001b[0mw\u001b[0m\u001b[1;33m,\u001b[0m \u001b[0mh\u001b[0m \u001b[1;33m=\u001b[0m \u001b[0mfont\u001b[0m\u001b[1;33m.\u001b[0m\u001b[0mget_width_height\u001b[0m\u001b[1;33m(\u001b[0m\u001b[1;33m)\u001b[0m  \u001b[1;31m# width and height of unrotated string\u001b[0m\u001b[1;33m\u001b[0m\u001b[1;33m\u001b[0m\u001b[0m\n\u001b[0;32m    240\u001b[0m         \u001b[0md\u001b[0m \u001b[1;33m=\u001b[0m \u001b[0mfont\u001b[0m\u001b[1;33m.\u001b[0m\u001b[0mget_descent\u001b[0m\u001b[1;33m(\u001b[0m\u001b[1;33m)\u001b[0m\u001b[1;33m\u001b[0m\u001b[1;33m\u001b[0m\u001b[0m\n",
      "\u001b[1;31mKeyboardInterrupt\u001b[0m: "
     ]
    }
   ],
   "source": [
    "vis_trajectory_scatter(inputs_list, target_list, preds_list)"
   ]
  },
  {
   "cell_type": "code",
   "execution_count": 63,
   "metadata": {},
   "outputs": [
    {
     "data": {
      "text/plain": [
       "[6943,\n",
       " 7042,\n",
       " 7142,\n",
       " 7242,\n",
       " 7341,\n",
       " 7441,\n",
       " 7541,\n",
       " 7541,\n",
       " 7640,\n",
       " 7740,\n",
       " 7840,\n",
       " 7939,\n",
       " 8039,\n",
       " 8139,\n",
       " 8238,\n",
       " 8338,\n",
       " 8438,\n",
       " 8538,\n",
       " 8637,\n",
       " 8737,\n",
       " 8837,\n",
       " 8936,\n",
       " 8936,\n",
       " 9036,\n",
       " 9135,\n",
       " 9235,\n",
       " 9335,\n",
       " 9435]"
      ]
     },
     "execution_count": 63,
     "metadata": {},
     "output_type": "execute_result"
    }
   ],
   "source": [
    "target_list[3]"
   ]
  },
  {
   "cell_type": "code",
   "execution_count": null,
   "metadata": {},
   "outputs": [],
   "source": []
  },
  {
   "cell_type": "code",
   "execution_count": null,
   "metadata": {},
   "outputs": [],
   "source": []
  },
  {
   "cell_type": "code",
   "execution_count": null,
   "metadata": {},
   "outputs": [],
   "source": []
  },
  {
   "cell_type": "code",
   "execution_count": null,
   "metadata": {},
   "outputs": [],
   "source": []
  },
  {
   "cell_type": "code",
   "execution_count": null,
   "metadata": {},
   "outputs": [],
   "source": [
    "def get_coordinates():\n",
    "  #input_list, target_list, preds_list = get_predictions(best_model, data_src_inputs, data_src_targets)\n",
    "\n",
    "    min_val, max_val = 0, 100\n",
    "\n",
    "    xy_inputs = []\n",
    "    xy_preds = []\n",
    "    xy_target = []\n",
    "\n",
    "    for inp in inputs_list:\n",
    "      x = inp % 100\n",
    "      y = inp / 100 \n",
    "\n",
    "      xy_inputs.append([x, y])\n",
    "\n",
    "    for inp in preds_list:\n",
    "      x = inp % 100\n",
    "      y = inp / 100 \n",
    "      xy_preds.append([x, y])\n",
    "\n",
    "    for inp in target_list:\n",
    "      x = inp % 100\n",
    "      y = inp / 100 \n",
    "      xy_target.append([x, y])\n",
    "\n",
    "    x_inp, y_inp = zip(*xy_inputs)\n",
    "    x_tar, y_tar = zip(*xy_target)\n",
    "    x_pred, y_pred = zip(*xy_preds)\n",
    "    \n",
    "    return xy_inputs, xy_preds, xy_target"
   ]
  },
  {
   "cell_type": "code",
   "execution_count": null,
   "metadata": {},
   "outputs": [],
   "source": [
    "xy_in, xy_preds, xy_tar = get_coordinates()"
   ]
  },
  {
   "cell_type": "code",
   "execution_count": null,
   "metadata": {},
   "outputs": [],
   "source": [
    "output_df[['X_REAL', 'Y_REAL']] = scaler.inverse_transform(output_df[['X_REAL', 'Y_REAL']])\n",
    "output_df[['X_PRED', 'Y_PRED']] = scaler.inverse_transform(output_df[['X_PRED', 'Y_PRED']])"
   ]
  },
  {
   "cell_type": "code",
   "execution_count": null,
   "metadata": {},
   "outputs": [],
   "source": [
    "for inp in test_indx[0]:\n",
    "    print(inp)"
   ]
  },
  {
   "cell_type": "code",
   "execution_count": null,
   "metadata": {},
   "outputs": [],
   "source": []
  },
  {
   "cell_type": "code",
   "execution_count": null,
   "metadata": {},
   "outputs": [],
   "source": []
  }
 ],
 "metadata": {
  "colab": {
   "collapsed_sections": [],
   "name": "new_data_lstm_bins.ipynb",
   "provenance": []
  },
  "kernelspec": {
   "display_name": "Python 3",
   "language": "python",
   "name": "python3"
  },
  "language_info": {
   "codemirror_mode": {
    "name": "ipython",
    "version": 3
   },
   "file_extension": ".py",
   "mimetype": "text/x-python",
   "name": "python",
   "nbconvert_exporter": "python",
   "pygments_lexer": "ipython3",
   "version": "3.7.9"
  }
 },
 "nbformat": 4,
 "nbformat_minor": 1
}
