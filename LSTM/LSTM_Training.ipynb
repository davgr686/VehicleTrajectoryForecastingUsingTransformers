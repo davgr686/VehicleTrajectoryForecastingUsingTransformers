{
 "cells": [
  {
   "cell_type": "code",
   "execution_count": 1,
   "metadata": {
    "id": "_fywMUUtgwRr"
   },
   "outputs": [],
   "source": [
    "import numpy as np\n",
    "from tensorflow.keras.models import Sequential\n",
    "from tensorflow.keras.layers import Dense, LSTM, RepeatVector\n",
    "import tensorflow as tf\n",
    "import os\n",
    "from keras.layers import TimeDistributed\n",
    "import matplotlib.pyplot as plt\n",
    "import urllib.request\n",
    "import pandas as pd\n",
    "from sklearn.model_selection import train_test_split\n",
    "from sklearn.preprocessing import MinMaxScaler\n",
    "import keras\n",
    "from matplotlib import pyplot as plt\n",
    "from keras.models import Sequential\n",
    "from keras.layers import Dense\n",
    "from keras.layers import LSTM\n",
    "from keras.layers import Embedding\n",
    "import joblib\n",
    "physical_devices = tf.config.list_physical_devices('GPU')\n",
    "tf.config.experimental.set_memory_growth(physical_devices[0], enable=True)"
   ]
  },
  {
   "cell_type": "code",
   "execution_count": 2,
   "metadata": {},
   "outputs": [
    {
     "name": "stdout",
     "output_type": "stream",
     "text": [
      "Num GPUs Available:  1\n"
     ]
    }
   ],
   "source": [
    "import tensorflow as tf\n",
    "print(\"Num GPUs Available: \", len(tf.config.experimental.list_physical_devices('GPU')))"
   ]
  },
  {
   "cell_type": "code",
   "execution_count": 3,
   "metadata": {
    "colab": {
     "base_uri": "https://localhost:8080/",
     "height": 297
    },
    "id": "c481ZU6qiFfc",
    "outputId": "db1b5727-f004-40cc-bfb7-09f767601ef0"
   },
   "outputs": [
    {
     "data": {
      "text/html": [
       "<div>\n",
       "<style scoped>\n",
       "    .dataframe tbody tr th:only-of-type {\n",
       "        vertical-align: middle;\n",
       "    }\n",
       "\n",
       "    .dataframe tbody tr th {\n",
       "        vertical-align: top;\n",
       "    }\n",
       "\n",
       "    .dataframe thead th {\n",
       "        text-align: right;\n",
       "    }\n",
       "</style>\n",
       "<table border=\"1\" class=\"dataframe\">\n",
       "  <thead>\n",
       "    <tr style=\"text-align: right;\">\n",
       "      <th></th>\n",
       "      <th>Unnamed: 0</th>\n",
       "      <th>Vehicle_ID</th>\n",
       "      <th>X</th>\n",
       "      <th>Y</th>\n",
       "      <th>X_REL</th>\n",
       "      <th>Y_REL</th>\n",
       "    </tr>\n",
       "  </thead>\n",
       "  <tbody>\n",
       "    <tr>\n",
       "      <th>count</th>\n",
       "      <td>271800.00000</td>\n",
       "      <td>271800.000000</td>\n",
       "      <td>271800.000000</td>\n",
       "      <td>271800.000000</td>\n",
       "      <td>2.718000e+05</td>\n",
       "      <td>2.718000e+05</td>\n",
       "    </tr>\n",
       "    <tr>\n",
       "      <th>mean</th>\n",
       "      <td>135899.50000</td>\n",
       "      <td>138713.465784</td>\n",
       "      <td>151.187284</td>\n",
       "      <td>-33.894814</td>\n",
       "      <td>2.749781e-07</td>\n",
       "      <td>1.825982e-06</td>\n",
       "    </tr>\n",
       "    <tr>\n",
       "      <th>std</th>\n",
       "      <td>78462.04592</td>\n",
       "      <td>79858.222190</td>\n",
       "      <td>0.001347</td>\n",
       "      <td>0.000500</td>\n",
       "      <td>8.489875e-05</td>\n",
       "      <td>6.043587e-05</td>\n",
       "    </tr>\n",
       "    <tr>\n",
       "      <th>min</th>\n",
       "      <td>0.00000</td>\n",
       "      <td>0.000000</td>\n",
       "      <td>151.184733</td>\n",
       "      <td>-33.895679</td>\n",
       "      <td>-2.552615e-04</td>\n",
       "      <td>-2.656096e-04</td>\n",
       "    </tr>\n",
       "    <tr>\n",
       "      <th>25%</th>\n",
       "      <td>67949.75000</td>\n",
       "      <td>69800.000000</td>\n",
       "      <td>151.186314</td>\n",
       "      <td>-33.895216</td>\n",
       "      <td>-4.766988e-05</td>\n",
       "      <td>-3.103745e-05</td>\n",
       "    </tr>\n",
       "    <tr>\n",
       "      <th>50%</th>\n",
       "      <td>135899.50000</td>\n",
       "      <td>140000.000000</td>\n",
       "      <td>151.187419</td>\n",
       "      <td>-33.894842</td>\n",
       "      <td>-7.275850e-07</td>\n",
       "      <td>7.409000e-07</td>\n",
       "    </tr>\n",
       "    <tr>\n",
       "      <th>75%</th>\n",
       "      <td>203849.25000</td>\n",
       "      <td>208000.000000</td>\n",
       "      <td>151.187992</td>\n",
       "      <td>-33.894474</td>\n",
       "      <td>4.831394e-05</td>\n",
       "      <td>3.432616e-05</td>\n",
       "    </tr>\n",
       "    <tr>\n",
       "      <th>max</th>\n",
       "      <td>271799.00000</td>\n",
       "      <td>275800.000000</td>\n",
       "      <td>151.192349</td>\n",
       "      <td>-33.892186</td>\n",
       "      <td>2.641862e-04</td>\n",
       "      <td>2.736990e-04</td>\n",
       "    </tr>\n",
       "  </tbody>\n",
       "</table>\n",
       "</div>"
      ],
      "text/plain": [
       "         Unnamed: 0     Vehicle_ID              X              Y  \\\n",
       "count  271800.00000  271800.000000  271800.000000  271800.000000   \n",
       "mean   135899.50000  138713.465784     151.187284     -33.894814   \n",
       "std     78462.04592   79858.222190       0.001347       0.000500   \n",
       "min         0.00000       0.000000     151.184733     -33.895679   \n",
       "25%     67949.75000   69800.000000     151.186314     -33.895216   \n",
       "50%    135899.50000  140000.000000     151.187419     -33.894842   \n",
       "75%    203849.25000  208000.000000     151.187992     -33.894474   \n",
       "max    271799.00000  275800.000000     151.192349     -33.892186   \n",
       "\n",
       "              X_REL         Y_REL  \n",
       "count  2.718000e+05  2.718000e+05  \n",
       "mean   2.749781e-07  1.825982e-06  \n",
       "std    8.489875e-05  6.043587e-05  \n",
       "min   -2.552615e-04 -2.656096e-04  \n",
       "25%   -4.766988e-05 -3.103745e-05  \n",
       "50%   -7.275850e-07  7.409000e-07  \n",
       "75%    4.831394e-05  3.432616e-05  \n",
       "max    2.641862e-04  2.736990e-04  "
      ]
     },
     "execution_count": 3,
     "metadata": {},
     "output_type": "execute_result"
    }
   ],
   "source": [
    "\"\"\"\n",
    "Training Data\n",
    "\"\"\"\n",
    "#data = pd.read_csv(\"traj_100_seq_train.csv\")\n",
    "data = pd.read_csv(\"data/traj_200_seq_train.csv\")\n",
    "data.describe()"
   ]
  },
  {
   "cell_type": "code",
   "execution_count": 4,
   "metadata": {
    "id": "nZF9fgKtiYR3"
   },
   "outputs": [],
   "source": [
    "\"\"\"\n",
    "Preprocess data, removed torch tensors return type, now np arrays\n",
    "\"\"\"\n",
    "def preprocess_dataset(data, max = 10, max_len = 40, input_len = 30):\n",
    "    scaler = MinMaxScaler(feature_range=(0, max))\n",
    "    data[['X_REL', 'Y_REL']] = scaler.fit_transform(data[['X_REL', 'Y_REL']])\n",
    "    #joblib.dump(scaler, \"100seq.save\") \n",
    "    #scaler = joblib.load(\"scaler_100_seq_v3.save\")\n",
    "    #data[['X_REL', 'Y_REL']] = scaler.transform(data[['X_REL', 'Y_REL']])\n",
    "    unique_peds = data['Vehicle_ID'].unique()\n",
    "    unique_peds = sorted(unique_peds)\n",
    "    inputs = []\n",
    "    outputs = []\n",
    "    indexes = []\n",
    "    for ped in unique_peds:\n",
    "        if (len(data[data['Vehicle_ID'] == ped]) >= max_len):\n",
    "          seq_inner = []\n",
    "          indexes_inner = []\n",
    "          i = 0\n",
    "          for indx, row in data[data['Vehicle_ID'] == ped].iterrows():\n",
    "            x = round(row['X_REL'])\n",
    "            y = round(row['Y_REL'])\n",
    "            ## Cantor pairing function:\n",
    "            bin = y * max + x\n",
    "            i += 1\n",
    "            if i == max_len:\n",
    "              break\n",
    "            seq_inner.append(int(bin))\n",
    "            indexes_inner.append(ped)\n",
    "          inputs.append([seq_inner[0:input_len]])\n",
    "          outputs.append([seq_inner[input_len + 1:]])\n",
    "          indexes.append([indexes_inner])\n",
    "        \n",
    "    train_inputs, test_inputs, train_targets, test_targets, train_indx, test_indx = train_test_split(inputs, outputs, indexes, train_size=0.7, random_state=200)\n",
    "    return np.array(train_inputs), np.array(test_inputs), np.array(train_targets), np.array(test_targets), train_indx, test_indx"
   ]
  },
  {
   "cell_type": "code",
   "execution_count": 5,
   "metadata": {
    "id": "ZyuTi2XPe4qn"
   },
   "outputs": [],
   "source": [
    "train_data_inputs, test_data_inputs, train_data_targets, test_data_targets, train_indx, test_indx = preprocess_dataset(data, max = 30, max_len = 200, input_len = 100)"
   ]
  },
  {
   "cell_type": "code",
   "execution_count": 6,
   "metadata": {},
   "outputs": [
    {
     "data": {
      "text/plain": [
       "array([[[465, 465, 465, ..., 501, 501, 501]],\n",
       "\n",
       "       [[465, 465, 465, ..., 399, 399, 399]],\n",
       "\n",
       "       [[465, 465, 465, ..., 398, 398, 398]],\n",
       "\n",
       "       ...,\n",
       "\n",
       "       [[465, 465, 465, ..., 493, 493, 493]],\n",
       "\n",
       "       [[465, 465, 465, ..., 531, 531, 531]],\n",
       "\n",
       "       [[465, 465, 465, ..., 441, 441, 441]]])"
      ]
     },
     "execution_count": 6,
     "metadata": {},
     "output_type": "execute_result"
    }
   ],
   "source": [
    "train_data_inputs"
   ]
  },
  {
   "cell_type": "code",
   "execution_count": 7,
   "metadata": {
    "colab": {
     "base_uri": "https://localhost:8080/"
    },
    "id": "28uqOxTlkDTE",
    "outputId": "685884e0-d0b3-4031-8bb5-c04e55b6a63e"
   },
   "outputs": [],
   "source": [
    "\n",
    "train_data_inputs = train_data_inputs.reshape(train_data_inputs.shape[0], train_data_inputs.shape[2], 1)\n",
    "train_data_targets = train_data_targets.reshape(train_data_targets.shape[0], train_data_targets.shape[2], 1)\n"
   ]
  },
  {
   "cell_type": "code",
   "execution_count": 8,
   "metadata": {
    "colab": {
     "base_uri": "https://localhost:8080/"
    },
    "id": "8AbipVV-bAXN",
    "outputId": "b8564f82-8c44-4602-b826-db628fde5002"
   },
   "outputs": [],
   "source": [
    "\n",
    "test_data_inputs = test_data_inputs.reshape(test_data_inputs.shape[0], test_data_inputs.shape[2], 1)\n",
    "test_data_targets = test_data_targets.reshape(test_data_targets.shape[0], test_data_targets.shape[2], 1)\n"
   ]
  },
  {
   "cell_type": "code",
   "execution_count": 11,
   "metadata": {},
   "outputs": [
    {
     "data": {
      "text/plain": [
       "(408, 98, 1)"
      ]
     },
     "execution_count": 11,
     "metadata": {},
     "output_type": "execute_result"
    }
   ],
   "source": [
    "test_data_targets.shape"
   ]
  },
  {
   "cell_type": "code",
   "execution_count": 14,
   "metadata": {
    "id": "tLTmi_3nychJ"
   },
   "outputs": [],
   "source": [
    "vocab_size = (30 * 30) + 30\n",
    "input_len = 100\n",
    "target_len = 98"
   ]
  },
  {
   "cell_type": "code",
   "execution_count": 41,
   "metadata": {
    "id": "9qzKjxoKGrf9",
    "scrolled": true
   },
   "outputs": [
    {
     "name": "stdout",
     "output_type": "stream",
     "text": [
      "Model: \"sequential_6\"\n",
      "_________________________________________________________________\n",
      "Layer (type)                 Output Shape              Param #   \n",
      "=================================================================\n",
      "embedding_5 (Embedding)      (None, 100, 256)          238080    \n",
      "_________________________________________________________________\n",
      "lstm_10 (LSTM)               (None, 256)               525312    \n",
      "_________________________________________________________________\n",
      "repeat_vector_5 (RepeatVecto (None, 98, 256)           0         \n",
      "_________________________________________________________________\n",
      "lstm_11 (LSTM)               (None, 98, 256)           525312    \n",
      "_________________________________________________________________\n",
      "time_distributed_5 (TimeDist (None, 98, 930)           239010    \n",
      "=================================================================\n",
      "Total params: 1,527,714\n",
      "Trainable params: 1,527,714\n",
      "Non-trainable params: 0\n",
      "_________________________________________________________________\n"
     ]
    }
   ],
   "source": [
    "#https://towardsdatascience.com/how-to-build-an-encoder-decoder-translation-model-using-lstm-with-python-and-keras-a31e9d864b9b\n",
    "#https://machinelearningmastery.com/how-to-use-an-encoder-decoder-lstm-to-echo-sequences-of-random-integers/\n",
    "\n",
    "callback = tf.keras.callbacks.EarlyStopping(monitor='val_loss', patience=15, restore_best_weights=True)\n",
    "\n",
    "model = Sequential()\n",
    "model.add(tf.keras.layers.Input(shape=(input_len,)))\n",
    "model.add(tf.keras.layers.Embedding(vocab_size, 256))#, input_length = input_len))\n",
    "\n",
    "model.add(LSTM(256, activation='tanh', return_sequences=False, stateful=False, dropout=0.20))\n",
    "\n",
    "model.add(RepeatVector(target_len))\n",
    "model.add(LSTM(256, return_sequences=True, activation='tanh', stateful=False, dropout=0.20))\n",
    "\n",
    "model.add(TimeDistributed(Dense(vocab_size, activation='softmax')))\n",
    "          \n",
    "opt = keras.optimizers.SGD(learning_rate=0.01, momentum=0.9)\n",
    "model.compile(loss='sparse_categorical_crossentropy', optimizer=opt, metrics=['accuracy'])\n",
    "model.summary()"
   ]
  },
  {
   "cell_type": "code",
   "execution_count": 42,
   "metadata": {},
   "outputs": [
    {
     "name": "stdout",
     "output_type": "stream",
     "text": [
      "Epoch 1/65\n",
      "951/951 [==============================] - 16s 17ms/step - loss: 6.0768 - accuracy: 0.0231 - val_loss: 5.7119 - val_accuracy: 0.0214\n",
      "Epoch 2/65\n",
      "951/951 [==============================] - 15s 16ms/step - loss: 5.3377 - accuracy: 0.0434 - val_loss: 5.2775 - val_accuracy: 0.0726\n",
      "Epoch 3/65\n",
      "951/951 [==============================] - 15s 16ms/step - loss: 4.8992 - accuracy: 0.0718 - val_loss: 4.7860 - val_accuracy: 0.0729\n",
      "Epoch 4/65\n",
      "951/951 [==============================] - 15s 16ms/step - loss: 4.4624 - accuracy: 0.0915 - val_loss: 4.3020 - val_accuracy: 0.0929\n",
      "Epoch 5/65\n",
      "951/951 [==============================] - 15s 16ms/step - loss: 4.1308 - accuracy: 0.1071 - val_loss: 4.0576 - val_accuracy: 0.1382\n",
      "Epoch 6/65\n",
      "951/951 [==============================] - 15s 16ms/step - loss: 3.9301 - accuracy: 0.1225 - val_loss: 4.1298 - val_accuracy: 0.0943\n",
      "Epoch 7/65\n",
      "951/951 [==============================] - 15s 16ms/step - loss: 3.6722 - accuracy: 0.1494 - val_loss: 3.7422 - val_accuracy: 0.1615\n",
      "Epoch 8/65\n",
      "951/951 [==============================] - 15s 16ms/step - loss: 3.5232 - accuracy: 0.1600 - val_loss: 3.5856 - val_accuracy: 0.1904\n",
      "Epoch 9/65\n",
      "951/951 [==============================] - 15s 16ms/step - loss: 3.3080 - accuracy: 0.1879 - val_loss: 3.4134 - val_accuracy: 0.1780\n",
      "Epoch 10/65\n",
      "951/951 [==============================] - 15s 16ms/step - loss: 3.1678 - accuracy: 0.2012 - val_loss: 3.2624 - val_accuracy: 0.2146\n",
      "Epoch 11/65\n",
      "951/951 [==============================] - 15s 16ms/step - loss: 3.2802 - accuracy: 0.1993 - val_loss: 3.3683 - val_accuracy: 0.2224\n",
      "Epoch 12/65\n",
      "951/951 [==============================] - 15s 16ms/step - loss: 3.3650 - accuracy: 0.1931 - val_loss: 3.4319 - val_accuracy: 0.2171\n",
      "Epoch 13/65\n",
      "951/951 [==============================] - 15s 16ms/step - loss: 3.1183 - accuracy: 0.2101 - val_loss: 3.2396 - val_accuracy: 0.2141\n",
      "Epoch 14/65\n",
      "951/951 [==============================] - 15s 16ms/step - loss: 2.8388 - accuracy: 0.2446 - val_loss: 3.2133 - val_accuracy: 0.2435\n",
      "Epoch 15/65\n",
      "951/951 [==============================] - 15s 16ms/step - loss: 2.8214 - accuracy: 0.2510 - val_loss: 3.1491 - val_accuracy: 0.2170\n",
      "Epoch 16/65\n",
      "951/951 [==============================] - 15s 16ms/step - loss: 2.7061 - accuracy: 0.2563 - val_loss: 3.0379 - val_accuracy: 0.2475\n",
      "Epoch 17/65\n",
      "951/951 [==============================] - 15s 16ms/step - loss: 2.5553 - accuracy: 0.2747 - val_loss: 3.2291 - val_accuracy: 0.2012\n",
      "Epoch 18/65\n",
      "951/951 [==============================] - 15s 16ms/step - loss: 2.4925 - accuracy: 0.2861 - val_loss: 2.8669 - val_accuracy: 0.2606\n",
      "Epoch 19/65\n",
      "951/951 [==============================] - 15s 16ms/step - loss: 2.4874 - accuracy: 0.2878 - val_loss: 2.9558 - val_accuracy: 0.2534\n",
      "Epoch 20/65\n",
      "951/951 [==============================] - 15s 16ms/step - loss: 2.3709 - accuracy: 0.2976 - val_loss: 2.7226 - val_accuracy: 0.2910\n",
      "Epoch 21/65\n",
      "951/951 [==============================] - 15s 16ms/step - loss: 2.2321 - accuracy: 0.3320 - val_loss: 2.6936 - val_accuracy: 0.2982\n",
      "Epoch 22/65\n",
      "951/951 [==============================] - 15s 16ms/step - loss: 2.1603 - accuracy: 0.3392 - val_loss: 2.5799 - val_accuracy: 0.3305\n",
      "Epoch 23/65\n",
      "951/951 [==============================] - 15s 16ms/step - loss: 2.0737 - accuracy: 0.3532 - val_loss: 2.5321 - val_accuracy: 0.3378\n",
      "Epoch 24/65\n",
      "951/951 [==============================] - 15s 16ms/step - loss: 2.0578 - accuracy: 0.3526 - val_loss: 2.5160 - val_accuracy: 0.3254\n",
      "Epoch 25/65\n",
      "951/951 [==============================] - 15s 16ms/step - loss: 2.0028 - accuracy: 0.3609 - val_loss: 2.4028 - val_accuracy: 0.3554\n",
      "Epoch 26/65\n",
      "951/951 [==============================] - 15s 16ms/step - loss: 1.9318 - accuracy: 0.3751 - val_loss: 2.4634 - val_accuracy: 0.3352\n",
      "Epoch 27/65\n",
      "951/951 [==============================] - 15s 16ms/step - loss: 1.9331 - accuracy: 0.3800 - val_loss: 2.4057 - val_accuracy: 0.3645\n",
      "Epoch 28/65\n",
      "951/951 [==============================] - 15s 16ms/step - loss: 1.9962 - accuracy: 0.3685 - val_loss: 2.4855 - val_accuracy: 0.3514\n",
      "Epoch 29/65\n",
      "951/951 [==============================] - 15s 16ms/step - loss: 2.0262 - accuracy: 0.3634 - val_loss: 2.5252 - val_accuracy: 0.3145\n",
      "Epoch 30/65\n",
      "951/951 [==============================] - 15s 16ms/step - loss: 1.9441 - accuracy: 0.3831 - val_loss: 2.4265 - val_accuracy: 0.3631\n",
      "Epoch 31/65\n",
      "951/951 [==============================] - 15s 16ms/step - loss: 1.8326 - accuracy: 0.4001 - val_loss: 2.3946 - val_accuracy: 0.3551\n",
      "Epoch 32/65\n",
      "951/951 [==============================] - 15s 16ms/step - loss: 1.8188 - accuracy: 0.4006 - val_loss: 2.3653 - val_accuracy: 0.3672\n",
      "Epoch 33/65\n",
      "951/951 [==============================] - 15s 16ms/step - loss: 1.7097 - accuracy: 0.4228 - val_loss: 2.2928 - val_accuracy: 0.3834\n",
      "Epoch 34/65\n",
      "951/951 [==============================] - 15s 16ms/step - loss: 1.6732 - accuracy: 0.4361 - val_loss: 2.3776 - val_accuracy: 0.3340\n",
      "Epoch 35/65\n",
      "951/951 [==============================] - 15s 16ms/step - loss: 1.6674 - accuracy: 0.4372 - val_loss: 2.3338 - val_accuracy: 0.3742\n",
      "Epoch 36/65\n",
      "951/951 [==============================] - 15s 16ms/step - loss: 1.6800 - accuracy: 0.4267 - val_loss: 2.3329 - val_accuracy: 0.3725\n",
      "Epoch 37/65\n",
      "951/951 [==============================] - 15s 16ms/step - loss: 1.6573 - accuracy: 0.4426 - val_loss: 2.3775 - val_accuracy: 0.3701\n",
      "Epoch 38/65\n",
      "951/951 [==============================] - 15s 16ms/step - loss: 1.6259 - accuracy: 0.4470 - val_loss: 2.3709 - val_accuracy: 0.3517\n",
      "Epoch 39/65\n",
      "951/951 [==============================] - 15s 16ms/step - loss: 1.5771 - accuracy: 0.4558 - val_loss: 2.3024 - val_accuracy: 0.4023\n",
      "Epoch 40/65\n",
      "951/951 [==============================] - 15s 16ms/step - loss: 1.5801 - accuracy: 0.4605 - val_loss: 2.2857 - val_accuracy: 0.4026\n",
      "Epoch 41/65\n",
      "951/951 [==============================] - 15s 16ms/step - loss: 1.5947 - accuracy: 0.4474 - val_loss: 2.3692 - val_accuracy: 0.3601\n",
      "Epoch 42/65\n",
      "951/951 [==============================] - 15s 16ms/step - loss: 1.5749 - accuracy: 0.4592 - val_loss: 2.2294 - val_accuracy: 0.4129\n",
      "Epoch 43/65\n",
      "951/951 [==============================] - 15s 16ms/step - loss: 1.4940 - accuracy: 0.4773 - val_loss: 2.2096 - val_accuracy: 0.4210\n",
      "Epoch 44/65\n",
      "951/951 [==============================] - 15s 16ms/step - loss: 1.4627 - accuracy: 0.4820 - val_loss: 2.2355 - val_accuracy: 0.4173\n",
      "Epoch 45/65\n",
      "951/951 [==============================] - 15s 16ms/step - loss: 1.4650 - accuracy: 0.4818 - val_loss: 2.1843 - val_accuracy: 0.4276\n",
      "Epoch 46/65\n",
      "951/951 [==============================] - 15s 16ms/step - loss: 1.4209 - accuracy: 0.4997 - val_loss: 2.2382 - val_accuracy: 0.4079\n",
      "Epoch 47/65\n",
      "951/951 [==============================] - 15s 16ms/step - loss: 1.4630 - accuracy: 0.4832 - val_loss: 2.1691 - val_accuracy: 0.4295\n",
      "Epoch 48/65\n",
      "951/951 [==============================] - 15s 16ms/step - loss: 1.4731 - accuracy: 0.4831 - val_loss: 2.2129 - val_accuracy: 0.4118\n",
      "Epoch 49/65\n",
      "951/951 [==============================] - 16s 16ms/step - loss: 1.4439 - accuracy: 0.4873 - val_loss: 2.1896 - val_accuracy: 0.4101\n",
      "Epoch 50/65\n",
      "951/951 [==============================] - 15s 16ms/step - loss: 1.4344 - accuracy: 0.4950 - val_loss: 2.1316 - val_accuracy: 0.4085\n",
      "Epoch 51/65\n",
      "951/951 [==============================] - 15s 16ms/step - loss: 1.3980 - accuracy: 0.4928 - val_loss: 2.0649 - val_accuracy: 0.4399\n",
      "Epoch 52/65\n",
      "951/951 [==============================] - 15s 16ms/step - loss: 1.3585 - accuracy: 0.5105 - val_loss: 2.1656 - val_accuracy: 0.4310\n",
      "Epoch 53/65\n",
      "951/951 [==============================] - 15s 16ms/step - loss: 1.3275 - accuracy: 0.5186 - val_loss: 2.1573 - val_accuracy: 0.4288\n",
      "Epoch 54/65\n",
      "951/951 [==============================] - 15s 16ms/step - loss: 1.3290 - accuracy: 0.5161 - val_loss: 2.0570 - val_accuracy: 0.4484\n",
      "Epoch 55/65\n",
      "951/951 [==============================] - 15s 16ms/step - loss: 1.2571 - accuracy: 0.5396 - val_loss: 2.0764 - val_accuracy: 0.4442\n",
      "Epoch 56/65\n",
      "951/951 [==============================] - 15s 16ms/step - loss: 1.2360 - accuracy: 0.5433 - val_loss: 2.1176 - val_accuracy: 0.4351\n",
      "Epoch 57/65\n"
     ]
    },
    {
     "name": "stdout",
     "output_type": "stream",
     "text": [
      "951/951 [==============================] - 15s 16ms/step - loss: 1.2024 - accuracy: 0.5544 - val_loss: 2.1618 - val_accuracy: 0.4344\n",
      "Epoch 58/65\n",
      "951/951 [==============================] - 15s 16ms/step - loss: 1.2260 - accuracy: 0.5471 - val_loss: 2.0572 - val_accuracy: 0.4601\n",
      "Epoch 59/65\n",
      "951/951 [==============================] - 15s 16ms/step - loss: 1.2141 - accuracy: 0.5477 - val_loss: 2.1454 - val_accuracy: 0.4302\n",
      "Epoch 60/65\n",
      "951/951 [==============================] - 15s 16ms/step - loss: 1.1528 - accuracy: 0.5683 - val_loss: 2.0774 - val_accuracy: 0.4637\n",
      "Epoch 61/65\n",
      "951/951 [==============================] - 15s 16ms/step - loss: 1.1249 - accuracy: 0.5759 - val_loss: 2.0970 - val_accuracy: 0.4575\n",
      "Epoch 62/65\n",
      "951/951 [==============================] - 15s 16ms/step - loss: 1.1926 - accuracy: 0.5611 - val_loss: 2.2098 - val_accuracy: 0.4270\n",
      "Epoch 63/65\n",
      "951/951 [==============================] - 15s 16ms/step - loss: 1.1755 - accuracy: 0.5699 - val_loss: 2.1503 - val_accuracy: 0.4568\n",
      "Epoch 64/65\n",
      "951/951 [==============================] - 15s 16ms/step - loss: 1.1498 - accuracy: 0.5693 - val_loss: 2.1731 - val_accuracy: 0.4341\n",
      "Epoch 65/65\n",
      "951/951 [==============================] - 15s 16ms/step - loss: 1.1252 - accuracy: 0.5749 - val_loss: 2.1439 - val_accuracy: 0.4525\n"
     ]
    }
   ],
   "source": [
    "model_results = model.fit(train_data_inputs, train_data_targets, batch_size=1, epochs=65, callbacks=[callback], validation_data=(test_data_inputs, test_data_targets))"
   ]
  },
  {
   "cell_type": "code",
   "execution_count": null,
   "metadata": {},
   "outputs": [],
   "source": [
    "p = model.predict(test_data_inputs[0:1])\n",
    "print(p.shape)\n",
    "print(p)"
   ]
  },
  {
   "cell_type": "code",
   "execution_count": 45,
   "metadata": {},
   "outputs": [],
   "source": [
    "model.save('New_LSTM_200seq.h5')"
   ]
  },
  {
   "cell_type": "code",
   "execution_count": 46,
   "metadata": {
    "colab": {
     "base_uri": "https://localhost:8080/",
     "height": 480
    },
    "id": "Rj7IS3DbKq4Z",
    "outputId": "4f6b2791-d30e-444f-bce3-2a513f81a8bb"
   },
   "outputs": [
    {
     "data": {
      "image/png": "[encoded data removed]",
      "text/plain": [
       "<Figure size 432x288 with 1 Axes>"
      ]
     },
     "metadata": {
      "needs_background": "light"
     },
     "output_type": "display_data"
    }
   ],
   "source": [
    "#plotting losses, https://stackoverflow.com/questions/41908379/keras-plot-training-validation-and-test-set-accuracy\n",
    "plt.plot(model_results.history['loss'])\n",
    "plt.plot(model_results.history['val_loss'])\n",
    "plt.title('model loss')\n",
    "plt.ylabel('loss')\n",
    "plt.xlabel('epoch')\n",
    "plt.legend(['train', 'val'], loc='upper left')\n",
    "plt.show()"
   ]
  },
  {
   "cell_type": "code",
   "execution_count": null,
   "metadata": {},
   "outputs": [],
   "source": [
    "input_len = 20\n",
    "target_len = 28"
   ]
  },
  {
   "cell_type": "code",
   "execution_count": null,
   "metadata": {},
   "outputs": [],
   "source": [
    "def get_predictions(model, data_source_inputs, data_source_targets):\n",
    "\n",
    "    predictions = []\n",
    "    ground_truths = []\n",
    "    inputs = []\n",
    "    for i in range(0, data_source_inputs.shape[0], 1):\n",
    "        res = model.predict(data_source_inputs[i:i+1])\n",
    "        for j in range(target_len):\n",
    "            ground_truths.append(data_source_targets[i].squeeze().tolist())\n",
    "            predictions.append((tf.argmax(res[0,:,:], axis=1)).numpy().tolist())\n",
    "            if j < 20:\n",
    "                inputs.append(int(data_source_inputs[i][j]))\n",
    "            \n",
    "    return inputs, ground_truths, predictions"
   ]
  },
  {
   "cell_type": "code",
   "execution_count": null,
   "metadata": {},
   "outputs": [],
   "source": [
    "inputs_list, target_list, preds_list = get_predictions(model, test_data_inputs, test_data_targets)"
   ]
  },
  {
   "cell_type": "code",
   "execution_count": null,
   "metadata": {},
   "outputs": [],
   "source": [
    "len(inputs_list)"
   ]
  },
  {
   "cell_type": "code",
   "execution_count": null,
   "metadata": {},
   "outputs": [],
   "source": [
    "import math\n",
    "def calculate_eucledian_mse(targets, preds):\n",
    "  err = 0\n",
    "  for indx in range(0, len(targets)):\n",
    "    x_target = targets[indx] % 100\n",
    "    y_target = targets[indx] / 100\n",
    "\n",
    "    x_preds = preds[indx] % 100\n",
    "    y_preds = preds[indx] / 100\n",
    "\n",
    "    dist = math.hypot(x_target - x_preds, y_target - y_preds)\n",
    "    err += dist\n",
    "  return (err / len(targets))"
   ]
  },
  {
   "cell_type": "code",
   "execution_count": null,
   "metadata": {},
   "outputs": [],
   "source": [
    "calculate_eucledian_mse(target_list, preds_list)"
   ]
  },
  {
   "cell_type": "code",
   "execution_count": null,
   "metadata": {},
   "outputs": [],
   "source": [
    "import numpy as np\n",
    "import matplotlib.pyplot as plt\n",
    "\n",
    "def vis_trajectory_scatter(input_list, target_list, preds_list, lag_time = 1.0):\n",
    "    plt.figure(figsize=(3,3))\n",
    "    for i in range(0, len(input_list)):\n",
    "\n",
    "        inputs = input_list[i]\n",
    "        targets = target_list[i]\n",
    "        preds = preds_list[i]\n",
    "        \n",
    "        xy_inputs = []\n",
    "        xy_preds = []\n",
    "        xy_target = []\n",
    "\n",
    "        x = inputs % 100\n",
    "        y = inputs / 100 \n",
    "        xy_inputs.extend([x, y])\n",
    "\n",
    "        x = preds % 100\n",
    "        y = preds / 100 \n",
    "        xy_preds.extend([x, y])\n",
    "\n",
    "        x = targets % 100\n",
    "        y = targets / 100 \n",
    "        xy_target.extend([x, y])\n",
    "    print(xy_inputs)\n",
    "    print(xy_preds)\n",
    "    print(xy_target)\n",
    "    \"\"\"\n",
    "\n",
    "    x_inp, y_inp = zip(*xy_inputs)\n",
    "    x_tar, y_tar = zip(*xy_target)\n",
    "    x_pred, y_pred = zip(*xy_preds)\n",
    "\n",
    "    plt.scatter(x_inp,y_inp)\n",
    "    plt.scatter(x_tar,y_tar, color='r')\n",
    "    plt.scatter(x_pred,y_pred)\n",
    "\n",
    "    plt.xlim(0, 100)\n",
    "    plt.ylim(0, 100)\n",
    "\n",
    "    plt.show()\n",
    "    print(\"Input: \", xy_inputs)\n",
    "    print(\"Preds: \", xy_preds)\n",
    "    print(\"Truth: \", xy_target)\n",
    "    time.sleep(lag_time)\n",
    "    \"\"\""
   ]
  },
  {
   "cell_type": "code",
   "execution_count": null,
   "metadata": {},
   "outputs": [],
   "source": [
    "vis_trajectory_scatter(inputs_list, target_list, preds_list)"
   ]
  },
  {
   "cell_type": "code",
   "execution_count": null,
   "metadata": {},
   "outputs": [],
   "source": [
    "import numpy as np\n",
    "import matplotlib.pyplot as plt\n",
    "\n",
    "def vis_trajectory_scatter(input_list, target_list, preds_list, lag_time = 1.0):\n",
    "  \n",
    "  for i in range(1 ,1000, 20):\n",
    "\n",
    "    plt.figure(figsize=(5,5))\n",
    "    #inputs = input_list[i]\n",
    "    targets = target_list[i]\n",
    "    preds = preds_list[i]\n",
    "\n",
    "    xy_inputs = []\n",
    "    xy_preds = []\n",
    "    xy_target = []\n",
    "\n",
    "    \"\"\"\n",
    "    for inp in inputs:\n",
    "      x = inp % 100\n",
    "      y = inp / 100 \n",
    "\n",
    "      xy_inputs.append([x, y])\n",
    "    \"\"\"\n",
    "    for inp in preds:\n",
    "      x = inp % 100\n",
    "      y = inp / 100 \n",
    "      xy_preds.append([x, y])\n",
    "\n",
    "    for inp in targets:\n",
    "      x = inp % 100\n",
    "      y = inp / 100 \n",
    "      xy_target.append([x, y])\n",
    "\n",
    "    #x_inp, y_inp = zip(*xy_inputs)\n",
    "    x_tar, y_tar = zip(*xy_target)\n",
    "    x_pred, y_pred = zip(*xy_preds)\n",
    "\n",
    "    #plt.scatter(x_inp,y_inp)\n",
    "    plt.scatter(x_tar,y_tar, color='r')\n",
    "    plt.scatter(x_pred,y_pred)\n",
    "\n",
    "    plt.xlim(0, 100)\n",
    "    plt.ylim(0, 100)\n",
    "\n",
    "    plt.show()\n",
    "    print(\"Input: \", xy_inputs)\n",
    "    print(\"Preds: \", xy_preds)\n",
    "    print(\"Truth: \", xy_target)\n"
   ]
  },
  {
   "cell_type": "code",
   "execution_count": null,
   "metadata": {},
   "outputs": [],
   "source": [
    "vis_trajectory_scatter(inputs_list, target_list, preds_list)"
   ]
  },
  {
   "cell_type": "code",
   "execution_count": null,
   "metadata": {},
   "outputs": [],
   "source": [
    "target_list[3]"
   ]
  },
  {
   "cell_type": "code",
   "execution_count": null,
   "metadata": {},
   "outputs": [],
   "source": []
  },
  {
   "cell_type": "code",
   "execution_count": null,
   "metadata": {},
   "outputs": [],
   "source": []
  },
  {
   "cell_type": "code",
   "execution_count": null,
   "metadata": {},
   "outputs": [],
   "source": []
  },
  {
   "cell_type": "code",
   "execution_count": null,
   "metadata": {},
   "outputs": [],
   "source": []
  },
  {
   "cell_type": "code",
   "execution_count": null,
   "metadata": {},
   "outputs": [],
   "source": [
    "def get_coordinates():\n",
    "  #input_list, target_list, preds_list = get_predictions(best_model, data_src_inputs, data_src_targets)\n",
    "\n",
    "    min_val, max_val = 0, 100\n",
    "\n",
    "    xy_inputs = []\n",
    "    xy_preds = []\n",
    "    xy_target = []\n",
    "\n",
    "    for inp in inputs_list:\n",
    "      x = inp % 100\n",
    "      y = inp / 100 \n",
    "\n",
    "      xy_inputs.append([x, y])\n",
    "\n",
    "    for inp in preds_list:\n",
    "      x = inp % 100\n",
    "      y = inp / 100 \n",
    "      xy_preds.append([x, y])\n",
    "\n",
    "    for inp in target_list:\n",
    "      x = inp % 100\n",
    "      y = inp / 100 \n",
    "      xy_target.append([x, y])\n",
    "\n",
    "    x_inp, y_inp = zip(*xy_inputs)\n",
    "    x_tar, y_tar = zip(*xy_target)\n",
    "    x_pred, y_pred = zip(*xy_preds)\n",
    "    \n",
    "    return xy_inputs, xy_preds, xy_target"
   ]
  },
  {
   "cell_type": "code",
   "execution_count": null,
   "metadata": {},
   "outputs": [],
   "source": [
    "xy_in, xy_preds, xy_tar = get_coordinates()"
   ]
  },
  {
   "cell_type": "code",
   "execution_count": null,
   "metadata": {},
   "outputs": [],
   "source": [
    "output_df[['X_REAL', 'Y_REAL']] = scaler.inverse_transform(output_df[['X_REAL', 'Y_REAL']])\n",
    "output_df[['X_PRED', 'Y_PRED']] = scaler.inverse_transform(output_df[['X_PRED', 'Y_PRED']])"
   ]
  },
  {
   "cell_type": "code",
   "execution_count": null,
   "metadata": {},
   "outputs": [],
   "source": [
    "for inp in test_indx[0]:\n",
    "    print(inp)"
   ]
  },
  {
   "cell_type": "code",
   "execution_count": null,
   "metadata": {},
   "outputs": [],
   "source": []
  },
  {
   "cell_type": "code",
   "execution_count": null,
   "metadata": {},
   "outputs": [],
   "source": []
  }
 ],
 "metadata": {
  "colab": {
   "collapsed_sections": [],
   "name": "new_data_lstm_bins.ipynb",
   "provenance": []
  },
  "kernelspec": {
   "display_name": "Python 3",
   "language": "python",
   "name": "python3"
  },
  "language_info": {
   "codemirror_mode": {
    "name": "ipython",
    "version": 3
   },
   "file_extension": ".py",
   "mimetype": "text/x-python",
   "name": "python",
   "nbconvert_exporter": "python",
   "pygments_lexer": "ipython3",
   "version": "3.7.9"
  }
 },
 "nbformat": 4,
 "nbformat_minor": 1
}
