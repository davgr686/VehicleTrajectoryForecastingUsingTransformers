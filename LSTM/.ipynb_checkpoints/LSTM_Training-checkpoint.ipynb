{
 "cells": [
  {
   "cell_type": "code",
   "execution_count": 1,
   "metadata": {
    "id": "_fywMUUtgwRr"
   },
   "outputs": [],
   "source": [
    "import numpy as np\n",
    "from tensorflow.keras.models import Sequential\n",
    "from tensorflow.keras.layers import Dense, LSTM, RepeatVector\n",
    "import tensorflow as tf\n",
    "import os\n",
    "from keras.layers import TimeDistributed\n",
    "import matplotlib.pyplot as plt\n",
    "import urllib.request\n",
    "import pandas as pd\n",
    "from sklearn.model_selection import train_test_split\n",
    "from sklearn.preprocessing import MinMaxScaler\n",
    "import keras\n",
    "from matplotlib import pyplot as plt\n",
    "from keras.models import Sequential\n",
    "from keras.layers import Dense\n",
    "from keras.layers import LSTM\n",
    "from keras.layers import Embedding\n",
    "import joblib\n",
    "physical_devices = tf.config.list_physical_devices('GPU')\n",
    "tf.config.experimental.set_memory_growth(physical_devices[0], enable=True)"
   ]
  },
  {
   "cell_type": "code",
   "execution_count": 2,
   "metadata": {},
   "outputs": [
    {
     "name": "stdout",
     "output_type": "stream",
     "text": [
      "Num GPUs Available:  1\n"
     ]
    }
   ],
   "source": [
    "import tensorflow as tf\n",
    "print(\"Num GPUs Available: \", len(tf.config.experimental.list_physical_devices('GPU')))"
   ]
  },
  {
   "cell_type": "code",
   "execution_count": 3,
   "metadata": {
    "colab": {
     "base_uri": "https://localhost:8080/",
     "height": 297
    },
    "id": "c481ZU6qiFfc",
    "outputId": "db1b5727-f004-40cc-bfb7-09f767601ef0"
   },
   "outputs": [
    {
     "data": {
      "text/html": [
       "<div>\n",
       "<style scoped>\n",
       "    .dataframe tbody tr th:only-of-type {\n",
       "        vertical-align: middle;\n",
       "    }\n",
       "\n",
       "    .dataframe tbody tr th {\n",
       "        vertical-align: top;\n",
       "    }\n",
       "\n",
       "    .dataframe thead th {\n",
       "        text-align: right;\n",
       "    }\n",
       "</style>\n",
       "<table border=\"1\" class=\"dataframe\">\n",
       "  <thead>\n",
       "    <tr style=\"text-align: right;\">\n",
       "      <th></th>\n",
       "      <th>Unnamed: 0</th>\n",
       "      <th>Vehicle_ID</th>\n",
       "      <th>X</th>\n",
       "      <th>Y</th>\n",
       "      <th>X_REL</th>\n",
       "      <th>Y_REL</th>\n",
       "    </tr>\n",
       "  </thead>\n",
       "  <tbody>\n",
       "    <tr>\n",
       "      <th>count</th>\n",
       "      <td>271800.00000</td>\n",
       "      <td>271800.000000</td>\n",
       "      <td>271800.000000</td>\n",
       "      <td>271800.000000</td>\n",
       "      <td>2.718000e+05</td>\n",
       "      <td>2.718000e+05</td>\n",
       "    </tr>\n",
       "    <tr>\n",
       "      <th>mean</th>\n",
       "      <td>135899.50000</td>\n",
       "      <td>138713.465784</td>\n",
       "      <td>151.187284</td>\n",
       "      <td>-33.894814</td>\n",
       "      <td>2.749781e-07</td>\n",
       "      <td>1.825982e-06</td>\n",
       "    </tr>\n",
       "    <tr>\n",
       "      <th>std</th>\n",
       "      <td>78462.04592</td>\n",
       "      <td>79858.222190</td>\n",
       "      <td>0.001347</td>\n",
       "      <td>0.000500</td>\n",
       "      <td>8.489875e-05</td>\n",
       "      <td>6.043587e-05</td>\n",
       "    </tr>\n",
       "    <tr>\n",
       "      <th>min</th>\n",
       "      <td>0.00000</td>\n",
       "      <td>0.000000</td>\n",
       "      <td>151.184733</td>\n",
       "      <td>-33.895679</td>\n",
       "      <td>-2.552615e-04</td>\n",
       "      <td>-2.656096e-04</td>\n",
       "    </tr>\n",
       "    <tr>\n",
       "      <th>25%</th>\n",
       "      <td>67949.75000</td>\n",
       "      <td>69800.000000</td>\n",
       "      <td>151.186314</td>\n",
       "      <td>-33.895216</td>\n",
       "      <td>-4.766988e-05</td>\n",
       "      <td>-3.103745e-05</td>\n",
       "    </tr>\n",
       "    <tr>\n",
       "      <th>50%</th>\n",
       "      <td>135899.50000</td>\n",
       "      <td>140000.000000</td>\n",
       "      <td>151.187419</td>\n",
       "      <td>-33.894842</td>\n",
       "      <td>-7.275850e-07</td>\n",
       "      <td>7.409000e-07</td>\n",
       "    </tr>\n",
       "    <tr>\n",
       "      <th>75%</th>\n",
       "      <td>203849.25000</td>\n",
       "      <td>208000.000000</td>\n",
       "      <td>151.187992</td>\n",
       "      <td>-33.894474</td>\n",
       "      <td>4.831394e-05</td>\n",
       "      <td>3.432616e-05</td>\n",
       "    </tr>\n",
       "    <tr>\n",
       "      <th>max</th>\n",
       "      <td>271799.00000</td>\n",
       "      <td>275800.000000</td>\n",
       "      <td>151.192349</td>\n",
       "      <td>-33.892186</td>\n",
       "      <td>2.641862e-04</td>\n",
       "      <td>2.736990e-04</td>\n",
       "    </tr>\n",
       "  </tbody>\n",
       "</table>\n",
       "</div>"
      ],
      "text/plain": [
       "         Unnamed: 0     Vehicle_ID              X              Y  \\\n",
       "count  271800.00000  271800.000000  271800.000000  271800.000000   \n",
       "mean   135899.50000  138713.465784     151.187284     -33.894814   \n",
       "std     78462.04592   79858.222190       0.001347       0.000500   \n",
       "min         0.00000       0.000000     151.184733     -33.895679   \n",
       "25%     67949.75000   69800.000000     151.186314     -33.895216   \n",
       "50%    135899.50000  140000.000000     151.187419     -33.894842   \n",
       "75%    203849.25000  208000.000000     151.187992     -33.894474   \n",
       "max    271799.00000  275800.000000     151.192349     -33.892186   \n",
       "\n",
       "              X_REL         Y_REL  \n",
       "count  2.718000e+05  2.718000e+05  \n",
       "mean   2.749781e-07  1.825982e-06  \n",
       "std    8.489875e-05  6.043587e-05  \n",
       "min   -2.552615e-04 -2.656096e-04  \n",
       "25%   -4.766988e-05 -3.103745e-05  \n",
       "50%   -7.275850e-07  7.409000e-07  \n",
       "75%    4.831394e-05  3.432616e-05  \n",
       "max    2.641862e-04  2.736990e-04  "
      ]
     },
     "execution_count": 3,
     "metadata": {},
     "output_type": "execute_result"
    }
   ],
   "source": [
    "\"\"\"\n",
    "Training Data\n",
    "\"\"\"\n",
    "#data = pd.read_csv(\"traj_100_seq_train.csv\")\n",
    "data = pd.read_csv(\"data/traj_200_seq_train.csv\")\n",
    "data.describe()"
   ]
  },
  {
   "cell_type": "code",
   "execution_count": 4,
   "metadata": {
    "id": "nZF9fgKtiYR3"
   },
   "outputs": [],
   "source": [
    "\"\"\"\n",
    "Preprocess data, removed torch tensors return type, now np arrays\n",
    "\"\"\"\n",
    "def preprocess_dataset(data, max = 10, max_len = 40, input_len = 30):\n",
    "    scaler = MinMaxScaler(feature_range=(0, max))\n",
    "    data[['X_REL', 'Y_REL']] = scaler.fit_transform(data[['X_REL', 'Y_REL']])\n",
    "    #joblib.dump(scaler, \"100seq.save\") \n",
    "    #scaler = joblib.load(\"scaler_100_seq_v3.save\")\n",
    "    #data[['X_REL', 'Y_REL']] = scaler.transform(data[['X_REL', 'Y_REL']])\n",
    "    unique_peds = data['Vehicle_ID'].unique()\n",
    "    unique_peds = sorted(unique_peds)\n",
    "    inputs = []\n",
    "    outputs = []\n",
    "    indexes = []\n",
    "    for ped in unique_peds:\n",
    "        if (len(data[data['Vehicle_ID'] == ped]) >= max_len):\n",
    "          seq_inner = []\n",
    "          indexes_inner = []\n",
    "          i = 0\n",
    "          for indx, row in data[data['Vehicle_ID'] == ped].iterrows():\n",
    "            x = round(row['X_REL'])\n",
    "            y = round(row['Y_REL'])\n",
    "            ## Cantor pairing function:\n",
    "            bin = y * max + x\n",
    "            i += 1\n",
    "            if i == max_len:\n",
    "              break\n",
    "            seq_inner.append(int(bin))\n",
    "            indexes_inner.append(ped)\n",
    "          inputs.append([seq_inner[0:input_len]])\n",
    "          outputs.append([seq_inner[input_len + 1:]])\n",
    "          indexes.append([indexes_inner])\n",
    "        \n",
    "    train_inputs, test_inputs, train_targets, test_targets, train_indx, test_indx = train_test_split(inputs, outputs, indexes, train_size=0.7, random_state=200)\n",
    "    return np.array(train_inputs), np.array(test_inputs), np.array(train_targets), np.array(test_targets), train_indx, test_indx"
   ]
  },
  {
   "cell_type": "code",
   "execution_count": 5,
   "metadata": {
    "id": "ZyuTi2XPe4qn"
   },
   "outputs": [],
   "source": [
    "train_data_inputs, test_data_inputs, train_data_targets, test_data_targets, train_indx, test_indx = preprocess_dataset(data, max = 30, max_len = 200, input_len = 100)"
   ]
  },
  {
   "cell_type": "code",
   "execution_count": 6,
   "metadata": {},
   "outputs": [
    {
     "data": {
      "text/plain": [
       "array([[[465, 465, 465, ..., 501, 501, 501]],\n",
       "\n",
       "       [[465, 465, 465, ..., 399, 399, 399]],\n",
       "\n",
       "       [[465, 465, 465, ..., 398, 398, 398]],\n",
       "\n",
       "       ...,\n",
       "\n",
       "       [[465, 465, 465, ..., 493, 493, 493]],\n",
       "\n",
       "       [[465, 465, 465, ..., 531, 531, 531]],\n",
       "\n",
       "       [[465, 465, 465, ..., 441, 441, 441]]])"
      ]
     },
     "execution_count": 6,
     "metadata": {},
     "output_type": "execute_result"
    }
   ],
   "source": [
    "train_data_inputs"
   ]
  },
  {
   "cell_type": "code",
   "execution_count": 9,
   "metadata": {
    "colab": {
     "base_uri": "https://localhost:8080/"
    },
    "id": "28uqOxTlkDTE",
    "outputId": "685884e0-d0b3-4031-8bb5-c04e55b6a63e"
   },
   "outputs": [],
   "source": [
    "\n",
    "train_data_inputs = train_data_inputs.reshape(train_data_inputs.shape[0], train_data_inputs.shape[2], 1)\n",
    "train_data_targets = train_data_targets.reshape(train_data_targets.shape[0], train_data_targets.shape[2], 1)\n"
   ]
  },
  {
   "cell_type": "code",
   "execution_count": 10,
   "metadata": {
    "colab": {
     "base_uri": "https://localhost:8080/"
    },
    "id": "8AbipVV-bAXN",
    "outputId": "b8564f82-8c44-4602-b826-db628fde5002"
   },
   "outputs": [],
   "source": [
    "\n",
    "test_data_inputs = test_data_inputs.reshape(test_data_inputs.shape[0], test_data_inputs.shape[2], 1)\n",
    "test_data_targets = test_data_targets.reshape(test_data_targets.shape[0], test_data_targets.shape[2], 1)\n"
   ]
  },
  {
   "cell_type": "code",
   "execution_count": 13,
   "metadata": {},
   "outputs": [
    {
     "data": {
      "text/plain": [
       "(811, 20, 1)"
      ]
     },
     "execution_count": 13,
     "metadata": {},
     "output_type": "execute_result"
    }
   ],
   "source": [
    "test_data_targets.shape"
   ]
  },
  {
   "cell_type": "code",
   "execution_count": 14,
   "metadata": {
    "id": "tLTmi_3nychJ"
   },
   "outputs": [],
   "source": [
    "vocab_size = (30 * 30) + 30\n",
    "input_len = 11\n",
    "target_len = 20"
   ]
  },
  {
   "cell_type": "code",
   "execution_count": 15,
   "metadata": {
    "id": "9qzKjxoKGrf9",
    "scrolled": true
   },
   "outputs": [
    {
     "name": "stdout",
     "output_type": "stream",
     "text": [
      "Model: \"sequential\"\n",
      "_________________________________________________________________\n",
      "Layer (type)                 Output Shape              Param #   \n",
      "=================================================================\n",
      "embedding (Embedding)        (None, 11, 256)           238080    \n",
      "_________________________________________________________________\n",
      "lstm (LSTM)                  (None, 256)               525312    \n",
      "_________________________________________________________________\n",
      "repeat_vector (RepeatVector) (None, 20, 256)           0         \n",
      "_________________________________________________________________\n",
      "lstm_1 (LSTM)                (None, 20, 256)           525312    \n",
      "_________________________________________________________________\n",
      "time_distributed (TimeDistri (None, 20, 930)           239010    \n",
      "=================================================================\n",
      "Total params: 1,527,714\n",
      "Trainable params: 1,527,714\n",
      "Non-trainable params: 0\n",
      "_________________________________________________________________\n"
     ]
    }
   ],
   "source": [
    "#https://towardsdatascience.com/how-to-build-an-encoder-decoder-translation-model-using-lstm-with-python-and-keras-a31e9d864b9b\n",
    "#https://machinelearningmastery.com/how-to-use-an-encoder-decoder-lstm-to-echo-sequences-of-random-integers/\n",
    "\n",
    "callback = tf.keras.callbacks.EarlyStopping(monitor='val_loss', patience=10, restore_best_weights=True)\n",
    "\n",
    "model = Sequential()\n",
    "model.add(tf.keras.layers.Input(shape=(input_len,)))\n",
    "model.add(tf.keras.layers.Embedding(vocab_size, 256))#, input_length = input_len))\n",
    "\n",
    "model.add(LSTM(256, activation='tanh', return_sequences=False, stateful=False, dropout=0.20))\n",
    "\n",
    "model.add(RepeatVector(target_len))\n",
    "model.add(LSTM(256, return_sequences=True, activation='tanh', stateful=False, dropout=0.20))\n",
    "\n",
    "model.add(TimeDistributed(Dense(vocab_size, activation='softmax')))\n",
    "          \n",
    "opt = keras.optimizers.SGD(learning_rate=0.01, momentum=0.95)\n",
    "model.compile(loss='sparse_categorical_crossentropy', optimizer=opt, metrics=['accuracy'])\n",
    "model.summary()"
   ]
  },
  {
   "cell_type": "code",
   "execution_count": 23,
   "metadata": {},
   "outputs": [
    {
     "name": "stdout",
     "output_type": "stream",
     "text": [
      "Epoch 1/10\n",
      "1892/1892 [==============================] - 14s 7ms/step - loss: 0.8341 - accuracy: 0.6687 - val_loss: 1.3749 - val_accuracy: 0.5701\n",
      "Epoch 2/10\n",
      "1892/1892 [==============================] - 14s 7ms/step - loss: 0.8233 - accuracy: 0.6706 - val_loss: 1.3998 - val_accuracy: 0.5716\n",
      "Epoch 3/10\n",
      "1892/1892 [==============================] - 14s 7ms/step - loss: 0.8332 - accuracy: 0.6664 - val_loss: 1.3773 - val_accuracy: 0.5746\n",
      "Epoch 4/10\n",
      "1892/1892 [==============================] - 14s 7ms/step - loss: 0.8181 - accuracy: 0.6719 - val_loss: 1.3781 - val_accuracy: 0.5732\n",
      "Epoch 5/10\n",
      "1892/1892 [==============================] - 14s 7ms/step - loss: 0.8553 - accuracy: 0.6603 - val_loss: 1.4410 - val_accuracy: 0.5640\n",
      "Epoch 6/10\n",
      "1892/1892 [==============================] - 14s 7ms/step - loss: 0.8311 - accuracy: 0.6652 - val_loss: 1.4019 - val_accuracy: 0.5707\n",
      "Epoch 7/10\n",
      "1892/1892 [==============================] - 14s 7ms/step - loss: 0.8237 - accuracy: 0.6708 - val_loss: 1.3874 - val_accuracy: 0.5737\n",
      "Epoch 8/10\n",
      "1892/1892 [==============================] - 14s 7ms/step - loss: 0.8088 - accuracy: 0.6748 - val_loss: 1.3976 - val_accuracy: 0.5736\n",
      "Epoch 9/10\n",
      "1892/1892 [==============================] - 14s 7ms/step - loss: 0.8011 - accuracy: 0.6793 - val_loss: 1.3923 - val_accuracy: 0.5759\n",
      "Epoch 10/10\n",
      "1892/1892 [==============================] - 14s 7ms/step - loss: 0.7982 - accuracy: 0.6829 - val_loss: 1.3861 - val_accuracy: 0.5747\n"
     ]
    }
   ],
   "source": [
    "model_results = model.fit(train_data_inputs, train_data_targets, batch_size=1, epochs=10, callbacks=[callback], validation_data=(test_data_inputs, test_data_targets))"
   ]
  },
  {
   "cell_type": "code",
   "execution_count": null,
   "metadata": {},
   "outputs": [],
   "source": [
    "p = model.predict(test_data_inputs[0:1])\n",
    "print(p.shape)\n",
    "print(p)"
   ]
  },
  {
   "cell_type": "code",
   "execution_count": 17,
   "metadata": {},
   "outputs": [],
   "source": [
    "model.save('New_LSTM_33seq.h5')"
   ]
  },
  {
   "cell_type": "code",
   "execution_count": 18,
   "metadata": {},
   "outputs": [
    {
     "data": {
      "text/plain": [
       "{'loss': [5.149202823638916,\n",
       "  3.2471868991851807,\n",
       "  2.4645442962646484,\n",
       "  2.121652364730835,\n",
       "  1.8800681829452515,\n",
       "  1.7252243757247925,\n",
       "  1.5771647691726685,\n",
       "  1.4961459636688232,\n",
       "  1.4387447834014893,\n",
       "  1.38913094997406,\n",
       "  1.4070006608963013,\n",
       "  1.338568925857544,\n",
       "  1.2698333263397217,\n",
       "  1.2289226055145264,\n",
       "  1.1908100843429565,\n",
       "  1.1768144369125366,\n",
       "  1.1306389570236206,\n",
       "  1.1198890209197998,\n",
       "  1.1199212074279785,\n",
       "  1.0956065654754639,\n",
       "  1.059048056602478,\n",
       "  1.0410850048065186,\n",
       "  1.0378808975219727,\n",
       "  1.02122163772583,\n",
       "  1.0070359706878662,\n",
       "  1.0113182067871094,\n",
       "  0.9912527203559875,\n",
       "  0.9817204475402832,\n",
       "  0.9846585988998413,\n",
       "  0.9565337300300598,\n",
       "  0.9438543915748596,\n",
       "  0.93613201379776,\n",
       "  0.9188769459724426,\n",
       "  0.927739679813385,\n",
       "  0.9165377616882324,\n",
       "  0.9159231781959534,\n",
       "  0.9123283624649048],\n",
       " 'accuracy': [0.07174947112798691,\n",
       "  0.2300211489200592,\n",
       "  0.31355708837509155,\n",
       "  0.36041226983070374,\n",
       "  0.40938159823417664,\n",
       "  0.43551796674728394,\n",
       "  0.4674947261810303,\n",
       "  0.48559725284576416,\n",
       "  0.4995771646499634,\n",
       "  0.5115221738815308,\n",
       "  0.5025634169578552,\n",
       "  0.5196881890296936,\n",
       "  0.5412262082099915,\n",
       "  0.5513741970062256,\n",
       "  0.564032793045044,\n",
       "  0.5671775937080383,\n",
       "  0.5780127048492432,\n",
       "  0.5831395387649536,\n",
       "  0.5802061557769775,\n",
       "  0.5891384482383728,\n",
       "  0.6015592217445374,\n",
       "  0.6064746379852295,\n",
       "  0.6069503426551819,\n",
       "  0.6115486025810242,\n",
       "  0.619001030921936,\n",
       "  0.6155919432640076,\n",
       "  0.6192653179168701,\n",
       "  0.6215116381645203,\n",
       "  0.6212737560272217,\n",
       "  0.6337209343910217,\n",
       "  0.6365750432014465,\n",
       "  0.6356236934661865,\n",
       "  0.6411469578742981,\n",
       "  0.6385834813117981,\n",
       "  0.6444239020347595,\n",
       "  0.6424154043197632,\n",
       "  0.6422568559646606],\n",
       " 'val_loss': [3.8631584644317627,\n",
       "  2.686434745788574,\n",
       "  2.2826387882232666,\n",
       "  1.9703940153121948,\n",
       "  1.8726699352264404,\n",
       "  1.7532178163528442,\n",
       "  1.6379657983779907,\n",
       "  1.549177646636963,\n",
       "  1.6236354112625122,\n",
       "  1.573678731918335,\n",
       "  1.5402408838272095,\n",
       "  1.4079819917678833,\n",
       "  1.448783278465271,\n",
       "  1.4225642681121826,\n",
       "  1.3924874067306519,\n",
       "  1.3928115367889404,\n",
       "  1.3478461503982544,\n",
       "  1.3525665998458862,\n",
       "  1.3260964155197144,\n",
       "  1.365694522857666,\n",
       "  1.3469454050064087,\n",
       "  1.329359531402588,\n",
       "  1.348825454711914,\n",
       "  1.3333526849746704,\n",
       "  1.2982114553451538,\n",
       "  1.324805498123169,\n",
       "  1.281761646270752,\n",
       "  1.3570195436477661,\n",
       "  1.3098763227462769,\n",
       "  1.3584413528442383,\n",
       "  1.3316375017166138,\n",
       "  1.326084852218628,\n",
       "  1.3617615699768066,\n",
       "  1.3685020208358765,\n",
       "  1.3218940496444702,\n",
       "  1.330585241317749,\n",
       "  1.3183412551879883],\n",
       " 'val_accuracy': [0.16886559128761292,\n",
       "  0.28896424174308777,\n",
       "  0.3348335325717926,\n",
       "  0.38563501834869385,\n",
       "  0.41165226697921753,\n",
       "  0.44099876284599304,\n",
       "  0.46313193440437317,\n",
       "  0.482675701379776,\n",
       "  0.4630086421966553,\n",
       "  0.4885326623916626,\n",
       "  0.49377313256263733,\n",
       "  0.5242293477058411,\n",
       "  0.507028341293335,\n",
       "  0.5262638926506042,\n",
       "  0.5262022018432617,\n",
       "  0.5348951816558838,\n",
       "  0.5481504201889038,\n",
       "  0.5293464660644531,\n",
       "  0.5516645908355713,\n",
       "  0.5345252752304077,\n",
       "  0.5502465963363647,\n",
       "  0.5580148100852966,\n",
       "  0.5527126789093018,\n",
       "  0.5588779449462891,\n",
       "  0.5652897953987122,\n",
       "  0.559679388999939,\n",
       "  0.5681257843971252,\n",
       "  0.556411862373352,\n",
       "  0.568002462387085,\n",
       "  0.5525277256965637,\n",
       "  0.5630702972412109,\n",
       "  0.5665228366851807,\n",
       "  0.5531442761421204,\n",
       "  0.5612823963165283,\n",
       "  0.5748458504676819,\n",
       "  0.5694204568862915,\n",
       "  0.5696054100990295]}"
      ]
     },
     "execution_count": 18,
     "metadata": {},
     "output_type": "execute_result"
    }
   ],
   "source": [
    "model_results.history"
   ]
  },
  {
   "cell_type": "code",
   "execution_count": 21,
   "metadata": {
    "colab": {
     "base_uri": "https://localhost:8080/",
     "height": 480
    },
    "id": "Rj7IS3DbKq4Z",
    "outputId": "4f6b2791-d30e-444f-bce3-2a513f81a8bb"
   },
   "outputs": [
    {
     "data": {
      "image/png": "[encoded data removed]",
      "text/plain": [
       "<Figure size 432x288 with 1 Axes>"
      ]
     },
     "metadata": {
      "needs_background": "light"
     },
     "output_type": "display_data"
    }
   ],
   "source": [
    "#plotting losses, https://stackoverflow.com/questions/41908379/keras-plot-training-validation-and-test-set-accuracy\n",
    "plt.plot(model_results.history['loss'])\n",
    "plt.plot(model_results.history['val_loss'])\n",
    "plt.title('model loss')\n",
    "plt.ylabel('loss')\n",
    "plt.xlabel('epoch')\n",
    "plt.legend(['train', 'val'], loc='upper left')\n",
    "plt.show()"
   ]
  },
  {
   "cell_type": "code",
   "execution_count": null,
   "metadata": {},
   "outputs": [],
   "source": [
    "input_len = 20\n",
    "target_len = 28"
   ]
  },
  {
   "cell_type": "code",
   "execution_count": null,
   "metadata": {},
   "outputs": [],
   "source": [
    "def get_predictions(model, data_source_inputs, data_source_targets):\n",
    "\n",
    "    predictions = []\n",
    "    ground_truths = []\n",
    "    inputs = []\n",
    "    for i in range(0, data_source_inputs.shape[0], 1):\n",
    "        res = model.predict(data_source_inputs[i:i+1])\n",
    "        for j in range(target_len):\n",
    "            ground_truths.append(data_source_targets[i].squeeze().tolist())\n",
    "            predictions.append((tf.argmax(res[0,:,:], axis=1)).numpy().tolist())\n",
    "            if j < 20:\n",
    "                inputs.append(int(data_source_inputs[i][j]))\n",
    "            \n",
    "    return inputs, ground_truths, predictions"
   ]
  },
  {
   "cell_type": "code",
   "execution_count": null,
   "metadata": {},
   "outputs": [],
   "source": [
    "inputs_list, target_list, preds_list = get_predictions(model, test_data_inputs, test_data_targets)"
   ]
  },
  {
   "cell_type": "code",
   "execution_count": null,
   "metadata": {},
   "outputs": [],
   "source": [
    "len(inputs_list)"
   ]
  },
  {
   "cell_type": "code",
   "execution_count": null,
   "metadata": {},
   "outputs": [],
   "source": [
    "import math\n",
    "def calculate_eucledian_mse(targets, preds):\n",
    "  err = 0\n",
    "  for indx in range(0, len(targets)):\n",
    "    x_target = targets[indx] % 100\n",
    "    y_target = targets[indx] / 100\n",
    "\n",
    "    x_preds = preds[indx] % 100\n",
    "    y_preds = preds[indx] / 100\n",
    "\n",
    "    dist = math.hypot(x_target - x_preds, y_target - y_preds)\n",
    "    err += dist\n",
    "  return (err / len(targets))"
   ]
  },
  {
   "cell_type": "code",
   "execution_count": null,
   "metadata": {},
   "outputs": [],
   "source": [
    "calculate_eucledian_mse(target_list, preds_list)"
   ]
  },
  {
   "cell_type": "code",
   "execution_count": null,
   "metadata": {},
   "outputs": [],
   "source": [
    "import numpy as np\n",
    "import matplotlib.pyplot as plt\n",
    "\n",
    "def vis_trajectory_scatter(input_list, target_list, preds_list, lag_time = 1.0):\n",
    "    plt.figure(figsize=(3,3))\n",
    "    for i in range(0, len(input_list)):\n",
    "\n",
    "        inputs = input_list[i]\n",
    "        targets = target_list[i]\n",
    "        preds = preds_list[i]\n",
    "        \n",
    "        xy_inputs = []\n",
    "        xy_preds = []\n",
    "        xy_target = []\n",
    "\n",
    "        x = inputs % 100\n",
    "        y = inputs / 100 \n",
    "        xy_inputs.extend([x, y])\n",
    "\n",
    "        x = preds % 100\n",
    "        y = preds / 100 \n",
    "        xy_preds.extend([x, y])\n",
    "\n",
    "        x = targets % 100\n",
    "        y = targets / 100 \n",
    "        xy_target.extend([x, y])\n",
    "    print(xy_inputs)\n",
    "    print(xy_preds)\n",
    "    print(xy_target)\n",
    "    \"\"\"\n",
    "\n",
    "    x_inp, y_inp = zip(*xy_inputs)\n",
    "    x_tar, y_tar = zip(*xy_target)\n",
    "    x_pred, y_pred = zip(*xy_preds)\n",
    "\n",
    "    plt.scatter(x_inp,y_inp)\n",
    "    plt.scatter(x_tar,y_tar, color='r')\n",
    "    plt.scatter(x_pred,y_pred)\n",
    "\n",
    "    plt.xlim(0, 100)\n",
    "    plt.ylim(0, 100)\n",
    "\n",
    "    plt.show()\n",
    "    print(\"Input: \", xy_inputs)\n",
    "    print(\"Preds: \", xy_preds)\n",
    "    print(\"Truth: \", xy_target)\n",
    "    time.sleep(lag_time)\n",
    "    \"\"\""
   ]
  },
  {
   "cell_type": "code",
   "execution_count": null,
   "metadata": {},
   "outputs": [],
   "source": [
    "vis_trajectory_scatter(inputs_list, target_list, preds_list)"
   ]
  },
  {
   "cell_type": "code",
   "execution_count": null,
   "metadata": {},
   "outputs": [],
   "source": [
    "import numpy as np\n",
    "import matplotlib.pyplot as plt\n",
    "\n",
    "def vis_trajectory_scatter(input_list, target_list, preds_list, lag_time = 1.0):\n",
    "  \n",
    "  for i in range(1 ,1000, 20):\n",
    "\n",
    "    plt.figure(figsize=(5,5))\n",
    "    #inputs = input_list[i]\n",
    "    targets = target_list[i]\n",
    "    preds = preds_list[i]\n",
    "\n",
    "    xy_inputs = []\n",
    "    xy_preds = []\n",
    "    xy_target = []\n",
    "\n",
    "    \"\"\"\n",
    "    for inp in inputs:\n",
    "      x = inp % 100\n",
    "      y = inp / 100 \n",
    "\n",
    "      xy_inputs.append([x, y])\n",
    "    \"\"\"\n",
    "    for inp in preds:\n",
    "      x = inp % 100\n",
    "      y = inp / 100 \n",
    "      xy_preds.append([x, y])\n",
    "\n",
    "    for inp in targets:\n",
    "      x = inp % 100\n",
    "      y = inp / 100 \n",
    "      xy_target.append([x, y])\n",
    "\n",
    "    #x_inp, y_inp = zip(*xy_inputs)\n",
    "    x_tar, y_tar = zip(*xy_target)\n",
    "    x_pred, y_pred = zip(*xy_preds)\n",
    "\n",
    "    #plt.scatter(x_inp,y_inp)\n",
    "    plt.scatter(x_tar,y_tar, color='r')\n",
    "    plt.scatter(x_pred,y_pred)\n",
    "\n",
    "    plt.xlim(0, 100)\n",
    "    plt.ylim(0, 100)\n",
    "\n",
    "    plt.show()\n",
    "    print(\"Input: \", xy_inputs)\n",
    "    print(\"Preds: \", xy_preds)\n",
    "    print(\"Truth: \", xy_target)\n"
   ]
  },
  {
   "cell_type": "code",
   "execution_count": null,
   "metadata": {},
   "outputs": [],
   "source": [
    "vis_trajectory_scatter(inputs_list, target_list, preds_list)"
   ]
  },
  {
   "cell_type": "code",
   "execution_count": null,
   "metadata": {},
   "outputs": [],
   "source": [
    "target_list[3]"
   ]
  },
  {
   "cell_type": "code",
   "execution_count": null,
   "metadata": {},
   "outputs": [],
   "source": []
  },
  {
   "cell_type": "code",
   "execution_count": null,
   "metadata": {},
   "outputs": [],
   "source": []
  },
  {
   "cell_type": "code",
   "execution_count": null,
   "metadata": {},
   "outputs": [],
   "source": []
  },
  {
   "cell_type": "code",
   "execution_count": null,
   "metadata": {},
   "outputs": [],
   "source": []
  },
  {
   "cell_type": "code",
   "execution_count": null,
   "metadata": {},
   "outputs": [],
   "source": [
    "def get_coordinates():\n",
    "  #input_list, target_list, preds_list = get_predictions(best_model, data_src_inputs, data_src_targets)\n",
    "\n",
    "    min_val, max_val = 0, 100\n",
    "\n",
    "    xy_inputs = []\n",
    "    xy_preds = []\n",
    "    xy_target = []\n",
    "\n",
    "    for inp in inputs_list:\n",
    "      x = inp % 100\n",
    "      y = inp / 100 \n",
    "\n",
    "      xy_inputs.append([x, y])\n",
    "\n",
    "    for inp in preds_list:\n",
    "      x = inp % 100\n",
    "      y = inp / 100 \n",
    "      xy_preds.append([x, y])\n",
    "\n",
    "    for inp in target_list:\n",
    "      x = inp % 100\n",
    "      y = inp / 100 \n",
    "      xy_target.append([x, y])\n",
    "\n",
    "    x_inp, y_inp = zip(*xy_inputs)\n",
    "    x_tar, y_tar = zip(*xy_target)\n",
    "    x_pred, y_pred = zip(*xy_preds)\n",
    "    \n",
    "    return xy_inputs, xy_preds, xy_target"
   ]
  },
  {
   "cell_type": "code",
   "execution_count": null,
   "metadata": {},
   "outputs": [],
   "source": [
    "xy_in, xy_preds, xy_tar = get_coordinates()"
   ]
  },
  {
   "cell_type": "code",
   "execution_count": null,
   "metadata": {},
   "outputs": [],
   "source": [
    "output_df[['X_REAL', 'Y_REAL']] = scaler.inverse_transform(output_df[['X_REAL', 'Y_REAL']])\n",
    "output_df[['X_PRED', 'Y_PRED']] = scaler.inverse_transform(output_df[['X_PRED', 'Y_PRED']])"
   ]
  },
  {
   "cell_type": "code",
   "execution_count": null,
   "metadata": {},
   "outputs": [],
   "source": [
    "for inp in test_indx[0]:\n",
    "    print(inp)"
   ]
  },
  {
   "cell_type": "code",
   "execution_count": null,
   "metadata": {},
   "outputs": [],
   "source": []
  },
  {
   "cell_type": "code",
   "execution_count": null,
   "metadata": {},
   "outputs": [],
   "source": []
  }
 ],
 "metadata": {
  "colab": {
   "collapsed_sections": [],
   "name": "new_data_lstm_bins.ipynb",
   "provenance": []
  },
  "kernelspec": {
   "display_name": "Python 3",
   "language": "python",
   "name": "python3"
  },
  "language_info": {
   "codemirror_mode": {
    "name": "ipython",
    "version": 3
   },
   "file_extension": ".py",
   "mimetype": "text/x-python",
   "name": "python",
   "nbconvert_exporter": "python",
   "pygments_lexer": "ipython3",
   "version": "3.7.9"
  }
 },
 "nbformat": 4,
 "nbformat_minor": 1
}
